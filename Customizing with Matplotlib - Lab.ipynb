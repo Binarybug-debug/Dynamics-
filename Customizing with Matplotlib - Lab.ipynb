{
  "cells": [
    {
      "cell_type": "markdown",
      "metadata": {
        "id": "view-in-github",
        "colab_type": "text"
      },
      "source": [
        "<a href=\"https://colab.research.google.com/github/Binarybug-debug/Dynamics-/blob/main/Customizing%20with%20Matplotlib%20-%20Lab.ipynb\" target=\"_parent\"><img src=\"https://colab.research.google.com/assets/colab-badge.svg\" alt=\"Open In Colab\"/></a>"
      ]
    },
    {
      "cell_type": "markdown",
      "metadata": {
        "id": "53zwlKhXXiwi"
      },
      "source": [
        "# Customizing Visualizations with Matplotlib - Lab\n",
        "\n",
        "## Introduction\n",
        "\n",
        "This lab requires you to draw some basic visualizations using the techniques from the previous lesson.\n",
        "\n",
        "## Objectives\n",
        "\n",
        "You will be able to:\n",
        "\n",
        "* Create subplots using a Matplotlib figure\n",
        "* Use different linestyles within a Matplotlib visualization\n",
        "* Create labels and titles for visualizations\n",
        "* Create a lineplot using linspace\n",
        "\n",
        "Let's give you a head start by generating some data for you to plot:"
      ]
    },
    {
      "cell_type": "code",
      "execution_count": null,
      "metadata": {
        "id": "HUeAKUXyXiwj"
      },
      "outputs": [],
      "source": [
        "# Run this cell without changes\n",
        "import numpy as np\n",
        "\n",
        "# Generate a list of numbers from 0 to 99\n",
        "x_values = np.arange(0,100)\n",
        "\n",
        "# Multiply values of x_values with 2 to get y_values\n",
        "y_values = x_values*2\n",
        "\n",
        "# Calculate square of values in for variable z_values\n",
        "z_values = x_values**2\n",
        "\n",
        "# Print x_values, y_values and z_values\n",
        "print (x_values, y_values, z_values)"
      ]
    },
    {
      "cell_type": "markdown",
      "metadata": {
        "id": "rMwuveH1Xiwk"
      },
      "source": [
        "Import `matplotlib.pyplot` as `plt` and set `%matplotlib inline`  for generating inline images in Jupyter notebooks."
      ]
    },
    {
      "cell_type": "code",
      "execution_count": null,
      "metadata": {
        "id": "yLCFTCQbXiwk"
      },
      "outputs": [],
      "source": [
        "# Your code here"
      ]
    },
    {
      "cell_type": "markdown",
      "metadata": {
        "id": "NskWuuAxXiwk"
      },
      "source": [
        "Now that we have our data all set and Matplotlib in our Python environment, we can try some basic plotting techniques.\n",
        "\n",
        "## Exercise 1\n",
        "\n",
        "Perform the following steps in the cell below:\n",
        "\n",
        "* Create a new figure object `fig` using `.figure()` function.\n",
        "* Use `add_axes()` to add an axis `ax` to the canvas at absolute location [0,0,1,1].\n",
        "* Plot (x,y) on that axes and set the labels and title.\n",
        "\n",
        "The graph you create should look like this:\n",
        "\n",
        "![line plot](https://curriculum-content.s3.amazonaws.com/data-science/images/line_plot.png)"
      ]
    },
    {
      "cell_type": "code",
      "execution_count": null,
      "metadata": {
        "id": "5no5NuGzXiwk"
      },
      "outputs": [],
      "source": [
        "# Your code here"
      ]
    },
    {
      "cell_type": "markdown",
      "metadata": {
        "id": "2crYfQJjXiwk"
      },
      "source": [
        "This was easy, let's move on to drawing multiple plots within a figure space.\n",
        "\n",
        "## Exercise 2\n",
        "\n",
        "Perform following actions:\n",
        "\n",
        "* Create a subplots figure with 3 rows and 4 columns and a `figsize` of 15 by 15\n",
        "* Plot the lines $y=x$, $y=2x$, $y=3x$, $y=4x$,...$y=10x$, $y=11x$, $y=12x$ in the respective subplots. So, $y=x$ in the 0th row, 0th column, $y=2x$ in the 0th row, 1th column, etc.\n",
        "* Use the variable `x` that we have already created for you as $x$, then calculate your own $y$. Call this $y$ `y_new` (within a for loop).\n",
        "\n",
        "The graph you create should look like this:\n",
        "\n",
        "![subplots showing 1x through 12x](https://curriculum-content.s3.amazonaws.com/data-science/images/subplots_1x_12x.png)"
      ]
    },
    {
      "cell_type": "code",
      "execution_count": null,
      "metadata": {
        "id": "v72X_MFwXiwk"
      },
      "outputs": [],
      "source": [
        "# Your code here"
      ]
    },
    {
      "cell_type": "markdown",
      "metadata": {
        "id": "rCdafJ-LXiwk"
      },
      "source": [
        "## Exercise 3\n",
        "\n",
        "As you might have noticed, the y-axis of those graphs automatically adjusted based on the value of `y_new`. This creates the appearance of all of the lines having the same slope, even though they actually have quite different slopes.\n",
        "\n",
        "Repeat the above exercise, but standardize the axes of all of your subplots so that you can more easily compare the slopes of the lines. Because the final graph goes up to 1200, use this as the maximum for all plots.\n",
        "\n",
        "The graph you create should look like this:\n",
        "\n",
        "![subplots showing 1x through 12x with the same y-axis](https://curriculum-content.s3.amazonaws.com/data-science/images/subplots_1x_12x_normalized.png)"
      ]
    },
    {
      "cell_type": "code",
      "execution_count": null,
      "metadata": {
        "id": "luffbL5IXiwk"
      },
      "outputs": [],
      "source": [
        "# Your code here"
      ]
    },
    {
      "cell_type": "markdown",
      "metadata": {
        "id": "Zd8aGH2DXiwk"
      },
      "source": [
        "## Exercise 4\n",
        "\n",
        "Perform the following steps in the cell below:\n",
        "\n",
        "* Using `plt.subplots`, create a figure of size 8 by 6 with 2 columns, and \"unpack\" the 2 created axes into variables `ax1` and `ax2`.\n",
        "* Plot (`x`,`y`) and (`x`,`z`) on `ax1` and `ax2` respectively.\n",
        "* Set the line width of first axes to 3, line style as dotted and color it red.\n",
        "* Set the line width of second axes to 5, line style as dash-dot (-.) and color it blue.\n",
        "* Give the plots some labels and titles\n",
        "\n",
        "Hints:\n",
        "* If `y` is looking \"off\" but your graph code seems correct, it's possible you overwrote the original values in a previous exercise. Go back to the top of the notebook and re-run the first cell that created `x`, `y`, and `z`.\n",
        "* The label `variable - z` is intentionally overlapping the graph on the left. We will address that issue later in the lab.\n",
        "\n",
        "The graph you create should look like this:\n",
        "\n",
        "![two subplots](https://curriculum-content.s3.amazonaws.com/data-science/images/subplots_left_right.png)"
      ]
    },
    {
      "cell_type": "code",
      "execution_count": null,
      "metadata": {
        "id": "FpH3rt3nXiwl"
      },
      "outputs": [],
      "source": [
        "# Your code here"
      ]
    },
    {
      "cell_type": "markdown",
      "metadata": {
        "id": "BewGY7hcXiwl"
      },
      "source": [
        "## Exercise 5\n",
        "\n",
        "The above figure looks fine but a bit out of proportion. Let's resize this to make the plots look more appealing by ensuring that subplots are square in shape. Also change the line style of first plot (left) and change the type of 2nd plot (right) to a scatter plot with a `^` marker style.\n",
        "\n",
        "The plot you create should look like this:\n",
        "\n",
        "![two square subplots](https://curriculum-content.s3.amazonaws.com/data-science/images/subplots_left_right_square.png)"
      ]
    },
    {
      "cell_type": "code",
      "execution_count": null,
      "metadata": {
        "id": "pc3XRIoWXiwl"
      },
      "outputs": [],
      "source": [
        "# Your code here"
      ]
    },
    {
      "cell_type": "markdown",
      "metadata": {
        "id": "lEIvhXLrXiwl"
      },
      "source": [
        "**Note:** Instead of changing the plot size as you did in Exercise 5, one other technique you could have used to help with overlapping plot labels is a \"tight layout\" (see [Matplotlib guide](https://matplotlib.org/tutorials/intermediate/tight_layout_guide.html)).\n",
        "\n",
        "By default, Matplotlib doesn't consider the space taken by axes labels when it determines how to draw the plots. Turning on the tight layout setting tells Matplotlib to include the axes labels in this calculation, in order to avoid clipping or overlapping.\n",
        "\n",
        "Here is a version of the Exercise 4 solution using a tight layout:"
      ]
    },
    {
      "cell_type": "code",
      "execution_count": null,
      "metadata": {
        "id": "6szyO_2rXiwl"
      },
      "outputs": [],
      "source": [
        "# Run this cell without changes\n",
        "\n",
        "new_figure, (ax1, ax2) = plt.subplots(figsize=(8,6), ncols=2)\n",
        "# Telling Matplotlib to include axes labels when creating the layout\n",
        "new_figure.set_tight_layout(True)\n",
        "\n",
        "ax1.plot(x_values, y_values, color='red', linewidth=3, linestyle = ':')\n",
        "ax2.plot(x_values, z_values, color='blue', linewidth=5, linestyle = '-.')\n",
        "\n",
        "ax1.set_xlabel('variable - x')\n",
        "ax1.set_ylabel('variable - y')\n",
        "ax1.set_title ('Left Plot')\n",
        "\n",
        "ax2.set_xlabel('variable - x')\n",
        "ax2.set_ylabel('variable - z')\n",
        "ax2.set_title ('Right Plot');"
      ]
    },
    {
      "cell_type": "markdown",
      "metadata": {
        "id": "QWk9-dX_Xiwl"
      },
      "source": [
        "Compared to Exercise 4, we are now avoiding the label `variable - z` overlapping with the plot on the left, without changing the overall figure size like we did in Exercise 5.\n",
        "\n",
        "Note that the above example uses the object-oriented interface, by calling the `.set_tight_layout` method on the figure object.\n",
        "\n",
        "A tight layout can also be set using the PyPlot interface (state machine interface) introduced in the previous lesson. You will frequently see this in examples online, adding this line of code as the last line before the figure is displayed:\n",
        "\n",
        "```python\n",
        "plt.tight_layout()\n",
        "```"
      ]
    },
    {
      "cell_type": "markdown",
      "metadata": {
        "id": "TVbY8_IHXiwl"
      },
      "source": [
        "Congratulations! You've practiced the basics of plotting, labeling, and customizing plots with Matplotlib. You will use these skills throughout the rest of the course."
      ]
    },
    {
      "cell_type": "markdown",
      "metadata": {
        "id": "5WAqVhafXiwl"
      },
      "source": [
        "## Summary\n",
        "\n",
        "This lab focused on ensuring that you understand the basic plotting techniques in Matplotlib using plotting objects and functions to draw single plots, as well as figures with multiple subplots. You also practiced customizing the plots with labels, titles and axes definitions."
      ]
    }
  ],
  "metadata": {
    "kernelspec": {
      "display_name": "Python 3 (ipykernel)",
      "language": "python",
      "name": "python3"
    },
    "language_info": {
      "codemirror_mode": {
        "name": "ipython",
        "version": 3
      },
      "file_extension": ".py",
      "mimetype": "text/x-python",
      "name": "python",
      "nbconvert_exporter": "python",
      "pygments_lexer": "ipython3",
      "version": "3.9.16"
    },
    "colab": {
      "provenance": [],
      "include_colab_link": true
    }
  },
  "nbformat": 4,
  "nbformat_minor": 0
}