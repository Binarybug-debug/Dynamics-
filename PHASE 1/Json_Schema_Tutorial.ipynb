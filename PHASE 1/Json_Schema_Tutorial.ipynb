{
  "cells": [
    {
      "cell_type": "markdown",
      "metadata": {
        "id": "view-in-github",
        "colab_type": "text"
      },
      "source": [
        "<a href=\"https://colab.research.google.com/github/C-3DevO/MORINGA_DS/blob/main/PHASE%201/Json_Schema_Tutorial.ipynb\" target=\"_parent\"><img src=\"https://colab.research.google.com/assets/colab-badge.svg\" alt=\"Open In Colab\"/></a>"
      ]
    },
    {
      "cell_type": "markdown",
      "metadata": {
        "id": "gPwpuDJqIQzL"
      },
      "source": [
        "# Working with Known JSON Schemas\n",
        "\n",
        "## Introduction\n",
        "You've started taking a look at JSON files and you'll continue to explore how to navigate and traverse these files. One common use case of JSON files will be when you are connecting to various websites through their established APIs to retrieve data from them. With these, you are typically given a schema for how the data is structured and then will use this knowledge to retrieve pertinent information.\n",
        "\n",
        "## Objectives\n",
        "\n",
        "You will be able to:\n",
        "\n",
        "* Use the JSON module to load and parse JSON documents\n",
        "* Extract data using predefined JSON schemas\n",
        "* Convert JSON to a pandas DataFrame\n",
        "\n",
        "## Reading a JSON Schema\n",
        "\n",
        "In this lesson, you'll take a look at the response from the New York Times API. The general idea is that the New York Times makes some of its data available over the web, and it uses the JSON format to do so.\n",
        "\n",
        "Here's the JSON schema provided for a section of the NY Times API:\n",
        "<img src=\"images/schema_overview.png\" width=\"400\">\n",
        "\n",
        "or a more detailed view (truncated):\n",
        "\n",
        "<img src=\"images/schema_detailed.png\" width=\"500\">"
      ]
    },
    {
      "cell_type": "markdown",
      "metadata": {
        "id": "-HbSKo3UIQzQ"
      },
      "source": [
        "You can see that the master structure is a dictionary and has a key named `'response'`. The value associated with the `'response'` key is also a dictionary and has two keys: `'docs'` and `'meta'`. As you continue to examine the schema hierarchy, you'll notice the vast majority of the elements comprising this data structure, in this case, are dictionaries."
      ]
    },
    {
      "cell_type": "markdown",
      "metadata": {
        "id": "6kNcyrsNIQzR"
      },
      "source": [
        "## Loading the Data File\n",
        "\n",
        "As we have done in previous lessons, let's start by importing this data from the file. The code below uses the `json` module ([documentation here](https://docs.python.org/3/library/json.html)) and built-in `open` function to load the data from a JSON file into a Python object called `data`.\n",
        "\n",
        "> In the cell below, first import the json library, then type the following code to load the file and assign it to the variable `data`:\n",
        "\n",
        "```\n",
        "with open('ny_times_response.json', 'r') as f:\n",
        "    data = json.load(f)\n",
        "```"
      ]
    },
    {
      "cell_type": "code",
      "execution_count": 3,
      "metadata": {
        "id": "nn2WStb1IQzS"
      },
      "outputs": [],
      "source": [
        "# replace this comment with the code to import the JSON library\n",
        "# replace this comment with the code to load the desired file and assign it to the variable\n",
        "import json\n",
        "with open(\"ny_times_response.json\",\"r\") as f:\n",
        "  data = json.load(f)"
      ]
    },
    {
      "cell_type": "markdown",
      "metadata": {
        "id": "BMz12QYsIQzT"
      },
      "source": [
        "Now we can inspect what we loaded with some tools we are already familiar with.\n",
        "> In the cell below, use the `type()` function to print the data type of the loaded file `data`, then print the keys of the file using the `keys()` method."
      ]
    },
    {
      "cell_type": "code",
      "execution_count": 4,
      "metadata": {
        "colab": {
          "base_uri": "https://localhost:8080/"
        },
        "id": "4mSWNmGuIQzU",
        "outputId": "6d561bb3-8a89-434b-b6a4-e05138ea5dfc"
      },
      "outputs": [
        {
          "output_type": "stream",
          "name": "stdout",
          "text": [
            "<class 'dict'>\n",
            "dict_keys(['status', 'copyright', 'response'])\n"
          ]
        }
      ],
      "source": [
        "# replace this comment with the code to print the data type of the file `data`\n",
        "print(type(data))\n",
        "# replace this comment with the code to print the keys of the file\n",
        "print(data.keys())"
      ]
    },
    {
      "cell_type": "code",
      "execution_count": null,
      "metadata": {
        "id": "FsdYbGdGIQzV"
      },
      "outputs": [],
      "source": [
        "# -EXPECTED OUTPUT-\n",
        "# <class 'dict'>\n",
        "# dict_keys(['status', 'copyright', 'response'])"
      ]
    },
    {
      "cell_type": "markdown",
      "metadata": {
        "id": "sYIEHVK-IQzV"
      },
      "source": [
        "You should see that there are two additional keys `'status'` and `'copyright'` which were not shown in the schema documentation. As with most forms of documentation, it's important to be aware that published schemas may differ somewhat from the actual data, and your code should be able to handle these unexpected differences, within reason."
      ]
    },
    {
      "cell_type": "markdown",
      "metadata": {
        "id": "wECUlRFDIQzW"
      },
      "source": [
        "## Loading Specific Data\n",
        "\n",
        "Looking at the schema, you might be interested in retrieving a specific piece of data, such as the articles' headlines. Notice that this is a key under `'docs'`, which is under `'response'`. So the schema is roughly: data --> 'response' --> 'docs' --> 'headline', something like `data['response']['docs']['headline']`.\n",
        "\n",
        "Let's see what happens if we try that:\n",
        "\n",
        "> In the cell below, type the following code to retreive the data:\n",
        "```\n",
        "data['response']['docs']['headline']\n",
        "```"
      ]
    },
    {
      "cell_type": "code",
      "execution_count": 5,
      "metadata": {
        "colab": {
          "base_uri": "https://localhost:8080/",
          "height": 158
        },
        "id": "L9nxr3qIIQzX",
        "outputId": "378a1ab5-5633-45cb-9754-2fefe82cf650"
      },
      "outputs": [
        {
          "output_type": "error",
          "ename": "TypeError",
          "evalue": "list indices must be integers or slices, not str",
          "traceback": [
            "\u001b[0;31m---------------------------------------------------------------------------\u001b[0m",
            "\u001b[0;31mTypeError\u001b[0m                                 Traceback (most recent call last)",
            "\u001b[0;32m<ipython-input-5-2224833411>\u001b[0m in \u001b[0;36m<cell line: 0>\u001b[0;34m()\u001b[0m\n\u001b[1;32m      1\u001b[0m \u001b[0;31m# replace this comment with the code to show the contents of data->response->docs->headline\u001b[0m\u001b[0;34m\u001b[0m\u001b[0;34m\u001b[0m\u001b[0m\n\u001b[0;32m----> 2\u001b[0;31m \u001b[0mdata\u001b[0m\u001b[0;34m[\u001b[0m\u001b[0;34m'response'\u001b[0m\u001b[0;34m]\u001b[0m\u001b[0;34m[\u001b[0m\u001b[0;34m'docs'\u001b[0m\u001b[0;34m]\u001b[0m\u001b[0;34m[\u001b[0m\u001b[0;34m'headline'\u001b[0m\u001b[0;34m]\u001b[0m\u001b[0;34m\u001b[0m\u001b[0;34m\u001b[0m\u001b[0m\n\u001b[0m",
            "\u001b[0;31mTypeError\u001b[0m: list indices must be integers or slices, not str"
          ]
        }
      ],
      "source": [
        "# replace this comment with the code to show the contents of data->response->docs->headline\n",
        "data['response']['docs']['headline']"
      ]
    },
    {
      "cell_type": "code",
      "execution_count": null,
      "metadata": {
        "id": "NaCtjFHYIQzY"
      },
      "outputs": [],
      "source": [
        "# -EXPECTED OUTPUT-\n",
        "\"\"\"\n",
        "---------------------------------------------------------------------------\n",
        "TypeError                                 Traceback (most recent call last)\n",
        "<ipython-input-3-0cb4d3140f8a> in <module>\n",
        "      1 # replace this comment with the code to show the contents of data->response->docs->headline\n",
        "----> 2 data['response']['docs']['headline']\n",
        "\n",
        "TypeError: list indices must be integers or slices, not str\n",
        "\"\"\""
      ]
    },
    {
      "cell_type": "markdown",
      "metadata": {
        "id": "LB_Cko_fIQzY"
      },
      "source": [
        "Ok, this error message is saying that somewhere along the way, **we treated something like a dictionary when it was actually a list**. Let's break down that chain of commands to figure out what went wrong.\n",
        "\n",
        "We are pretty sure that `data['response']` will not cause an error, since we already checked that `data` is type `dict`, and that `'response'` is one of the keys. But what is the type of `data['response']`?"
      ]
    },
    {
      "cell_type": "code",
      "execution_count": 6,
      "metadata": {
        "colab": {
          "base_uri": "https://localhost:8080/"
        },
        "id": "IsIX-wePIQzZ",
        "outputId": "bf142a75-15be-409c-dbc2-57a5bc2ff978"
      },
      "outputs": [
        {
          "output_type": "stream",
          "name": "stdout",
          "text": [
            "{'docs': [{'web_url': 'https://query.nytimes.com/gst/abstract.html?res=9C05E3D7113DE633A25754C1A9679D946597D6CF', 'snippet': 'Spent $22,200', 'abstract': 'Spent $22,200', 'print_page': '2', 'blog': {}, 'source': 'The New York Times', 'multimedia': [], 'headline': {'main': \"HIGGINS, SPENT $22,189.53.; Governor-Elect's Election Expenses -- Harrison $9,220.28.\", 'kicker': None, 'content_kicker': None, 'print_headline': None, 'name': None, 'seo': None, 'sub': None}, 'keywords': [{'name': 'persons', 'value': 'HIGGINS, LT. GOV.', 'rank': 0, 'major': None}], 'pub_date': '1904-11-17T00:00:00Z', 'document_type': 'article', 'type_of_material': 'Article', '_id': '4fc04eb745c1498b0d23da00', 'word_count': 213, 'score': 1}, {'web_url': 'https://query.nytimes.com/gst/abstract.html?res=9E07E6DA1F3BE433A25750C2A9669D946593D6CF', 'snippet': '', 'print_page': '15', 'blog': {}, 'source': 'The New York Times', 'multimedia': [], 'headline': {'main': 'GARDEN BOUTS CANCELED; Mauriello Says He Could Not Be Ready on Nov. 3', 'kicker': '1', 'content_kicker': None, 'print_headline': None, 'name': None, 'seo': None, 'sub': None}, 'keywords': [], 'pub_date': '1944-10-23T00:00:00Z', 'document_type': 'article', 'type_of_material': 'Article', '_id': '4fc21ebf45c1498b0d612b22', 'word_count': 149, 'score': 1}, {'web_url': 'https://query.nytimes.com/gst/abstract.html?res=9E07E1DB1330E531A15756C1A9639C946492D6CF', 'snippet': 'Stock prices last week, on the lightest volume of the year, sustained the largest losses in about two months. Some technicians were inclined to believe that if offerings became heavier on the decline, the averages could challenge the lows of the f...', 'print_page': 'F1', 'blog': {}, 'source': 'The New York Times', 'multimedia': [], 'headline': {'main': 'Stock Drop Is Biggest in 2 Months--Margin Rise Held Factor in Lightest Trading of 1955', 'kicker': '1', 'content_kicker': None, 'print_headline': None, 'name': None, 'seo': None, 'sub': None}, 'keywords': [], 'pub_date': '1955-05-15T00:00:00Z', 'document_type': 'article', 'byline': {'original': 'By JOHN G. FORREST', 'person': [{'firstname': 'John', 'middlename': 'G.', 'lastname': 'FORREST', 'qualifier': None, 'title': None, 'role': 'reported', 'organization': '', 'rank': 1}], 'organization': None}, 'type_of_material': 'Article', '_id': '4fc3b41d45c1498b0d7fd41e', 'word_count': 823, 'score': 1}, {'web_url': 'https://query.nytimes.com/gst/abstract.html?res=9504EEDE123BE733A25755C0A9679D946597D6CF', 'snippet': 'The first public rehearsal and concert of the Philharmonic Society will be given at Carnegie Hall on Friday afternoon and Saturday evening. Gustav F. Kogel, the former director of the Museum Concert at Frankfort-on-the-Main, will be the conductor....', 'abstract': 'Healy, Michael, will suit', 'print_page': '20', 'blog': {}, 'source': 'The New York Times', 'multimedia': [], 'headline': {'main': 'MUSIC OF THE WEEK', 'kicker': None, 'content_kicker': None, 'print_headline': None, 'name': None, 'seo': None, 'sub': None}, 'keywords': [{'name': 'persons', 'value': 'HEALY, MICHAEL', 'rank': 0, 'major': None}], 'pub_date': '1904-11-06T00:00:00Z', 'document_type': 'article', 'type_of_material': 'Article', '_id': '4fc04eb745c1498b0d23da12', 'word_count': 2609, 'score': 1}, {'web_url': 'https://www.nytimes.com/1992/05/06/business/anacomp-inc-reports-earnings-for-qtr-to-march-31.html', 'snippet': '', 'print_page': '20', 'blog': {}, 'source': 'The New York Times', 'multimedia': [], 'headline': {'main': 'Anacomp Inc. reports earnings for Qtr to March 31', 'kicker': None, 'content_kicker': None, 'print_headline': None, 'name': None, 'seo': None, 'sub': None}, 'keywords': [{'name': 'subject', 'value': 'COMPANY EARNINGS', 'rank': 0, 'major': None}], 'pub_date': '1992-05-06T00:00:00Z', 'document_type': 'article', 'news_desk': 'Financial Desk', 'type_of_material': 'Statistics', '_id': '4fd1b3018eb7c8105d6d690a', 'word_count': 129, 'score': 1}, {'web_url': 'https://query.nytimes.com/gst/abstract.html?res=9503EFDF153DE53ABC4C51DFB4678389669EDE', 'snippet': '', 'print_page': 'S9', 'blog': {}, 'source': 'The New York Times', 'multimedia': [], 'headline': {'main': 'Brooklyn Routs Yeshiva', 'kicker': '1', 'content_kicker': None, 'print_headline': None, 'name': None, 'seo': None, 'sub': None}, 'keywords': [], 'pub_date': '1972-12-24T00:00:00Z', 'document_type': 'article', 'type_of_material': 'Article', '_id': '4fc47bb045c1498b0da03363', 'word_count': 144, 'score': 1}, {'web_url': 'https://query.nytimes.com/gst/abstract.html?res=9F03E1DA1631E63BBC4D51DFB4678389669EDE', 'snippet': 'ALBUQUERQUE, N. M., Dec. 24 -- Holiday drinkers who have drunk too much can get free rides home from now until Jan. 2 through a test program being carried out by taxi companies, university students and a local alcohol safety organization.  ', 'print_page': '11', 'blog': {}, 'source': 'The New York Times', 'multimedia': [], 'headline': {'main': 'Albuquerque Program Gives Drinkers a Lift', 'kicker': '1', 'content_kicker': None, 'print_headline': None, 'name': None, 'seo': None, 'sub': None}, 'keywords': [], 'pub_date': '1972-12-25T00:00:00Z', 'document_type': 'article', 'byline': {'original': 'Special to The New York Times', 'person': [{'firstname': None, 'middlename': None, 'lastname': None, 'qualifier': None, 'title': None, 'role': 'reported', 'organization': '', 'rank': 1}], 'organization': None}, 'type_of_material': 'Article', '_id': '4fc47bb045c1498b0da03367', 'word_count': 151, 'score': 1}, {'web_url': 'https://query.nytimes.com/gst/abstract.html?res=9905E6DD153EE03BBC4C51DFB667838F659EDE', 'snippet': '', 'print_page': '1', 'blog': {}, 'source': 'The New York Times', 'multimedia': [], 'headline': {'main': 'Front Page 7 -- No Title', 'kicker': '1', 'content_kicker': None, 'print_headline': None, 'name': None, 'seo': None, 'sub': None}, 'keywords': [], 'pub_date': '1944-10-24T00:00:00Z', 'document_type': 'article', 'type_of_material': 'Front Page', '_id': '4fc21ebf45c1498b0d612b3c', 'word_count': 29, 'score': 1}, {'web_url': 'https://query.nytimes.com/gst/abstract.html?res=9507EFDB1F3AE733A25755C0A96E9C946597D6CF', 'snippet': 'The employers and the unions have lined up in preparation for a long fight in the building war. An indication of the feeling that this will be a real fight is the appointment of a regular Press Committee by the employers. Members of their associat...', 'abstract': \"housesmiths won't strike\", 'print_page': '1', 'blog': {}, 'source': 'The New York Times', 'multimedia': [], 'headline': {'main': 'UNIONS AND BUILDERS READY FOR LONG FIGHT; None of the Strikers Back - Lock-Out Soon in Effect. 23,000 ALREADY INVOLVED Orders Sent to Every Building Employer Within Twenty-five Miles -- House-smiths Vote Not to Strike.', 'kicker': None, 'content_kicker': None, 'print_headline': None, 'name': None, 'seo': None, 'sub': None}, 'keywords': [{'name': 'glocations', 'value': 'NEW YORK CITY', 'rank': 0, 'major': None}, {'name': 'subject', 'value': 'STRIKES', 'rank': 0, 'major': None}, {'name': 'subject', 'value': 'PENN. MINERS THREATEN', 'rank': 0, 'major': None}, {'name': 'subject', 'value': 'BLDG. TRADES EMP. ASS. MAY LOCK OUT 30,000', 'rank': 0, 'major': None}, {'name': 'subject', 'value': '23,000 MEN INVOLVED', 'rank': 0, 'major': None}], 'pub_date': '1904-08-06T00:00:00Z', 'document_type': 'article', 'type_of_material': 'Front Page', '_id': '4fc04eb745c1498b0d23da17', 'word_count': 883, 'score': 1}], 'meta': {'hits': 15533655, 'offset': 0, 'time': 207}}\n"
          ]
        }
      ],
      "source": [
        "# replace this comment with the code to display the data type in data->response\n",
        "print(data['response'])"
      ]
    },
    {
      "cell_type": "code",
      "execution_count": null,
      "metadata": {
        "id": "yuW8oY1aIQzb"
      },
      "outputs": [],
      "source": [
        "# -EXPECTED OUTPUT-\n",
        "# dict"
      ]
    },
    {
      "cell_type": "markdown",
      "metadata": {
        "id": "19-1fn-rIQzc"
      },
      "source": [
        "Ok, that's a dictionary, too. How about `data['response']['docs']`?"
      ]
    },
    {
      "cell_type": "code",
      "execution_count": 7,
      "metadata": {
        "colab": {
          "base_uri": "https://localhost:8080/"
        },
        "id": "w-Ok2_YLIQzc",
        "outputId": "d1f6d351-23b7-444c-80a6-1119def3ee84"
      },
      "outputs": [
        {
          "output_type": "stream",
          "name": "stdout",
          "text": [
            "<class 'list'>\n"
          ]
        }
      ],
      "source": [
        "# replace this comment with the code to display the data type of the data in data->response->docs\n",
        "print(type(data['response']['docs']))"
      ]
    },
    {
      "cell_type": "code",
      "execution_count": null,
      "metadata": {
        "id": "2VG5O8xxIQzc"
      },
      "outputs": [],
      "source": [
        "# -EXPECTED OUTPUT-\n",
        "# list"
      ]
    },
    {
      "cell_type": "markdown",
      "metadata": {
        "id": "6o9uaSnTIQzd"
      },
      "source": [
        "So, that is the source of the error. We tried to treat this as a dictionary (accessing the value associated with the key `'headline'`) but it's a list.\n",
        "\n",
        "If you scroll back up to the schema pictured above, this makes sense. The value associated with the `'docs'` key is shown surrounded by `[` and `]`, right before the `{` and `}`, indicating that this is a *list* of dictionaries, not just a dictionary.\n",
        "\n",
        "You'll run into this kind of distinction repeatedly when working with JSON data. Sometimes values will be nested in unexpected ways, or you'll miss a key detail when you're skimming the schema. What's most important is that you're able to keep going and figure out what went wrong, not that you get it right on the first try.\n",
        "\n",
        "Now that we know that this is a list, let's extract it and print out some more information about it:\n",
        "\n",
        "> In the cell below, extract the data in `data['response']['docs']` and assign it to the variable `docs`.  Then display the following information about it:\n",
        " - the data type using `type()`\n",
        " - the length using `len()`\n",
        " - the contents of the first element of the list using the index `[0]`\n",
        " Try to make your output match the _-EXPECTED OUTPUT-_, we will help with the first line:\n",
        " ```\n",
        " print(\"`docs` is a data structure of type\", type(docs))\n",
        " ```\n",
        " or\n",
        " ```\n",
        " print(f\"`docs` is a data structure of type {type(docs)}\")\n",
        " ```"
      ]
    },
    {
      "cell_type": "code",
      "execution_count": 9,
      "metadata": {
        "colab": {
          "base_uri": "https://localhost:8080/"
        },
        "id": "1FvGSeQOIQzd",
        "outputId": "0d2840ce-37f3-4f67-d5a9-55ada8995fc8"
      },
      "outputs": [
        {
          "output_type": "stream",
          "name": "stdout",
          "text": [
            "The 'docs' is a data structure of type <class 'list'>\n",
            "It contains 9 elements\n",
            "The first element is type <class 'dict'>\n"
          ]
        }
      ],
      "source": [
        "docs = data['response']['docs']\n",
        "# replace this comment with the code to extract the desired data and assign it to the variable\n",
        "\n",
        "# replace this comment with the code to print the data type of `docs`\n",
        "print(f\"The 'docs' is a data structure of type {type(docs)}\")\n",
        "# replace this comment with the code to print the length\n",
        "print(f\"It contains {len(docs)} elements\")\n",
        "# replace this comment with the code to print the data type of the first element\n",
        "print(f\"The first element is type {type(docs[0])}\")"
      ]
    },
    {
      "cell_type": "code",
      "execution_count": null,
      "metadata": {
        "id": "934UCf_bIQzd"
      },
      "outputs": [],
      "source": [
        "# -EXPECTED OUTPUT-\n",
        "# `docs` is a data structure of type <class 'list'>\n",
        "# It contains 9 elements\n",
        "# The first element is type <class 'dict'>"
      ]
    },
    {
      "cell_type": "markdown",
      "metadata": {
        "id": "L8XzsFVxIQze"
      },
      "source": [
        "This confirms what we expected. Now we can loop over that list of dictionaries and print the values associated with the `'headline'` keys:\n",
        "\n",
        "> In the following cell write a for loop or list comprehension to display each element one by one.  To do this use one of the following code blocks:  \n",
        "\n",
        "with a for loop:\n",
        "```\n",
        "for doc in docs:\n",
        "    print(doc['headline'])\n",
        "```\n",
        "or with list comprehension:\n",
        "```\n",
        "print([doc['headline'] for doc in docs])\n",
        "```"
      ]
    },
    {
      "cell_type": "code",
      "execution_count": 10,
      "metadata": {
        "colab": {
          "base_uri": "https://localhost:8080/"
        },
        "id": "lGTOsG5kIQze",
        "outputId": "441bb8b8-9d7d-49a3-92bc-a96450aa939d"
      },
      "outputs": [
        {
          "output_type": "stream",
          "name": "stdout",
          "text": [
            "{'main': \"HIGGINS, SPENT $22,189.53.; Governor-Elect's Election Expenses -- Harrison $9,220.28.\", 'kicker': None, 'content_kicker': None, 'print_headline': None, 'name': None, 'seo': None, 'sub': None}\n",
            "{'main': 'GARDEN BOUTS CANCELED; Mauriello Says He Could Not Be Ready on Nov. 3', 'kicker': '1', 'content_kicker': None, 'print_headline': None, 'name': None, 'seo': None, 'sub': None}\n",
            "{'main': 'Stock Drop Is Biggest in 2 Months--Margin Rise Held Factor in Lightest Trading of 1955', 'kicker': '1', 'content_kicker': None, 'print_headline': None, 'name': None, 'seo': None, 'sub': None}\n",
            "{'main': 'MUSIC OF THE WEEK', 'kicker': None, 'content_kicker': None, 'print_headline': None, 'name': None, 'seo': None, 'sub': None}\n",
            "{'main': 'Anacomp Inc. reports earnings for Qtr to March 31', 'kicker': None, 'content_kicker': None, 'print_headline': None, 'name': None, 'seo': None, 'sub': None}\n",
            "{'main': 'Brooklyn Routs Yeshiva', 'kicker': '1', 'content_kicker': None, 'print_headline': None, 'name': None, 'seo': None, 'sub': None}\n",
            "{'main': 'Albuquerque Program Gives Drinkers a Lift', 'kicker': '1', 'content_kicker': None, 'print_headline': None, 'name': None, 'seo': None, 'sub': None}\n",
            "{'main': 'Front Page 7 -- No Title', 'kicker': '1', 'content_kicker': None, 'print_headline': None, 'name': None, 'seo': None, 'sub': None}\n",
            "{'main': 'UNIONS AND BUILDERS READY FOR LONG FIGHT; None of the Strikers Back - Lock-Out Soon in Effect. 23,000 ALREADY INVOLVED Orders Sent to Every Building Employer Within Twenty-five Miles -- House-smiths Vote Not to Strike.', 'kicker': None, 'content_kicker': None, 'print_headline': None, 'name': None, 'seo': None, 'sub': None}\n"
          ]
        }
      ],
      "source": [
        "# replace this comment with either the for loop or the list comprehension to print each headline\n",
        "\n",
        "for doc in docs:\n",
        "  print(doc['headline'])"
      ]
    },
    {
      "cell_type": "code",
      "execution_count": null,
      "metadata": {
        "id": "EiFbaQUeIQze"
      },
      "outputs": [],
      "source": [
        "# -EXPECTED OUTPUT-\n",
        "# for loop\n",
        "\"\"\"\n",
        "{'main': \"HIGGINS, SPENT $22,189.53.; Governor-Elect's Election Expenses -- Harrison $9,220.28.\", 'kicker': None, 'content_kicker': None, 'print_headline': None, 'name': None, 'seo': None, 'sub': None}\n",
        "{'main': 'GARDEN BOUTS CANCELED; Mauriello Says He Could Not Be Ready on Nov. 3', 'kicker': '1', 'content_kicker': None, 'print_headline': None, 'name': None, 'seo': None, 'sub': None}\n",
        "{'main': 'Stock Drop Is Biggest in 2 Months--Margin Rise Held Factor in Lightest Trading of 1955', 'kicker': '1', 'content_kicker': None, 'print_headline': None, 'name': None, 'seo': None, 'sub': None}\n",
        "{'main': 'MUSIC OF THE WEEK', 'kicker': None, 'content_kicker': None, 'print_headline': None, 'name': None, 'seo': None, 'sub': None}\n",
        "{'main': 'Anacomp Inc. reports earnings for Qtr to March 31', 'kicker': None, 'content_kicker': None, 'print_headline': None, 'name': None, 'seo': None, 'sub': None}\n",
        "{'main': 'Brooklyn Routs Yeshiva', 'kicker': '1', 'content_kicker': None, 'print_headline': None, 'name': None, 'seo': None, 'sub': None}\n",
        "{'main': 'Albuquerque Program Gives Drinkers a Lift', 'kicker': '1', 'content_kicker': None, 'print_headline': None, 'name': None, 'seo': None, 'sub': None}\n",
        "{'main': 'Front Page 7 -- No Title', 'kicker': '1', 'content_kicker': None, 'print_headline': None, 'name': None, 'seo': None, 'sub': None}\n",
        "{'main': 'UNIONS AND BUILDERS READY FOR LONG FIGHT; None of the Strikers Back - Lock-Out Soon in Effect. 23,000 ALREADY INVOLVED Orders Sent to Every Building Employer Within Twenty-five Miles -- House-smiths Vote Not to Strike.', 'kicker': None, 'content_kicker': None, 'print_headline': None, 'name': None, 'seo': None, 'sub': None}\n",
        "\"\"\"\n",
        "# or\n",
        "# list comprehension\n",
        "\"\"\"\n",
        "[{'main': \"HIGGINS, SPENT $22,189.53.; Governor-Elect's Election Expenses -- Harrison $9,220.28.\", 'kicker': None, 'content_kicker': None, 'print_headline': None, 'name': None, 'seo': None, 'sub': None}, {'main': 'GARDEN BOUTS CANCELED; Mauriello Says He Could Not Be Ready on Nov. 3', 'kicker': '1', 'content_kicker': None, 'print_headline': None, 'name': None, 'seo': None, 'sub': None}, {'main': 'Stock Drop Is Biggest in 2 Months--Margin Rise Held Factor in Lightest Trading of 1955', 'kicker': '1', 'content_kicker': None, 'print_headline': None, 'name': None, 'seo': None, 'sub': None}, {'main': 'MUSIC OF THE WEEK', 'kicker': None, 'content_kicker': None, 'print_headline': None, 'name': None, 'seo': None, 'sub': None}, {'main': 'Anacomp Inc. reports earnings for Qtr to March 31', 'kicker': None, 'content_kicker': None, 'print_headline': None, 'name': None, 'seo': None, 'sub': None}, {'main': 'Brooklyn Routs Yeshiva', 'kicker': '1', 'content_kicker': None, 'print_headline': None, 'name': None, 'seo': None, 'sub': None}, {'main': 'Albuquerque Program Gives Drinkers a Lift', 'kicker': '1', 'content_kicker': None, 'print_headline': None, 'name': None, 'seo': None, 'sub': None}, {'main': 'Front Page 7 -- No Title', 'kicker': '1', 'content_kicker': None, 'print_headline': None, 'name': None, 'seo': None, 'sub': None}, {'main': 'UNIONS AND BUILDERS READY FOR LONG FIGHT; None of the Strikers Back - Lock-Out Soon in Effect. 23,000 ALREADY INVOLVED Orders Sent to Every Building Employer Within Twenty-five Miles -- House-smiths Vote Not to Strike.', 'kicker': None, 'content_kicker': None, 'print_headline': None, 'name': None, 'seo': None, 'sub': None}]\n",
        "\"\"\""
      ]
    },
    {
      "cell_type": "markdown",
      "metadata": {
        "id": "aPd0qdpmIQzf"
      },
      "source": [
        "Or if you want to just print the main headlines themselves with the following code:\n",
        "\n",
        "> In the cell below, type the following code to print the `main` element of each `headline`:\n",
        "\n",
        "with a for loop:\n",
        "```\n",
        "for doc in docs:\n",
        "    print(doc['headline']['main'])\n",
        "\n",
        "```\n",
        "or with list comprehension:\n",
        "```\n",
        "print([doc['headline']['main'] for doc in docs])\n",
        "```"
      ]
    },
    {
      "cell_type": "code",
      "execution_count": 13,
      "metadata": {
        "colab": {
          "base_uri": "https://localhost:8080/"
        },
        "id": "JJ-V5kz1IQzf",
        "outputId": "46a48734-2ba4-4656-cb64-2156a880d61c"
      },
      "outputs": [
        {
          "output_type": "stream",
          "name": "stdout",
          "text": [
            "HIGGINS, SPENT $22,189.53.; Governor-Elect's Election Expenses -- Harrison $9,220.28.\n",
            "GARDEN BOUTS CANCELED; Mauriello Says He Could Not Be Ready on Nov. 3\n",
            "Stock Drop Is Biggest in 2 Months--Margin Rise Held Factor in Lightest Trading of 1955\n",
            "MUSIC OF THE WEEK\n",
            "Anacomp Inc. reports earnings for Qtr to March 31\n",
            "Brooklyn Routs Yeshiva\n",
            "Albuquerque Program Gives Drinkers a Lift\n",
            "Front Page 7 -- No Title\n",
            "UNIONS AND BUILDERS READY FOR LONG FIGHT; None of the Strikers Back - Lock-Out Soon in Effect. 23,000 ALREADY INVOLVED Orders Sent to Every Building Employer Within Twenty-five Miles -- House-smiths Vote Not to Strike.\n"
          ]
        }
      ],
      "source": [
        "# replace this comment with the code to print each individual headline using either a for loop or list comprehension\n",
        "for doc in docs:\n",
        " print(doc['headline']['main'])"
      ]
    },
    {
      "cell_type": "code",
      "execution_count": null,
      "metadata": {
        "id": "Bk2yWh4RIQzf"
      },
      "outputs": [],
      "source": [
        "# -EXPECTED OUTPUT-\n",
        "\"\"\"\n",
        "HIGGINS, SPENT $22,189.53.; Governor-Elect's Election Expenses -- Harrison $9,220.28.\n",
        "GARDEN BOUTS CANCELED; Mauriello Says He Could Not Be Ready on Nov. 3\n",
        "Stock Drop Is Biggest in 2 Months--Margin Rise Held Factor in Lightest Trading of 1955\n",
        "MUSIC OF THE WEEK\n",
        "Anacomp Inc. reports earnings for Qtr to March 31\n",
        "Brooklyn Routs Yeshiva\n",
        "Albuquerque Program Gives Drinkers a Lift\n",
        "Front Page 7 -- No Title\n",
        "UNIONS AND BUILDERS READY FOR LONG FIGHT; None of the Strikers Back - Lock-Out Soon in Effect. 23,000 ALREADY INVOLVED Orders Sent to Every Building Employer Within Twenty-five Miles -- House-smiths Vote Not to Strike.\n",
        "\"\"\"\n",
        "\n",
        "# or with list comprehension\n",
        "\n",
        "\"\"\"[\"HIGGINS, SPENT $22,189.53.; Governor-Elect's Election Expenses -- Harrison $9,220.28.\", 'GARDEN BOUTS CANCELED; Mauriello Says He Could Not Be Ready on Nov. 3', 'Stock Drop Is Biggest in 2 Months--Margin Rise Held Factor in Lightest Trading of 1955', 'MUSIC OF THE WEEK', 'Anacomp Inc. reports earnings for Qtr to March 31', 'Brooklyn Routs Yeshiva', 'Albuquerque Program Gives Drinkers a Lift', 'Front Page 7 -- No Title', 'UNIONS AND BUILDERS READY FOR LONG FIGHT; None of the Strikers Back - Lock-Out Soon in Effect. 23,000 ALREADY INVOLVED Orders Sent to Every Building Employer Within Twenty-five Miles -- House-smiths Vote Not to Strike.']\n",
        "\"\"\""
      ]
    },
    {
      "cell_type": "markdown",
      "metadata": {
        "id": "92lblQH2IQzg"
      },
      "source": [
        "## Flattening Data (i.e. Breaking Out Nested Data)\n",
        "\n",
        "Let's say we want to create a list of dictionaries containing information about the documents contained in this JSON. It should contain the publication date (value associated with `pub_date` key), word count (value associated with `word_count` key), and both the `'main'` and `'kicker'` associated with the `headline` key. This list should be called `doc_info_list` and should look something like this:\n",
        "\n",
        "```python\n",
        "[\n",
        "    {\n",
        "        'headline_main': \"HIGGINS, SPENT $22,189.53.; Governor-Elect's Election Expenses -- Harrison $9,220.28.\",\n",
        "        'headline_kicker': None,\n",
        "        'pub_date': '1904-11-17T00:00:00Z',\n",
        "        'word_count': 213\n",
        "    },\n",
        "    {\n",
        "        'headline_main': 'GARDEN BOUTS CANCELED; Mauriello Says He Could Not Be Ready on Nov. 3',\n",
        "        'headline_kicker': '1',\n",
        "        'pub_date': '1944-10-23T00:00:00Z',\n",
        "        'word_count': 149\n",
        "    },\n",
        "    ...\n",
        "]\n",
        "```\n",
        "\n",
        "The tricky part is, each dictionary needs to be \"flat\", meaning that each key is associated with a single string or number value, not a deeper data structure. So we need to flatten the nested `headline` dictionary.\n",
        "\n",
        "It's also conventional when flattening data to make a compound name for the newly-created keys. So, let's call the new keys `headline_main` and `headline_kicker`.\n",
        "\n",
        "Recall the structure of a `headline` dictionary:\n",
        "\n",
        "> Print out one of the `headline` elements by typing in the following code:\n",
        "\n",
        "```\n",
        "docs[2]['headline']\n",
        "```"
      ]
    },
    {
      "cell_type": "code",
      "execution_count": 14,
      "metadata": {
        "colab": {
          "base_uri": "https://localhost:8080/"
        },
        "id": "JF87zFyJIQzg",
        "outputId": "c22127b7-2797-48d9-e188-383e89b13aae"
      },
      "outputs": [
        {
          "output_type": "execute_result",
          "data": {
            "text/plain": [
              "{'main': 'Stock Drop Is Biggest in 2 Months--Margin Rise Held Factor in Lightest Trading of 1955',\n",
              " 'kicker': '1',\n",
              " 'content_kicker': None,\n",
              " 'print_headline': None,\n",
              " 'name': None,\n",
              " 'seo': None,\n",
              " 'sub': None}"
            ]
          },
          "metadata": {},
          "execution_count": 14
        }
      ],
      "source": [
        "# replace this comment with the code to display one of the headline elements\n",
        "docs[2]['headline']"
      ]
    },
    {
      "cell_type": "code",
      "execution_count": null,
      "metadata": {
        "id": "pa6d-0S1IQzh"
      },
      "outputs": [],
      "source": [
        "# -EXPECTED OUTPUT-\n",
        "\"\"\"\n",
        "{'main': 'Stock Drop Is Biggest in 2 Months--Margin Rise Held Factor in Lightest Trading of 1955',\n",
        " 'kicker': '1',\n",
        " 'content_kicker': None,\n",
        " 'print_headline': None,\n",
        " 'name': None,\n",
        " 'seo': None,\n",
        " 'sub': None}\n",
        "\"\"\""
      ]
    },
    {
      "cell_type": "markdown",
      "metadata": {
        "id": "iRa2EBeMIQzh"
      },
      "source": [
        "So, first let's write a function that takes in that complete dictionary, and returns a copy with only the `'main'` and `'kicker'` keys and values, now labeled `'headline_main'` and `'headline_kicker'`:\n",
        "\n",
        "> In the cell below, type the following code to extract the desired information:\n",
        "\n",
        "```\n",
        "def extract_headline_info(headline_dict):\n",
        "    result = {}\n",
        "    result['headline_main'] = headline_dict['main']\n",
        "    result['headline_kicker'] = headline_dict['kicker']\n",
        "    return result\n",
        "```"
      ]
    },
    {
      "cell_type": "code",
      "execution_count": 15,
      "metadata": {
        "id": "O8QHci5CIQzh"
      },
      "outputs": [],
      "source": [
        "# replace this comment with the code to define the desired function\n",
        "def extract_headline_info(headline_dict):\n",
        "    result = {}\n",
        "    result['headline_main'] = headline_dict['main']\n",
        "    result['headline_kicker'] = headline_dict['kicker']\n",
        "    return result"
      ]
    },
    {
      "cell_type": "markdown",
      "metadata": {
        "id": "u4O9jsdIIQzi"
      },
      "source": [
        "Then we can test it out:\n",
        "\n",
        "> In the cell below, type the following code to test the function:\n",
        "\n",
        "```\n",
        "extract_headline_info(docs[2]['headline'])\n",
        "```"
      ]
    },
    {
      "cell_type": "code",
      "execution_count": 16,
      "metadata": {
        "colab": {
          "base_uri": "https://localhost:8080/"
        },
        "id": "PKsWoCFEIQzi",
        "outputId": "3cb990b3-00bc-423c-9aad-87f59ad32461"
      },
      "outputs": [
        {
          "output_type": "execute_result",
          "data": {
            "text/plain": [
              "{'headline_main': 'Stock Drop Is Biggest in 2 Months--Margin Rise Held Factor in Lightest Trading of 1955',\n",
              " 'headline_kicker': '1'}"
            ]
          },
          "metadata": {},
          "execution_count": 16
        }
      ],
      "source": [
        "# replace this comment with the code to test out the funtion\n",
        "extract_headline_info(docs[2]['headline'])"
      ]
    },
    {
      "cell_type": "code",
      "execution_count": null,
      "metadata": {
        "id": "pVl9_4hnIQzi"
      },
      "outputs": [],
      "source": [
        "# -EXPECTED OUTPUT-\n",
        "\"\"\"\n",
        "{'headline_main': 'Stock Drop Is Biggest in 2 Months--Margin Rise Held Factor in Lightest Trading of 1955',\n",
        " 'headline_kicker': '1'}\n",
        "\"\"\""
      ]
    },
    {
      "cell_type": "markdown",
      "metadata": {
        "id": "OpdShrtbIQzi"
      },
      "source": [
        "Now let's write another function that calls that function, then adds the `pub_date` and `word_count` keys and values:\n",
        "\n",
        "> In the cell below type the following code to define a function that calls our other function and adds the `pub_date` and `word_count` keys and values:\n",
        "```\n",
        "def extract_doc_info(doc):\n",
        "    info = extract_headline_info(doc['headline'])\n",
        "    info['pub_date'] = doc['pub_date']\n",
        "    info['word_count'] = doc['word_count']\n",
        "    return info\n",
        "```"
      ]
    },
    {
      "cell_type": "code",
      "execution_count": 17,
      "metadata": {
        "id": "Oo6hGgUgIQzj"
      },
      "outputs": [],
      "source": [
        "# replace this comment with the code to define the desired function\n",
        "def extract_doc_info(doc):\n",
        "    info = extract_headline_info(doc['headline'])\n",
        "    info['pub_date'] = doc['pub_date']\n",
        "    info['word_count'] = doc['word_count']\n",
        "    return info"
      ]
    },
    {
      "cell_type": "markdown",
      "metadata": {
        "id": "j2s0oC15IQzj"
      },
      "source": [
        "Again, testing it out on a couple examples:\n",
        "\n",
        "> In the cells below, type the following code to test the function changing the index as necessary:\n",
        "\n",
        "```\n",
        "extract_doc_info(docs[2])\n",
        "```"
      ]
    },
    {
      "cell_type": "code",
      "execution_count": 18,
      "metadata": {
        "colab": {
          "base_uri": "https://localhost:8080/"
        },
        "id": "z59h0txBIQzj",
        "outputId": "b65b6b1a-c1e6-4c68-dde3-6c72c485727b"
      },
      "outputs": [
        {
          "output_type": "execute_result",
          "data": {
            "text/plain": [
              "{'headline_main': 'Stock Drop Is Biggest in 2 Months--Margin Rise Held Factor in Lightest Trading of 1955',\n",
              " 'headline_kicker': '1',\n",
              " 'pub_date': '1955-05-15T00:00:00Z',\n",
              " 'word_count': 823}"
            ]
          },
          "metadata": {},
          "execution_count": 18
        }
      ],
      "source": [
        "# replace this comment with the code to test out the function on the element at index 2\n",
        "extract_doc_info(docs[2])"
      ]
    },
    {
      "cell_type": "code",
      "execution_count": null,
      "metadata": {
        "id": "gKTphsRRIQzk"
      },
      "outputs": [],
      "source": [
        "# -EXPECTED OUTPUT-\n",
        "\"\"\"\n",
        "{'headline_main': 'Stock Drop Is Biggest in 2 Months--Margin Rise Held Factor in Lightest Trading of 1955',\n",
        " 'headline_kicker': '1',\n",
        " 'pub_date': '1955-05-15T00:00:00Z',\n",
        " 'word_count': 823}\n",
        "\"\"\""
      ]
    },
    {
      "cell_type": "markdown",
      "metadata": {
        "id": "Hyr95VgGIQz-"
      },
      "source": [
        "Now we can loop over the full list and create `doc_info_list`:\n",
        "\n",
        "> In the cell below, type following code to create a loop that creates the desired list using the function just created, then print out the results:\n",
        "\n",
        "either with a for loop:\n",
        "```\n",
        "doc_info_list = []\n",
        "for doc in docs:\n",
        "   doc_info_list.append(extract_doc_info(doc))\n",
        "doc_info_list\n",
        "```\n",
        "or with list comprehension:\n",
        "```\n",
        "doc_info_list = [extract_doc_info(doc) for doc in docs]\n",
        "doc_info_list\n",
        "```"
      ]
    },
    {
      "cell_type": "code",
      "execution_count": 19,
      "metadata": {
        "colab": {
          "base_uri": "https://localhost:8080/"
        },
        "id": "hqLrj6moIQz-",
        "outputId": "fec0c6c1-8973-4b91-d820-70385dbc5759"
      },
      "outputs": [
        {
          "output_type": "execute_result",
          "data": {
            "text/plain": [
              "[{'headline_main': \"HIGGINS, SPENT $22,189.53.; Governor-Elect's Election Expenses -- Harrison $9,220.28.\",\n",
              "  'headline_kicker': None,\n",
              "  'pub_date': '1904-11-17T00:00:00Z',\n",
              "  'word_count': 213},\n",
              " {'headline_main': 'GARDEN BOUTS CANCELED; Mauriello Says He Could Not Be Ready on Nov. 3',\n",
              "  'headline_kicker': '1',\n",
              "  'pub_date': '1944-10-23T00:00:00Z',\n",
              "  'word_count': 149},\n",
              " {'headline_main': 'Stock Drop Is Biggest in 2 Months--Margin Rise Held Factor in Lightest Trading of 1955',\n",
              "  'headline_kicker': '1',\n",
              "  'pub_date': '1955-05-15T00:00:00Z',\n",
              "  'word_count': 823},\n",
              " {'headline_main': 'MUSIC OF THE WEEK',\n",
              "  'headline_kicker': None,\n",
              "  'pub_date': '1904-11-06T00:00:00Z',\n",
              "  'word_count': 2609},\n",
              " {'headline_main': 'Anacomp Inc. reports earnings for Qtr to March 31',\n",
              "  'headline_kicker': None,\n",
              "  'pub_date': '1992-05-06T00:00:00Z',\n",
              "  'word_count': 129},\n",
              " {'headline_main': 'Brooklyn Routs Yeshiva',\n",
              "  'headline_kicker': '1',\n",
              "  'pub_date': '1972-12-24T00:00:00Z',\n",
              "  'word_count': 144},\n",
              " {'headline_main': 'Albuquerque Program Gives Drinkers a Lift',\n",
              "  'headline_kicker': '1',\n",
              "  'pub_date': '1972-12-25T00:00:00Z',\n",
              "  'word_count': 151},\n",
              " {'headline_main': 'Front Page 7 -- No Title',\n",
              "  'headline_kicker': '1',\n",
              "  'pub_date': '1944-10-24T00:00:00Z',\n",
              "  'word_count': 29},\n",
              " {'headline_main': 'UNIONS AND BUILDERS READY FOR LONG FIGHT; None of the Strikers Back - Lock-Out Soon in Effect. 23,000 ALREADY INVOLVED Orders Sent to Every Building Employer Within Twenty-five Miles -- House-smiths Vote Not to Strike.',\n",
              "  'headline_kicker': None,\n",
              "  'pub_date': '1904-08-06T00:00:00Z',\n",
              "  'word_count': 883}]"
            ]
          },
          "metadata": {},
          "execution_count": 19
        }
      ],
      "source": [
        "# replace this comment with the code to create the desired list with a loop\n",
        "doc_info_list = [extract_doc_info(doc) for doc in docs]\n",
        "doc_info_list"
      ]
    },
    {
      "cell_type": "code",
      "execution_count": null,
      "metadata": {
        "id": "3u9zyXMOIQz-"
      },
      "outputs": [],
      "source": [
        "# -EXPECTED OUTPUT-\n",
        "\"\"\"\n",
        "Output exceeds the size limit. Open the full output data in a text editor\n",
        "\n",
        "[{'headline_main': \"HIGGINS, SPENT $22,189.53.; Governor-Elect's Election Expenses -- Harrison $9,220.28.\",\n",
        "  'headline_kicker': None,\n",
        "  'pub_date': '1904-11-17T00:00:00Z',\n",
        "  'word_count': 213},\n",
        " {'headline_main': 'GARDEN BOUTS CANCELED; Mauriello Says He Could Not Be Ready on Nov. 3',\n",
        "  'headline_kicker': '1',\n",
        "  'pub_date': '1944-10-23T00:00:00Z',\n",
        "  'word_count': 149},\n",
        " {'headline_main': 'Stock Drop Is Biggest in 2 Months--Margin Rise Held Factor in Lightest Trading of 1955',\n",
        "  'headline_kicker': '1',\n",
        "  'pub_date': '1955-05-15T00:00:00Z',\n",
        "  'word_count': 823},\n",
        " {'headline_main': 'MUSIC OF THE WEEK',\n",
        "  'headline_kicker': None,\n",
        "  'pub_date': '1904-11-06T00:00:00Z',\n",
        "  'word_count': 2609},\n",
        " {'headline_main': 'Anacomp Inc. reports earnings for Qtr to March 31',\n",
        "  'headline_kicker': None,\n",
        "  'pub_date': '1992-05-06T00:00:00Z',\n",
        "  'word_count': 129},\n",
        " {'headline_main': 'Brooklyn Routs Yeshiva',\n",
        "  'headline_kicker': '1',\n",
        "  'pub_date': '1972-12-24T00:00:00Z',\n",
        "  'word_count': 144},\n",
        " {'headline_main': 'Albuquerque Program Gives Drinkers a Lift',\n",
        "  'pub_date': '1944-10-24T00:00:00Z',\n",
        "  'word_count': 29},\n",
        " {'headline_main': 'UNIONS AND BUILDERS READY FOR LONG FIGHT; None of the Strikers Back - Lock-Out Soon in Effect. 23,000 ALREADY INVOLVED Orders Sent to Every Building Employer Within Twenty-five Miles -- House-smiths Vote Not to Strike.',\n",
        "  'headline_kicker': None,\n",
        "  'pub_date': '1904-08-06T00:00:00Z',\n",
        "  'word_count': 883}]\n",
        "\"\"\""
      ]
    },
    {
      "cell_type": "markdown",
      "metadata": {
        "id": "Bu0nmsCnIQz_"
      },
      "source": [
        "Thus we have successfully flattened the required data"
      ]
    },
    {
      "cell_type": "markdown",
      "metadata": {
        "id": "liXt_3NXIQz_"
      },
      "source": [
        "## Transforming JSON to Alternative Formats\n",
        "\n",
        "### Viewing the Raw Dataset in Pandas\n",
        "\n",
        "You've also previously started to take a look at how to transform JSON to DataFrames. Investigating the schema, a good option for this could again be the value associated with the `'docs'` key. While this still has nested data itself, it's often easier to load the entire contents as a DataFrame for viewing and then use additional functions to break apart the internally nested data from there.\n",
        "\n",
        "So, first we will display the full information associated with the `'docs'` key:\n",
        "\n",
        "> In the cell below, first import pandas using the standard alias, then type the code to create a DataFrame of the info found in data->response->docs:\n",
        "\n",
        "```\n",
        "pd.DataFrame(data['response']['docs'])\n",
        "```"
      ]
    },
    {
      "cell_type": "code",
      "execution_count": null,
      "metadata": {
        "id": "dVkszRA3IQz_"
      },
      "outputs": [],
      "source": [
        "import pandas as pd\n",
        "df = pd.DataFrame(data['response']['docs'])\n",
        "df.shape"
      ]
    },
    {
      "cell_type": "code",
      "execution_count": 20,
      "metadata": {
        "colab": {
          "base_uri": "https://localhost:8080/"
        },
        "id": "dcHMx2RtIQz_",
        "outputId": "c8d3d3e3-4609-4182-bad5-843475f1d15d"
      },
      "outputs": [
        {
          "output_type": "execute_result",
          "data": {
            "text/plain": [
              "(9, 17)"
            ]
          },
          "metadata": {},
          "execution_count": 20
        }
      ],
      "source": [
        "# replace this comment with the code to import pandas using the standard alias\n",
        "import pandas as pd\n",
        "# replace this comment with the code to create the desired DataFrame\n",
        "df = pd.DataFrame(data['response']['docs'])\n",
        "df.shape"
      ]
    },
    {
      "cell_type": "markdown",
      "metadata": {
        "id": "5mk1JY_aIQz_"
      },
      "source": [
        "Note that because the value associated with the `'headline'` key is a dictionary, it is displayed in this crowded, messy way within the DataFrame, including `{` and `'` characters."
      ]
    },
    {
      "cell_type": "markdown",
      "metadata": {
        "id": "lAabe7j2IQ0A"
      },
      "source": [
        "### Viewing the Flattened Info List\n",
        "\n",
        "Because `doc_info_list` is already flattened so the value associated with each key is just a number or string, it looks much neater when loaded into pandas:\n",
        "\n",
        "> In the cell below, type the following code to create a DataFrame from `doc_info_list`:\n",
        "\n",
        "```\n",
        "pd.DataFrame(doc_info_list)\n",
        "```"
      ]
    },
    {
      "cell_type": "code",
      "execution_count": 21,
      "metadata": {
        "colab": {
          "base_uri": "https://localhost:8080/",
          "height": 331
        },
        "id": "OqrUvhVaIQ0A",
        "outputId": "63c82d4d-6b8b-4222-d2ad-471d1276d8c5"
      },
      "outputs": [
        {
          "output_type": "execute_result",
          "data": {
            "text/plain": [
              "                                       headline_main headline_kicker  \\\n",
              "0  HIGGINS, SPENT $22,189.53.; Governor-Elect's E...            None   \n",
              "1  GARDEN BOUTS CANCELED; Mauriello Says He Could...               1   \n",
              "2  Stock Drop Is Biggest in 2 Months--Margin Rise...               1   \n",
              "3                                  MUSIC OF THE WEEK            None   \n",
              "4  Anacomp Inc. reports earnings for Qtr to March 31            None   \n",
              "5                             Brooklyn Routs Yeshiva               1   \n",
              "6          Albuquerque Program Gives Drinkers a Lift               1   \n",
              "7                           Front Page 7 -- No Title               1   \n",
              "8  UNIONS AND BUILDERS READY FOR LONG FIGHT; None...            None   \n",
              "\n",
              "               pub_date  word_count  \n",
              "0  1904-11-17T00:00:00Z         213  \n",
              "1  1944-10-23T00:00:00Z         149  \n",
              "2  1955-05-15T00:00:00Z         823  \n",
              "3  1904-11-06T00:00:00Z        2609  \n",
              "4  1992-05-06T00:00:00Z         129  \n",
              "5  1972-12-24T00:00:00Z         144  \n",
              "6  1972-12-25T00:00:00Z         151  \n",
              "7  1944-10-24T00:00:00Z          29  \n",
              "8  1904-08-06T00:00:00Z         883  "
            ],
            "text/html": [
              "\n",
              "  <div id=\"df-c00945a1-75c8-48ed-99fa-9efe91a1c426\" class=\"colab-df-container\">\n",
              "    <div>\n",
              "<style scoped>\n",
              "    .dataframe tbody tr th:only-of-type {\n",
              "        vertical-align: middle;\n",
              "    }\n",
              "\n",
              "    .dataframe tbody tr th {\n",
              "        vertical-align: top;\n",
              "    }\n",
              "\n",
              "    .dataframe thead th {\n",
              "        text-align: right;\n",
              "    }\n",
              "</style>\n",
              "<table border=\"1\" class=\"dataframe\">\n",
              "  <thead>\n",
              "    <tr style=\"text-align: right;\">\n",
              "      <th></th>\n",
              "      <th>headline_main</th>\n",
              "      <th>headline_kicker</th>\n",
              "      <th>pub_date</th>\n",
              "      <th>word_count</th>\n",
              "    </tr>\n",
              "  </thead>\n",
              "  <tbody>\n",
              "    <tr>\n",
              "      <th>0</th>\n",
              "      <td>HIGGINS, SPENT $22,189.53.; Governor-Elect's E...</td>\n",
              "      <td>None</td>\n",
              "      <td>1904-11-17T00:00:00Z</td>\n",
              "      <td>213</td>\n",
              "    </tr>\n",
              "    <tr>\n",
              "      <th>1</th>\n",
              "      <td>GARDEN BOUTS CANCELED; Mauriello Says He Could...</td>\n",
              "      <td>1</td>\n",
              "      <td>1944-10-23T00:00:00Z</td>\n",
              "      <td>149</td>\n",
              "    </tr>\n",
              "    <tr>\n",
              "      <th>2</th>\n",
              "      <td>Stock Drop Is Biggest in 2 Months--Margin Rise...</td>\n",
              "      <td>1</td>\n",
              "      <td>1955-05-15T00:00:00Z</td>\n",
              "      <td>823</td>\n",
              "    </tr>\n",
              "    <tr>\n",
              "      <th>3</th>\n",
              "      <td>MUSIC OF THE WEEK</td>\n",
              "      <td>None</td>\n",
              "      <td>1904-11-06T00:00:00Z</td>\n",
              "      <td>2609</td>\n",
              "    </tr>\n",
              "    <tr>\n",
              "      <th>4</th>\n",
              "      <td>Anacomp Inc. reports earnings for Qtr to March 31</td>\n",
              "      <td>None</td>\n",
              "      <td>1992-05-06T00:00:00Z</td>\n",
              "      <td>129</td>\n",
              "    </tr>\n",
              "    <tr>\n",
              "      <th>5</th>\n",
              "      <td>Brooklyn Routs Yeshiva</td>\n",
              "      <td>1</td>\n",
              "      <td>1972-12-24T00:00:00Z</td>\n",
              "      <td>144</td>\n",
              "    </tr>\n",
              "    <tr>\n",
              "      <th>6</th>\n",
              "      <td>Albuquerque Program Gives Drinkers a Lift</td>\n",
              "      <td>1</td>\n",
              "      <td>1972-12-25T00:00:00Z</td>\n",
              "      <td>151</td>\n",
              "    </tr>\n",
              "    <tr>\n",
              "      <th>7</th>\n",
              "      <td>Front Page 7 -- No Title</td>\n",
              "      <td>1</td>\n",
              "      <td>1944-10-24T00:00:00Z</td>\n",
              "      <td>29</td>\n",
              "    </tr>\n",
              "    <tr>\n",
              "      <th>8</th>\n",
              "      <td>UNIONS AND BUILDERS READY FOR LONG FIGHT; None...</td>\n",
              "      <td>None</td>\n",
              "      <td>1904-08-06T00:00:00Z</td>\n",
              "      <td>883</td>\n",
              "    </tr>\n",
              "  </tbody>\n",
              "</table>\n",
              "</div>\n",
              "    <div class=\"colab-df-buttons\">\n",
              "\n",
              "  <div class=\"colab-df-container\">\n",
              "    <button class=\"colab-df-convert\" onclick=\"convertToInteractive('df-c00945a1-75c8-48ed-99fa-9efe91a1c426')\"\n",
              "            title=\"Convert this dataframe to an interactive table.\"\n",
              "            style=\"display:none;\">\n",
              "\n",
              "  <svg xmlns=\"http://www.w3.org/2000/svg\" height=\"24px\" viewBox=\"0 -960 960 960\">\n",
              "    <path d=\"M120-120v-720h720v720H120Zm60-500h600v-160H180v160Zm220 220h160v-160H400v160Zm0 220h160v-160H400v160ZM180-400h160v-160H180v160Zm440 0h160v-160H620v160ZM180-180h160v-160H180v160Zm440 0h160v-160H620v160Z\"/>\n",
              "  </svg>\n",
              "    </button>\n",
              "\n",
              "  <style>\n",
              "    .colab-df-container {\n",
              "      display:flex;\n",
              "      gap: 12px;\n",
              "    }\n",
              "\n",
              "    .colab-df-convert {\n",
              "      background-color: #E8F0FE;\n",
              "      border: none;\n",
              "      border-radius: 50%;\n",
              "      cursor: pointer;\n",
              "      display: none;\n",
              "      fill: #1967D2;\n",
              "      height: 32px;\n",
              "      padding: 0 0 0 0;\n",
              "      width: 32px;\n",
              "    }\n",
              "\n",
              "    .colab-df-convert:hover {\n",
              "      background-color: #E2EBFA;\n",
              "      box-shadow: 0px 1px 2px rgba(60, 64, 67, 0.3), 0px 1px 3px 1px rgba(60, 64, 67, 0.15);\n",
              "      fill: #174EA6;\n",
              "    }\n",
              "\n",
              "    .colab-df-buttons div {\n",
              "      margin-bottom: 4px;\n",
              "    }\n",
              "\n",
              "    [theme=dark] .colab-df-convert {\n",
              "      background-color: #3B4455;\n",
              "      fill: #D2E3FC;\n",
              "    }\n",
              "\n",
              "    [theme=dark] .colab-df-convert:hover {\n",
              "      background-color: #434B5C;\n",
              "      box-shadow: 0px 1px 3px 1px rgba(0, 0, 0, 0.15);\n",
              "      filter: drop-shadow(0px 1px 2px rgba(0, 0, 0, 0.3));\n",
              "      fill: #FFFFFF;\n",
              "    }\n",
              "  </style>\n",
              "\n",
              "    <script>\n",
              "      const buttonEl =\n",
              "        document.querySelector('#df-c00945a1-75c8-48ed-99fa-9efe91a1c426 button.colab-df-convert');\n",
              "      buttonEl.style.display =\n",
              "        google.colab.kernel.accessAllowed ? 'block' : 'none';\n",
              "\n",
              "      async function convertToInteractive(key) {\n",
              "        const element = document.querySelector('#df-c00945a1-75c8-48ed-99fa-9efe91a1c426');\n",
              "        const dataTable =\n",
              "          await google.colab.kernel.invokeFunction('convertToInteractive',\n",
              "                                                    [key], {});\n",
              "        if (!dataTable) return;\n",
              "\n",
              "        const docLinkHtml = 'Like what you see? Visit the ' +\n",
              "          '<a target=\"_blank\" href=https://colab.research.google.com/notebooks/data_table.ipynb>data table notebook</a>'\n",
              "          + ' to learn more about interactive tables.';\n",
              "        element.innerHTML = '';\n",
              "        dataTable['output_type'] = 'display_data';\n",
              "        await google.colab.output.renderOutput(dataTable, element);\n",
              "        const docLink = document.createElement('div');\n",
              "        docLink.innerHTML = docLinkHtml;\n",
              "        element.appendChild(docLink);\n",
              "      }\n",
              "    </script>\n",
              "  </div>\n",
              "\n",
              "\n",
              "    <div id=\"df-c7dd8982-0c6b-48d2-9be8-3d67821e8029\">\n",
              "      <button class=\"colab-df-quickchart\" onclick=\"quickchart('df-c7dd8982-0c6b-48d2-9be8-3d67821e8029')\"\n",
              "                title=\"Suggest charts\"\n",
              "                style=\"display:none;\">\n",
              "\n",
              "<svg xmlns=\"http://www.w3.org/2000/svg\" height=\"24px\"viewBox=\"0 0 24 24\"\n",
              "     width=\"24px\">\n",
              "    <g>\n",
              "        <path d=\"M19 3H5c-1.1 0-2 .9-2 2v14c0 1.1.9 2 2 2h14c1.1 0 2-.9 2-2V5c0-1.1-.9-2-2-2zM9 17H7v-7h2v7zm4 0h-2V7h2v10zm4 0h-2v-4h2v4z\"/>\n",
              "    </g>\n",
              "</svg>\n",
              "      </button>\n",
              "\n",
              "<style>\n",
              "  .colab-df-quickchart {\n",
              "      --bg-color: #E8F0FE;\n",
              "      --fill-color: #1967D2;\n",
              "      --hover-bg-color: #E2EBFA;\n",
              "      --hover-fill-color: #174EA6;\n",
              "      --disabled-fill-color: #AAA;\n",
              "      --disabled-bg-color: #DDD;\n",
              "  }\n",
              "\n",
              "  [theme=dark] .colab-df-quickchart {\n",
              "      --bg-color: #3B4455;\n",
              "      --fill-color: #D2E3FC;\n",
              "      --hover-bg-color: #434B5C;\n",
              "      --hover-fill-color: #FFFFFF;\n",
              "      --disabled-bg-color: #3B4455;\n",
              "      --disabled-fill-color: #666;\n",
              "  }\n",
              "\n",
              "  .colab-df-quickchart {\n",
              "    background-color: var(--bg-color);\n",
              "    border: none;\n",
              "    border-radius: 50%;\n",
              "    cursor: pointer;\n",
              "    display: none;\n",
              "    fill: var(--fill-color);\n",
              "    height: 32px;\n",
              "    padding: 0;\n",
              "    width: 32px;\n",
              "  }\n",
              "\n",
              "  .colab-df-quickchart:hover {\n",
              "    background-color: var(--hover-bg-color);\n",
              "    box-shadow: 0 1px 2px rgba(60, 64, 67, 0.3), 0 1px 3px 1px rgba(60, 64, 67, 0.15);\n",
              "    fill: var(--button-hover-fill-color);\n",
              "  }\n",
              "\n",
              "  .colab-df-quickchart-complete:disabled,\n",
              "  .colab-df-quickchart-complete:disabled:hover {\n",
              "    background-color: var(--disabled-bg-color);\n",
              "    fill: var(--disabled-fill-color);\n",
              "    box-shadow: none;\n",
              "  }\n",
              "\n",
              "  .colab-df-spinner {\n",
              "    border: 2px solid var(--fill-color);\n",
              "    border-color: transparent;\n",
              "    border-bottom-color: var(--fill-color);\n",
              "    animation:\n",
              "      spin 1s steps(1) infinite;\n",
              "  }\n",
              "\n",
              "  @keyframes spin {\n",
              "    0% {\n",
              "      border-color: transparent;\n",
              "      border-bottom-color: var(--fill-color);\n",
              "      border-left-color: var(--fill-color);\n",
              "    }\n",
              "    20% {\n",
              "      border-color: transparent;\n",
              "      border-left-color: var(--fill-color);\n",
              "      border-top-color: var(--fill-color);\n",
              "    }\n",
              "    30% {\n",
              "      border-color: transparent;\n",
              "      border-left-color: var(--fill-color);\n",
              "      border-top-color: var(--fill-color);\n",
              "      border-right-color: var(--fill-color);\n",
              "    }\n",
              "    40% {\n",
              "      border-color: transparent;\n",
              "      border-right-color: var(--fill-color);\n",
              "      border-top-color: var(--fill-color);\n",
              "    }\n",
              "    60% {\n",
              "      border-color: transparent;\n",
              "      border-right-color: var(--fill-color);\n",
              "    }\n",
              "    80% {\n",
              "      border-color: transparent;\n",
              "      border-right-color: var(--fill-color);\n",
              "      border-bottom-color: var(--fill-color);\n",
              "    }\n",
              "    90% {\n",
              "      border-color: transparent;\n",
              "      border-bottom-color: var(--fill-color);\n",
              "    }\n",
              "  }\n",
              "</style>\n",
              "\n",
              "      <script>\n",
              "        async function quickchart(key) {\n",
              "          const quickchartButtonEl =\n",
              "            document.querySelector('#' + key + ' button');\n",
              "          quickchartButtonEl.disabled = true;  // To prevent multiple clicks.\n",
              "          quickchartButtonEl.classList.add('colab-df-spinner');\n",
              "          try {\n",
              "            const charts = await google.colab.kernel.invokeFunction(\n",
              "                'suggestCharts', [key], {});\n",
              "          } catch (error) {\n",
              "            console.error('Error during call to suggestCharts:', error);\n",
              "          }\n",
              "          quickchartButtonEl.classList.remove('colab-df-spinner');\n",
              "          quickchartButtonEl.classList.add('colab-df-quickchart-complete');\n",
              "        }\n",
              "        (() => {\n",
              "          let quickchartButtonEl =\n",
              "            document.querySelector('#df-c7dd8982-0c6b-48d2-9be8-3d67821e8029 button');\n",
              "          quickchartButtonEl.style.display =\n",
              "            google.colab.kernel.accessAllowed ? 'block' : 'none';\n",
              "        })();\n",
              "      </script>\n",
              "    </div>\n",
              "\n",
              "    </div>\n",
              "  </div>\n"
            ],
            "application/vnd.google.colaboratory.intrinsic+json": {
              "type": "dataframe",
              "summary": "{\n  \"name\": \"pd\",\n  \"rows\": 9,\n  \"fields\": [\n    {\n      \"column\": \"headline_main\",\n      \"properties\": {\n        \"dtype\": \"string\",\n        \"num_unique_values\": 9,\n        \"samples\": [\n          \"Front Page 7 -- No Title\",\n          \"GARDEN BOUTS CANCELED; Mauriello Says He Could Not Be Ready on Nov. 3\",\n          \"Brooklyn Routs Yeshiva\"\n        ],\n        \"semantic_type\": \"\",\n        \"description\": \"\"\n      }\n    },\n    {\n      \"column\": \"headline_kicker\",\n      \"properties\": {\n        \"dtype\": \"category\",\n        \"num_unique_values\": 1,\n        \"samples\": [\n          \"1\"\n        ],\n        \"semantic_type\": \"\",\n        \"description\": \"\"\n      }\n    },\n    {\n      \"column\": \"pub_date\",\n      \"properties\": {\n        \"dtype\": \"object\",\n        \"num_unique_values\": 9,\n        \"samples\": [\n          \"1944-10-24T00:00:00Z\"\n        ],\n        \"semantic_type\": \"\",\n        \"description\": \"\"\n      }\n    },\n    {\n      \"column\": \"word_count\",\n      \"properties\": {\n        \"dtype\": \"number\",\n        \"std\": 826,\n        \"min\": 29,\n        \"max\": 2609,\n        \"num_unique_values\": 9,\n        \"samples\": [\n          29\n        ],\n        \"semantic_type\": \"\",\n        \"description\": \"\"\n      }\n    }\n  ]\n}"
            }
          },
          "metadata": {},
          "execution_count": 21
        }
      ],
      "source": [
        "# replace this comment with the code to create the desired DataFrame\n",
        "pd.DataFrame(doc_info_list)"
      ]
    },
    {
      "cell_type": "markdown",
      "metadata": {
        "id": "GemKnUn0IQ0A"
      },
      "source": [
        "We could also re-create this from the raw data using pandas rather than base Python:\n",
        "\n",
        "> In the cell below, type the following code to create the DataFrame using pandas:\n",
        "\n",
        "First, create a DataFrame of the raw docs info:\n",
        "```\n",
        "df = pd.DataFrame(data['response']['docs'])\n",
        "```\n",
        "Next, make new columns for `headline_main` and `headline_kicker`\n",
        "```\n",
        "df['headline_main'] = df['headline'].apply(lambda headline_dict: headline_dict['main'])\n",
        "df['headline_kicker'] = df['headline'].apply(lambda headline_dict: headline_dict['kicker'])\n",
        "```\n",
        "Finally, subset to only the relevent columns and display the DataFrame and then display the DataFrame:\n",
        "```\n",
        "df = df[['headline_main', 'headline_kicker', 'pub_date', 'word_count']]\n",
        "df\n",
        "```"
      ]
    },
    {
      "cell_type": "code",
      "execution_count": null,
      "metadata": {
        "id": "_cwQr3qCIQ0A"
      },
      "outputs": [],
      "source": []
    },
    {
      "cell_type": "code",
      "execution_count": 24,
      "metadata": {
        "colab": {
          "base_uri": "https://localhost:8080/",
          "height": 331
        },
        "id": "hJZ5h1HMIQ0A",
        "outputId": "e5237699-0513-40b4-bf00-d292fbfd57a3"
      },
      "outputs": [
        {
          "output_type": "execute_result",
          "data": {
            "text/plain": [
              "                                       headline_main headline_kicker  \\\n",
              "0  HIGGINS, SPENT $22,189.53.; Governor-Elect's E...            None   \n",
              "1  GARDEN BOUTS CANCELED; Mauriello Says He Could...               1   \n",
              "2  Stock Drop Is Biggest in 2 Months--Margin Rise...               1   \n",
              "3                                  MUSIC OF THE WEEK            None   \n",
              "4  Anacomp Inc. reports earnings for Qtr to March 31            None   \n",
              "5                             Brooklyn Routs Yeshiva               1   \n",
              "6          Albuquerque Program Gives Drinkers a Lift               1   \n",
              "7                           Front Page 7 -- No Title               1   \n",
              "8  UNIONS AND BUILDERS READY FOR LONG FIGHT; None...            None   \n",
              "\n",
              "               pub_date  word_count  \n",
              "0  1904-11-17T00:00:00Z         213  \n",
              "1  1944-10-23T00:00:00Z         149  \n",
              "2  1955-05-15T00:00:00Z         823  \n",
              "3  1904-11-06T00:00:00Z        2609  \n",
              "4  1992-05-06T00:00:00Z         129  \n",
              "5  1972-12-24T00:00:00Z         144  \n",
              "6  1972-12-25T00:00:00Z         151  \n",
              "7  1944-10-24T00:00:00Z          29  \n",
              "8  1904-08-06T00:00:00Z         883  "
            ],
            "text/html": [
              "\n",
              "  <div id=\"df-e6955fba-fa0d-4a32-91ff-df735c2bac5d\" class=\"colab-df-container\">\n",
              "    <div>\n",
              "<style scoped>\n",
              "    .dataframe tbody tr th:only-of-type {\n",
              "        vertical-align: middle;\n",
              "    }\n",
              "\n",
              "    .dataframe tbody tr th {\n",
              "        vertical-align: top;\n",
              "    }\n",
              "\n",
              "    .dataframe thead th {\n",
              "        text-align: right;\n",
              "    }\n",
              "</style>\n",
              "<table border=\"1\" class=\"dataframe\">\n",
              "  <thead>\n",
              "    <tr style=\"text-align: right;\">\n",
              "      <th></th>\n",
              "      <th>headline_main</th>\n",
              "      <th>headline_kicker</th>\n",
              "      <th>pub_date</th>\n",
              "      <th>word_count</th>\n",
              "    </tr>\n",
              "  </thead>\n",
              "  <tbody>\n",
              "    <tr>\n",
              "      <th>0</th>\n",
              "      <td>HIGGINS, SPENT $22,189.53.; Governor-Elect's E...</td>\n",
              "      <td>None</td>\n",
              "      <td>1904-11-17T00:00:00Z</td>\n",
              "      <td>213</td>\n",
              "    </tr>\n",
              "    <tr>\n",
              "      <th>1</th>\n",
              "      <td>GARDEN BOUTS CANCELED; Mauriello Says He Could...</td>\n",
              "      <td>1</td>\n",
              "      <td>1944-10-23T00:00:00Z</td>\n",
              "      <td>149</td>\n",
              "    </tr>\n",
              "    <tr>\n",
              "      <th>2</th>\n",
              "      <td>Stock Drop Is Biggest in 2 Months--Margin Rise...</td>\n",
              "      <td>1</td>\n",
              "      <td>1955-05-15T00:00:00Z</td>\n",
              "      <td>823</td>\n",
              "    </tr>\n",
              "    <tr>\n",
              "      <th>3</th>\n",
              "      <td>MUSIC OF THE WEEK</td>\n",
              "      <td>None</td>\n",
              "      <td>1904-11-06T00:00:00Z</td>\n",
              "      <td>2609</td>\n",
              "    </tr>\n",
              "    <tr>\n",
              "      <th>4</th>\n",
              "      <td>Anacomp Inc. reports earnings for Qtr to March 31</td>\n",
              "      <td>None</td>\n",
              "      <td>1992-05-06T00:00:00Z</td>\n",
              "      <td>129</td>\n",
              "    </tr>\n",
              "    <tr>\n",
              "      <th>5</th>\n",
              "      <td>Brooklyn Routs Yeshiva</td>\n",
              "      <td>1</td>\n",
              "      <td>1972-12-24T00:00:00Z</td>\n",
              "      <td>144</td>\n",
              "    </tr>\n",
              "    <tr>\n",
              "      <th>6</th>\n",
              "      <td>Albuquerque Program Gives Drinkers a Lift</td>\n",
              "      <td>1</td>\n",
              "      <td>1972-12-25T00:00:00Z</td>\n",
              "      <td>151</td>\n",
              "    </tr>\n",
              "    <tr>\n",
              "      <th>7</th>\n",
              "      <td>Front Page 7 -- No Title</td>\n",
              "      <td>1</td>\n",
              "      <td>1944-10-24T00:00:00Z</td>\n",
              "      <td>29</td>\n",
              "    </tr>\n",
              "    <tr>\n",
              "      <th>8</th>\n",
              "      <td>UNIONS AND BUILDERS READY FOR LONG FIGHT; None...</td>\n",
              "      <td>None</td>\n",
              "      <td>1904-08-06T00:00:00Z</td>\n",
              "      <td>883</td>\n",
              "    </tr>\n",
              "  </tbody>\n",
              "</table>\n",
              "</div>\n",
              "    <div class=\"colab-df-buttons\">\n",
              "\n",
              "  <div class=\"colab-df-container\">\n",
              "    <button class=\"colab-df-convert\" onclick=\"convertToInteractive('df-e6955fba-fa0d-4a32-91ff-df735c2bac5d')\"\n",
              "            title=\"Convert this dataframe to an interactive table.\"\n",
              "            style=\"display:none;\">\n",
              "\n",
              "  <svg xmlns=\"http://www.w3.org/2000/svg\" height=\"24px\" viewBox=\"0 -960 960 960\">\n",
              "    <path d=\"M120-120v-720h720v720H120Zm60-500h600v-160H180v160Zm220 220h160v-160H400v160Zm0 220h160v-160H400v160ZM180-400h160v-160H180v160Zm440 0h160v-160H620v160ZM180-180h160v-160H180v160Zm440 0h160v-160H620v160Z\"/>\n",
              "  </svg>\n",
              "    </button>\n",
              "\n",
              "  <style>\n",
              "    .colab-df-container {\n",
              "      display:flex;\n",
              "      gap: 12px;\n",
              "    }\n",
              "\n",
              "    .colab-df-convert {\n",
              "      background-color: #E8F0FE;\n",
              "      border: none;\n",
              "      border-radius: 50%;\n",
              "      cursor: pointer;\n",
              "      display: none;\n",
              "      fill: #1967D2;\n",
              "      height: 32px;\n",
              "      padding: 0 0 0 0;\n",
              "      width: 32px;\n",
              "    }\n",
              "\n",
              "    .colab-df-convert:hover {\n",
              "      background-color: #E2EBFA;\n",
              "      box-shadow: 0px 1px 2px rgba(60, 64, 67, 0.3), 0px 1px 3px 1px rgba(60, 64, 67, 0.15);\n",
              "      fill: #174EA6;\n",
              "    }\n",
              "\n",
              "    .colab-df-buttons div {\n",
              "      margin-bottom: 4px;\n",
              "    }\n",
              "\n",
              "    [theme=dark] .colab-df-convert {\n",
              "      background-color: #3B4455;\n",
              "      fill: #D2E3FC;\n",
              "    }\n",
              "\n",
              "    [theme=dark] .colab-df-convert:hover {\n",
              "      background-color: #434B5C;\n",
              "      box-shadow: 0px 1px 3px 1px rgba(0, 0, 0, 0.15);\n",
              "      filter: drop-shadow(0px 1px 2px rgba(0, 0, 0, 0.3));\n",
              "      fill: #FFFFFF;\n",
              "    }\n",
              "  </style>\n",
              "\n",
              "    <script>\n",
              "      const buttonEl =\n",
              "        document.querySelector('#df-e6955fba-fa0d-4a32-91ff-df735c2bac5d button.colab-df-convert');\n",
              "      buttonEl.style.display =\n",
              "        google.colab.kernel.accessAllowed ? 'block' : 'none';\n",
              "\n",
              "      async function convertToInteractive(key) {\n",
              "        const element = document.querySelector('#df-e6955fba-fa0d-4a32-91ff-df735c2bac5d');\n",
              "        const dataTable =\n",
              "          await google.colab.kernel.invokeFunction('convertToInteractive',\n",
              "                                                    [key], {});\n",
              "        if (!dataTable) return;\n",
              "\n",
              "        const docLinkHtml = 'Like what you see? Visit the ' +\n",
              "          '<a target=\"_blank\" href=https://colab.research.google.com/notebooks/data_table.ipynb>data table notebook</a>'\n",
              "          + ' to learn more about interactive tables.';\n",
              "        element.innerHTML = '';\n",
              "        dataTable['output_type'] = 'display_data';\n",
              "        await google.colab.output.renderOutput(dataTable, element);\n",
              "        const docLink = document.createElement('div');\n",
              "        docLink.innerHTML = docLinkHtml;\n",
              "        element.appendChild(docLink);\n",
              "      }\n",
              "    </script>\n",
              "  </div>\n",
              "\n",
              "\n",
              "    <div id=\"df-da586767-8657-409e-8c21-6043aedbcf4c\">\n",
              "      <button class=\"colab-df-quickchart\" onclick=\"quickchart('df-da586767-8657-409e-8c21-6043aedbcf4c')\"\n",
              "                title=\"Suggest charts\"\n",
              "                style=\"display:none;\">\n",
              "\n",
              "<svg xmlns=\"http://www.w3.org/2000/svg\" height=\"24px\"viewBox=\"0 0 24 24\"\n",
              "     width=\"24px\">\n",
              "    <g>\n",
              "        <path d=\"M19 3H5c-1.1 0-2 .9-2 2v14c0 1.1.9 2 2 2h14c1.1 0 2-.9 2-2V5c0-1.1-.9-2-2-2zM9 17H7v-7h2v7zm4 0h-2V7h2v10zm4 0h-2v-4h2v4z\"/>\n",
              "    </g>\n",
              "</svg>\n",
              "      </button>\n",
              "\n",
              "<style>\n",
              "  .colab-df-quickchart {\n",
              "      --bg-color: #E8F0FE;\n",
              "      --fill-color: #1967D2;\n",
              "      --hover-bg-color: #E2EBFA;\n",
              "      --hover-fill-color: #174EA6;\n",
              "      --disabled-fill-color: #AAA;\n",
              "      --disabled-bg-color: #DDD;\n",
              "  }\n",
              "\n",
              "  [theme=dark] .colab-df-quickchart {\n",
              "      --bg-color: #3B4455;\n",
              "      --fill-color: #D2E3FC;\n",
              "      --hover-bg-color: #434B5C;\n",
              "      --hover-fill-color: #FFFFFF;\n",
              "      --disabled-bg-color: #3B4455;\n",
              "      --disabled-fill-color: #666;\n",
              "  }\n",
              "\n",
              "  .colab-df-quickchart {\n",
              "    background-color: var(--bg-color);\n",
              "    border: none;\n",
              "    border-radius: 50%;\n",
              "    cursor: pointer;\n",
              "    display: none;\n",
              "    fill: var(--fill-color);\n",
              "    height: 32px;\n",
              "    padding: 0;\n",
              "    width: 32px;\n",
              "  }\n",
              "\n",
              "  .colab-df-quickchart:hover {\n",
              "    background-color: var(--hover-bg-color);\n",
              "    box-shadow: 0 1px 2px rgba(60, 64, 67, 0.3), 0 1px 3px 1px rgba(60, 64, 67, 0.15);\n",
              "    fill: var(--button-hover-fill-color);\n",
              "  }\n",
              "\n",
              "  .colab-df-quickchart-complete:disabled,\n",
              "  .colab-df-quickchart-complete:disabled:hover {\n",
              "    background-color: var(--disabled-bg-color);\n",
              "    fill: var(--disabled-fill-color);\n",
              "    box-shadow: none;\n",
              "  }\n",
              "\n",
              "  .colab-df-spinner {\n",
              "    border: 2px solid var(--fill-color);\n",
              "    border-color: transparent;\n",
              "    border-bottom-color: var(--fill-color);\n",
              "    animation:\n",
              "      spin 1s steps(1) infinite;\n",
              "  }\n",
              "\n",
              "  @keyframes spin {\n",
              "    0% {\n",
              "      border-color: transparent;\n",
              "      border-bottom-color: var(--fill-color);\n",
              "      border-left-color: var(--fill-color);\n",
              "    }\n",
              "    20% {\n",
              "      border-color: transparent;\n",
              "      border-left-color: var(--fill-color);\n",
              "      border-top-color: var(--fill-color);\n",
              "    }\n",
              "    30% {\n",
              "      border-color: transparent;\n",
              "      border-left-color: var(--fill-color);\n",
              "      border-top-color: var(--fill-color);\n",
              "      border-right-color: var(--fill-color);\n",
              "    }\n",
              "    40% {\n",
              "      border-color: transparent;\n",
              "      border-right-color: var(--fill-color);\n",
              "      border-top-color: var(--fill-color);\n",
              "    }\n",
              "    60% {\n",
              "      border-color: transparent;\n",
              "      border-right-color: var(--fill-color);\n",
              "    }\n",
              "    80% {\n",
              "      border-color: transparent;\n",
              "      border-right-color: var(--fill-color);\n",
              "      border-bottom-color: var(--fill-color);\n",
              "    }\n",
              "    90% {\n",
              "      border-color: transparent;\n",
              "      border-bottom-color: var(--fill-color);\n",
              "    }\n",
              "  }\n",
              "</style>\n",
              "\n",
              "      <script>\n",
              "        async function quickchart(key) {\n",
              "          const quickchartButtonEl =\n",
              "            document.querySelector('#' + key + ' button');\n",
              "          quickchartButtonEl.disabled = true;  // To prevent multiple clicks.\n",
              "          quickchartButtonEl.classList.add('colab-df-spinner');\n",
              "          try {\n",
              "            const charts = await google.colab.kernel.invokeFunction(\n",
              "                'suggestCharts', [key], {});\n",
              "          } catch (error) {\n",
              "            console.error('Error during call to suggestCharts:', error);\n",
              "          }\n",
              "          quickchartButtonEl.classList.remove('colab-df-spinner');\n",
              "          quickchartButtonEl.classList.add('colab-df-quickchart-complete');\n",
              "        }\n",
              "        (() => {\n",
              "          let quickchartButtonEl =\n",
              "            document.querySelector('#df-da586767-8657-409e-8c21-6043aedbcf4c button');\n",
              "          quickchartButtonEl.style.display =\n",
              "            google.colab.kernel.accessAllowed ? 'block' : 'none';\n",
              "        })();\n",
              "      </script>\n",
              "    </div>\n",
              "\n",
              "  <div id=\"id_d6d7fecb-292b-4d61-8904-6657b0e92106\">\n",
              "    <style>\n",
              "      .colab-df-generate {\n",
              "        background-color: #E8F0FE;\n",
              "        border: none;\n",
              "        border-radius: 50%;\n",
              "        cursor: pointer;\n",
              "        display: none;\n",
              "        fill: #1967D2;\n",
              "        height: 32px;\n",
              "        padding: 0 0 0 0;\n",
              "        width: 32px;\n",
              "      }\n",
              "\n",
              "      .colab-df-generate:hover {\n",
              "        background-color: #E2EBFA;\n",
              "        box-shadow: 0px 1px 2px rgba(60, 64, 67, 0.3), 0px 1px 3px 1px rgba(60, 64, 67, 0.15);\n",
              "        fill: #174EA6;\n",
              "      }\n",
              "\n",
              "      [theme=dark] .colab-df-generate {\n",
              "        background-color: #3B4455;\n",
              "        fill: #D2E3FC;\n",
              "      }\n",
              "\n",
              "      [theme=dark] .colab-df-generate:hover {\n",
              "        background-color: #434B5C;\n",
              "        box-shadow: 0px 1px 3px 1px rgba(0, 0, 0, 0.15);\n",
              "        filter: drop-shadow(0px 1px 2px rgba(0, 0, 0, 0.3));\n",
              "        fill: #FFFFFF;\n",
              "      }\n",
              "    </style>\n",
              "    <button class=\"colab-df-generate\" onclick=\"generateWithVariable('df')\"\n",
              "            title=\"Generate code using this dataframe.\"\n",
              "            style=\"display:none;\">\n",
              "\n",
              "  <svg xmlns=\"http://www.w3.org/2000/svg\" height=\"24px\"viewBox=\"0 0 24 24\"\n",
              "       width=\"24px\">\n",
              "    <path d=\"M7,19H8.4L18.45,9,17,7.55,7,17.6ZM5,21V16.75L18.45,3.32a2,2,0,0,1,2.83,0l1.4,1.43a1.91,1.91,0,0,1,.58,1.4,1.91,1.91,0,0,1-.58,1.4L9.25,21ZM18.45,9,17,7.55Zm-12,3A5.31,5.31,0,0,0,4.9,8.1,5.31,5.31,0,0,0,1,6.5,5.31,5.31,0,0,0,4.9,4.9,5.31,5.31,0,0,0,6.5,1,5.31,5.31,0,0,0,8.1,4.9,5.31,5.31,0,0,0,12,6.5,5.46,5.46,0,0,0,6.5,12Z\"/>\n",
              "  </svg>\n",
              "    </button>\n",
              "    <script>\n",
              "      (() => {\n",
              "      const buttonEl =\n",
              "        document.querySelector('#id_d6d7fecb-292b-4d61-8904-6657b0e92106 button.colab-df-generate');\n",
              "      buttonEl.style.display =\n",
              "        google.colab.kernel.accessAllowed ? 'block' : 'none';\n",
              "\n",
              "      buttonEl.onclick = () => {\n",
              "        google.colab.notebook.generateWithVariable('df');\n",
              "      }\n",
              "      })();\n",
              "    </script>\n",
              "  </div>\n",
              "\n",
              "    </div>\n",
              "  </div>\n"
            ],
            "application/vnd.google.colaboratory.intrinsic+json": {
              "type": "dataframe",
              "variable_name": "df",
              "summary": "{\n  \"name\": \"df\",\n  \"rows\": 9,\n  \"fields\": [\n    {\n      \"column\": \"headline_main\",\n      \"properties\": {\n        \"dtype\": \"string\",\n        \"num_unique_values\": 9,\n        \"samples\": [\n          \"Front Page 7 -- No Title\",\n          \"GARDEN BOUTS CANCELED; Mauriello Says He Could Not Be Ready on Nov. 3\",\n          \"Brooklyn Routs Yeshiva\"\n        ],\n        \"semantic_type\": \"\",\n        \"description\": \"\"\n      }\n    },\n    {\n      \"column\": \"headline_kicker\",\n      \"properties\": {\n        \"dtype\": \"category\",\n        \"num_unique_values\": 1,\n        \"samples\": [\n          \"1\"\n        ],\n        \"semantic_type\": \"\",\n        \"description\": \"\"\n      }\n    },\n    {\n      \"column\": \"pub_date\",\n      \"properties\": {\n        \"dtype\": \"object\",\n        \"num_unique_values\": 9,\n        \"samples\": [\n          \"1944-10-24T00:00:00Z\"\n        ],\n        \"semantic_type\": \"\",\n        \"description\": \"\"\n      }\n    },\n    {\n      \"column\": \"word_count\",\n      \"properties\": {\n        \"dtype\": \"number\",\n        \"std\": 826,\n        \"min\": 29,\n        \"max\": 2609,\n        \"num_unique_values\": 9,\n        \"samples\": [\n          29\n        ],\n        \"semantic_type\": \"\",\n        \"description\": \"\"\n      }\n    }\n  ]\n}"
            }
          },
          "metadata": {},
          "execution_count": 24
        }
      ],
      "source": [
        "# replace this comment with the code to create DataFrame of raw docs info\n",
        "df = pd.DataFrame(data['response']['docs'])\n",
        "# replace this comment with the code to make new headline_main and headline_kicker columns\n",
        "df['headline_main'] = df['headline'].apply(lambda headline_dict: headline_dict['main'])\n",
        "df['headline_kicker'] = df['headline'].apply(lambda headline_dict: headline_dict['kicker'])\n",
        "# replace this comment with the code to subset to only the relevant columns\n",
        "df = df[['headline_main', 'headline_kicker', 'pub_date', 'word_count']]\n",
        "\n",
        "# replace this comment with the code to display the DataFrame\n",
        "df"
      ]
    },
    {
      "cell_type": "code",
      "execution_count": null,
      "metadata": {
        "id": "ba_dzr4eIQ0B"
      },
      "outputs": [],
      "source": [
        "# -EXPECTED OUTPUT-\n",
        "# a pandas DataFrame with 9 rows and 5 columns"
      ]
    },
    {
      "cell_type": "code",
      "source": [
        "df.shape"
      ],
      "metadata": {
        "colab": {
          "base_uri": "https://localhost:8080/"
        },
        "id": "xu1UJSZ5R6Hk",
        "outputId": "ed05e8a5-0dfd-47a3-83be-40972c336eed"
      },
      "execution_count": 25,
      "outputs": [
        {
          "output_type": "execute_result",
          "data": {
            "text/plain": [
              "(9, 4)"
            ]
          },
          "metadata": {},
          "execution_count": 25
        }
      ]
    },
    {
      "cell_type": "markdown",
      "metadata": {
        "id": "lqau0SLZIQ0B"
      },
      "source": [
        "This is a good general strategy for transforming nested JSON: create a DataFrame and then break out nested features into their own column features."
      ]
    },
    {
      "cell_type": "markdown",
      "metadata": {
        "id": "NWIYh8DFIQ0B"
      },
      "source": [
        "## Outputting to JSON\n",
        "\n",
        "Finally, take a look at how you can write data back to JSON. Like loading, you first open a file (this time in write mode) and use the json package to interact with that file object. Only instead of `json.load` to load the contents of the file into a Python object, you call `json.dump` to write the contents of the Python object into the file.\n",
        "\n",
        "> In the cell below, type the following code to write the data to a JSON file:\n",
        "\n",
        "```\n",
        "with open('doc_info_list.json', 'w') as f:\n",
        "    json.dump(doc_info_list, f)\n",
        "```"
      ]
    },
    {
      "cell_type": "code",
      "execution_count": 26,
      "metadata": {
        "id": "xRumY-kgIQ0B"
      },
      "outputs": [],
      "source": [
        "# replace this comment with the code to write the data to a json file\n",
        "with open('doc_info_list.json', 'w') as f:\n",
        "    json.dump(doc_info_list, f)"
      ]
    },
    {
      "cell_type": "markdown",
      "metadata": {
        "id": "AVXUfQGWIQ0C"
      },
      "source": [
        "Then if we want to load that cleaned dataset for future use, we can open that new file:\n",
        "\n",
        "> In the cell below, type the following code to load the file we just created:\n",
        "\n",
        "```\n",
        "with open('doc_info_list.json') as f:\n",
        "    doc_info_list_from_disk = json.load(f)\n",
        "```"
      ]
    },
    {
      "cell_type": "code",
      "execution_count": 27,
      "metadata": {
        "id": "Ep9bTcdHIQ0C"
      },
      "outputs": [],
      "source": [
        "# replace this comment with the code to load the file just created\n",
        "with open('doc_info_list.json') as f:\n",
        "    doc_info_list_from_disk = json.load(f)"
      ]
    },
    {
      "cell_type": "markdown",
      "metadata": {
        "id": "-4AJ9Cp6IQ0C"
      },
      "source": [
        "The new file should contain identical information to the original Python variable:\n",
        "\n",
        "> In the cell below, type the following code to check that the data in `doc_info_list` is the same as the data in `doc_info_list_from_disk`:\n",
        "\n",
        "```\n",
        "doc_info_list_from_disk == doc_info_list\n",
        "```"
      ]
    },
    {
      "cell_type": "code",
      "execution_count": 28,
      "metadata": {
        "colab": {
          "base_uri": "https://localhost:8080/"
        },
        "id": "NE-iYOtcIQ0C",
        "outputId": "83102856-527d-43d8-ee7a-c15876fabd3c"
      },
      "outputs": [
        {
          "output_type": "execute_result",
          "data": {
            "text/plain": [
              "True"
            ]
          },
          "metadata": {},
          "execution_count": 28
        }
      ],
      "source": [
        "# replace this comment with the code to check that the two files contain the same data\n",
        "doc_info_list_from_disk == doc_info_list"
      ]
    },
    {
      "cell_type": "code",
      "execution_count": null,
      "metadata": {
        "id": "XegFC4qYIQ0C"
      },
      "outputs": [],
      "source": [
        "# -EXPECTED OUTPUT-\n",
        "# True"
      ]
    },
    {
      "cell_type": "markdown",
      "metadata": {
        "id": "wgLeksofIQ0D"
      },
      "source": [
        "## Summary\n",
        "There you have it. In this, you practiced using JSON some more, this time interpreting an example schema diagram in order to retrieve information. You also looked at a general procedure for transforming nested data to pandas DataFrames (create a DataFrame, and then break apart nested data using lambda functions to create additional columns). Finally, you also took a brief look at saving data to JSON files."
      ]
    }
  ],
  "metadata": {
    "kernelspec": {
      "display_name": "Python 3",
      "language": "python",
      "name": "python3"
    },
    "language_info": {
      "codemirror_mode": {
        "name": "ipython",
        "version": 3
      },
      "file_extension": ".py",
      "mimetype": "text/x-python",
      "name": "python",
      "nbconvert_exporter": "python",
      "pygments_lexer": "ipython3",
      "version": "3.8.5"
    },
    "toc": {
      "base_numbering": 1,
      "nav_menu": {},
      "number_sections": true,
      "sideBar": true,
      "skip_h1_title": false,
      "title_cell": "Table of Contents",
      "title_sidebar": "Contents",
      "toc_cell": false,
      "toc_position": {},
      "toc_section_display": true,
      "toc_window_display": false
    },
    "colab": {
      "provenance": [],
      "include_colab_link": true
    }
  },
  "nbformat": 4,
  "nbformat_minor": 0
}