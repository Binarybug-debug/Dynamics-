{
  "cells": [
    {
      "cell_type": "markdown",
      "metadata": {
        "id": "view-in-github",
        "colab_type": "text"
      },
      "source": [
        "<a href=\"https://colab.research.google.com/github/C-3DevO/MORINGA_DS/blob/main/PHASE%201/Ex%26TransformingJSONSchemas_Lab.ipynb\" target=\"_parent\"><img src=\"https://colab.research.google.com/assets/colab-badge.svg\" alt=\"Open In Colab\"/></a>"
      ]
    },
    {
      "cell_type": "markdown",
      "metadata": {
        "id": "xQLTUiGrrlZc"
      },
      "source": [
        "# Exploring and Transforming JSON Schemas - Lab"
      ]
    },
    {
      "cell_type": "markdown",
      "metadata": {
        "id": "xnLXjooGrlZe"
      },
      "source": [
        "# Introduction\n",
        "\n",
        "In this lab, you'll practice exploring a JSON file whose structure and schema is unknown to you. We will provide you with limited information, and you will explore the dataset to answer the specified question."
      ]
    },
    {
      "cell_type": "markdown",
      "metadata": {
        "id": "J_gEV8uerlZf"
      },
      "source": [
        "## Objectives\n",
        "\n",
        "You will be able to:\n",
        "\n",
        "* Use the `json` module to load and parse JSON documents\n",
        "* Explore and extract data using unknown JSON schemas\n",
        "* Convert JSON to a pandas dataframe"
      ]
    },
    {
      "cell_type": "markdown",
      "metadata": {
        "id": "fcitB2yZrlZf"
      },
      "source": [
        "## Your Task: Create a Bar Graph of the Top 10 States with the Highest Asthma Rates for Adults Age 18+\n",
        "\n",
        "The information you need to create this graph is located in `disease_data.json`. It contains both data and metadata.\n",
        "\n",
        "You are given the following codebook/data dictionary:\n",
        "\n",
        "* The actual data values are associated with the key `'DataValue'`\n",
        "* The state names are associated with the key `'LocationDesc'`\n",
        "* To filter to the appropriate records, make sure:\n",
        "  * The `'Question'` is `'Current asthma prevalence among adults aged >= 18 years'`\n",
        "  * The `'StratificationCategoryID1'` is `'OVERALL'`\n",
        "  * The `'DataValueTypeID'` is `'CRDPREV'`\n",
        "  * The `'LocationDesc'` is not `'United States'`\n",
        "  \n",
        "The provided JSON file contains both data and metadata, and you will need to parse the metadata in order to understand the meanings of the values in the data.\n",
        "\n",
        "No further information about the structure of this file is provided."
      ]
    },
    {
      "cell_type": "markdown",
      "metadata": {
        "id": "pxW2xgdjrlZg"
      },
      "source": [
        "## Load the JSON File\n",
        "\n",
        "Load the data from the file `disease_data.json` into a variable `data`."
      ]
    },
    {
      "cell_type": "code",
      "execution_count": 2,
      "metadata": {
        "id": "4feQ-SRtrlZg"
      },
      "outputs": [],
      "source": [
        "# Your code here\n",
        "import json\n",
        "with open(\"/content/disease_data.json\", \"r\") as f:\n",
        "  data = json.load(f)\n"
      ]
    },
    {
      "cell_type": "markdown",
      "metadata": {
        "id": "iURB6ccYrlZh"
      },
      "source": [
        "## Explore the Overall Structure\n",
        "\n",
        "What is the overall data type of `data`?"
      ]
    },
    {
      "cell_type": "code",
      "execution_count": 3,
      "metadata": {
        "colab": {
          "base_uri": "https://localhost:8080/"
        },
        "id": "oylRQPP1rlZh",
        "outputId": "e728c70c-8ad0-4061-d222-db963b3a856a"
      },
      "outputs": [
        {
          "output_type": "stream",
          "name": "stdout",
          "text": [
            "<class 'dict'>\n"
          ]
        }
      ],
      "source": [
        "# Your code here\n",
        "print(type(data))"
      ]
    },
    {
      "cell_type": "markdown",
      "metadata": {
        "id": "H-bYMP1ZrlZi"
      },
      "source": [
        "What are the keys?"
      ]
    },
    {
      "cell_type": "code",
      "execution_count": 4,
      "metadata": {
        "colab": {
          "base_uri": "https://localhost:8080/"
        },
        "id": "byODE1rwrlZi",
        "outputId": "25dd1005-cdbb-4563-f3f4-ff5e312dbc7d"
      },
      "outputs": [
        {
          "output_type": "stream",
          "name": "stdout",
          "text": [
            "dict_keys(['meta', 'data'])\n"
          ]
        }
      ],
      "source": [
        "# Your code here\n",
        "print(data.keys())"
      ]
    },
    {
      "cell_type": "markdown",
      "metadata": {
        "id": "dEW1X6kQrlZi"
      },
      "source": [
        "What are the data types associates with those keys?"
      ]
    },
    {
      "cell_type": "code",
      "execution_count": 6,
      "metadata": {
        "colab": {
          "base_uri": "https://localhost:8080/"
        },
        "id": "F_l9-fE4rlZi",
        "outputId": "7d4849b2-eaa3-4fad-e695-8cbb9373e0c3"
      },
      "outputs": [
        {
          "output_type": "stream",
          "name": "stdout",
          "text": [
            "<class 'dict'>\n"
          ]
        }
      ],
      "source": [
        "# Your code here (data)\n",
        "print(type(data['meta']))"
      ]
    },
    {
      "cell_type": "code",
      "execution_count": 7,
      "metadata": {
        "colab": {
          "base_uri": "https://localhost:8080/"
        },
        "id": "k4uTXcFXrlZi",
        "outputId": "3bedbf55-41ee-4b0c-de45-ba1cf17d20db"
      },
      "outputs": [
        {
          "output_type": "stream",
          "name": "stdout",
          "text": [
            "<class 'list'>\n"
          ]
        }
      ],
      "source": [
        "# Your code here (metadata)\n",
        "print(type(data['data']))"
      ]
    },
    {
      "cell_type": "markdown",
      "metadata": {
        "id": "_376OjvdrlZj"
      },
      "source": [
        "Perform additional exploration to understand the contents of these values. For dictionaries, what are their keys? For lists, what is the length, and what does the first element look like?"
      ]
    },
    {
      "cell_type": "code",
      "execution_count": 8,
      "metadata": {
        "colab": {
          "base_uri": "https://localhost:8080/"
        },
        "id": "mzSahDNVrlZj",
        "outputId": "4f5688b7-44e4-48e7-8b21-892b009fd5cf"
      },
      "outputs": [
        {
          "output_type": "stream",
          "name": "stdout",
          "text": [
            "dict_keys(['view'])\n"
          ]
        }
      ],
      "source": [
        "# Your code here (add additional cells as needed)\n",
        "#Exploring the meta dictionary\n",
        "print(data['meta'].keys())"
      ]
    },
    {
      "cell_type": "code",
      "source": [
        "# Your code here (add additional cells as needed)\n",
        "#Exploring the data list\n",
        "print(len(data['data']))"
      ],
      "metadata": {
        "colab": {
          "base_uri": "https://localhost:8080/"
        },
        "id": "zhB2mlGeugG-",
        "outputId": "eac556d0-51d9-4b81-fc5c-052aa044b6a0"
      },
      "execution_count": 9,
      "outputs": [
        {
          "output_type": "stream",
          "name": "stdout",
          "text": [
            "60266\n"
          ]
        }
      ]
    },
    {
      "cell_type": "markdown",
      "metadata": {
        "id": "kIrhsvUirlZj"
      },
      "source": [
        "As you likely identified, we have a list of lists forming the `'data'`. In order to make sense of that list of lists, we need to find the meaning of each index, i.e. the names of the columns.\n",
        "\n",
        "## Identify the Column Names\n",
        "\n",
        "Look through the metadata to find the *names* of the columns, and assign that variable to `column_names`. This should be a list of strings. (If you just get the values associated with the `'columns'` key, you will have a list of dictionaries, not a list of strings.)"
      ]
    },
    {
      "cell_type": "code",
      "execution_count": 14,
      "metadata": {
        "colab": {
          "base_uri": "https://localhost:8080/"
        },
        "id": "rxT7L_IWrlZj",
        "outputId": "2c46919e-4a6f-4058-8b97-d1bed7f2b772"
      },
      "outputs": [
        {
          "output_type": "execute_result",
          "data": {
            "text/plain": [
              "['sid',\n",
              " 'id',\n",
              " 'position',\n",
              " 'created_at',\n",
              " 'created_meta',\n",
              " 'updated_at',\n",
              " 'updated_meta',\n",
              " 'meta',\n",
              " 'YearStart',\n",
              " 'YearEnd',\n",
              " 'LocationAbbr',\n",
              " 'LocationDesc',\n",
              " 'DataSource',\n",
              " 'Topic',\n",
              " 'Question',\n",
              " 'Response',\n",
              " 'DataValueUnit',\n",
              " 'DataValueType',\n",
              " 'DataValue',\n",
              " 'DataValueAlt',\n",
              " 'DataValueFootnoteSymbol',\n",
              " 'DatavalueFootnote',\n",
              " 'LowConfidenceLimit',\n",
              " 'HighConfidenceLimit',\n",
              " 'StratificationCategory1',\n",
              " 'Stratification1',\n",
              " 'StratificationCategory2',\n",
              " 'Stratification2',\n",
              " 'StratificationCategory3',\n",
              " 'Stratification3',\n",
              " 'GeoLocation',\n",
              " 'ResponseID',\n",
              " 'LocationID',\n",
              " 'TopicID',\n",
              " 'QuestionID',\n",
              " 'DataValueTypeID',\n",
              " 'StratificationCategoryID1',\n",
              " 'StratificationID1',\n",
              " 'StratificationCategoryID2',\n",
              " 'StratificationID2',\n",
              " 'StratificationCategoryID3',\n",
              " 'StratificationID3']"
            ]
          },
          "metadata": {},
          "execution_count": 14
        }
      ],
      "source": [
        "# Your code here (add additional cells as needed)\n",
        "column_names = [col['name'] for col in data['meta']['view']['columns']]\n",
        "column_names"
      ]
    },
    {
      "cell_type": "markdown",
      "metadata": {
        "id": "U3hZf0pTrlZj"
      },
      "source": [
        "The following code checks that you have the correct column names:"
      ]
    },
    {
      "cell_type": "code",
      "execution_count": 15,
      "metadata": {
        "id": "SbBmnAptrlZj"
      },
      "outputs": [],
      "source": [
        "# Run this cell without changes\n",
        "\n",
        "# 42 total columns\n",
        "assert len(column_names) == 42\n",
        "\n",
        "# Each name should be a string, not a dict\n",
        "assert type(column_names[0]) == str and type(column_names[-1]) == str\n",
        "\n",
        "# Check that we have some specific strings\n",
        "assert \"DataValue\" in column_names\n",
        "assert \"LocationDesc\" in column_names\n",
        "assert \"Question\" in column_names\n",
        "assert \"StratificationCategoryID1\" in column_names\n",
        "assert \"DataValueTypeID\" in column_names"
      ]
    },
    {
      "cell_type": "markdown",
      "metadata": {
        "id": "gqtkCjW6rlZj"
      },
      "source": [
        "## Filter Rows Based on Columns\n",
        "\n",
        "Recall that we only want to include records where:\n",
        "\n",
        "* The `'Question'` is `'Current asthma prevalence among adults aged >= 18 years'`\n",
        "* The `'StratificationCategoryID1'` is `'OVERALL'`\n",
        "* The `'DataValueTypeID'` is `'CRDPREV'`\n",
        "* The `'LocationDesc'` is not `'United States'`\n",
        "\n",
        "Combining knowledge of the data and metadata, filter out the rows of data that are not relevant.\n",
        "\n",
        "(You may find the `pandas` library useful here.)"
      ]
    },
    {
      "cell_type": "code",
      "execution_count": null,
      "metadata": {
        "id": "74u1KpXnrlZj"
      },
      "outputs": [],
      "source": [
        "# Your code here (add additional cells as needed)\n",
        "import pandas as pd\n",
        "df = pd.DataFrame(data['data'], columns=column_names)\n"
      ]
    },
    {
      "cell_type": "code",
      "source": [
        "df_2 = df[\n",
        "    (df['Question'] == 'Current asthma prevalence among adults aged >= 18 years') &\n",
        "    (df['StratificationCategoryID1'] == 'OVERALL') &\n",
        "    (df['DataValueTypeID'] == 'CRDPREV') &\n",
        "    (df['LocationDesc'] !='United States')\n",
        "]\n",
        "df_2 = df_2.reset_index(drop=True)\n",
        "df_2.shape"
      ],
      "metadata": {
        "colab": {
          "base_uri": "https://localhost:8080/"
        },
        "id": "jMrtcq9u4Uk6",
        "outputId": "0420fb4a-1a94-42e5-93ae-b9cb8d33a261"
      },
      "execution_count": 29,
      "outputs": [
        {
          "output_type": "execute_result",
          "data": {
            "text/plain": [
              "(54, 42)"
            ]
          },
          "metadata": {},
          "execution_count": 29
        }
      ]
    },
    {
      "cell_type": "markdown",
      "metadata": {
        "id": "SdrbSB0lrlZk"
      },
      "source": [
        "You should have 54 records after filtering.\n",
        "\n",
        "## Extract the Attributes Required for Plotting\n",
        "\n",
        "For each record, the only information we actually need for the graph is the `'DataValue'` and `'LocationDesc'`. Create a list of records that only contains these two attributes.\n",
        "\n",
        "Also, make sure that the data values are numbers, not strings."
      ]
    },
    {
      "cell_type": "code",
      "execution_count": 38,
      "metadata": {
        "colab": {
          "base_uri": "https://localhost:8080/"
        },
        "id": "tQztcvudrlZk",
        "outputId": "855d99bd-c70a-4605-a9bf-4e9ae02a4780"
      },
      "outputs": [
        {
          "output_type": "execute_result",
          "data": {
            "text/plain": [
              "[(9.7, 'Alabama'),\n",
              " (8.8, 'Alaska'),\n",
              " (9.4, 'Arizona'),\n",
              " (8.5, 'Arkansas'),\n",
              " (7.8, 'California'),\n",
              " (8.8, 'Colorado'),\n",
              " (10.5, 'Connecticut'),\n",
              " (8.5, 'Delaware'),\n",
              " (9.8, 'District of Columbia'),\n",
              " (6.7, 'Florida'),\n",
              " (8.5, 'Georgia'),\n",
              " (10.7, 'Hawaii'),\n",
              " (9.3, 'Idaho'),\n",
              " (8.9, 'Illinois'),\n",
              " (10.2, 'Indiana'),\n",
              " (7.8, 'Iowa'),\n",
              " (8.8, 'Kansas'),\n",
              " (11.6, 'Kentucky'),\n",
              " (8.3, 'Louisiana'),\n",
              " (12.2, 'Maine'),\n",
              " (9.4, 'Maryland'),\n",
              " (10.3, 'Massachusetts'),\n",
              " (10.9, 'Michigan'),\n",
              " (7.6, 'Minnesota'),\n",
              " (8.0, 'Mississippi'),\n",
              " (9.9, 'Missouri'),\n",
              " (8.5, 'Montana'),\n",
              " (8.3, 'Nebraska'),\n",
              " (7.9, 'Nevada'),\n",
              " (11.4, 'New Hampshire'),\n",
              " (8.2, 'New Jersey'),\n",
              " (11.8, 'New Mexico'),\n",
              " (9.5, 'New York'),\n",
              " (8.0, 'North Carolina'),\n",
              " (9.0, 'North Dakota'),\n",
              " (9.7, 'Ohio'),\n",
              " (10.0, 'Oklahoma'),\n",
              " (10.5, 'Oregon'),\n",
              " (10.6, 'Pennsylvania'),\n",
              " (10.7, 'Rhode Island'),\n",
              " (8.8, 'South Carolina'),\n",
              " (6.2, 'South Dakota'),\n",
              " (10.9, 'Tennessee'),\n",
              " (7.6, 'Texas'),\n",
              " (8.2, 'Utah'),\n",
              " (10.2, 'Vermont'),\n",
              " (8.6, 'Virginia'),\n",
              " (9.6, 'Washington'),\n",
              " (11.8, 'West Virginia'),\n",
              " (8.5, 'Wisconsin'),\n",
              " (9.5, 'Wyoming'),\n",
              " (5.1, 'Guam'),\n",
              " (10.7, 'Puerto Rico'),\n",
              " (6.3, 'Virgin Islands')]"
            ]
          },
          "metadata": {},
          "execution_count": 38
        }
      ],
      "source": [
        "# Your code here (create additional cells as needed)\n",
        "records = list(zip(df_2['DataValue'].astype(float),df_2['LocationDesc']))\n",
        "records"
      ]
    },
    {
      "cell_type": "markdown",
      "metadata": {
        "id": "u8K2ldY4rlZk"
      },
      "source": [
        "## Find Top 10 States\n",
        "\n",
        "Sort by `'DataValue'` and limit to the first 10 records."
      ]
    },
    {
      "cell_type": "code",
      "execution_count": 39,
      "metadata": {
        "id": "U3JsX2_crlZk"
      },
      "outputs": [],
      "source": [
        "# Your code here (add additional cells as needed)\n",
        "records_sorted = sorted(records,key=lambda x: x[0], reverse=True)[:10]"
      ]
    },
    {
      "cell_type": "markdown",
      "metadata": {
        "id": "Y4MHZDT9rlZk"
      },
      "source": [
        "## Separate the Names and Values for Plotting\n",
        "\n",
        "Assign the names of the top 10 states to a list-like variable `names`, and the associated values to a list-like variable `values`. Then the plotting code below should work correctly to make the desired bar graph."
      ]
    },
    {
      "cell_type": "code",
      "execution_count": 41,
      "metadata": {
        "id": "mzpD_eRhrlZk"
      },
      "outputs": [],
      "source": [
        "# Replace None with appropriate code\n",
        "names,values = zip(*records_sorted)\n",
        "names = list(names)\n",
        "values = list(values)"
      ]
    },
    {
      "cell_type": "code",
      "execution_count": 44,
      "metadata": {
        "colab": {
          "base_uri": "https://localhost:8080/",
          "height": 487
        },
        "id": "PfNlgjZErlZl",
        "outputId": "b3cabbb3-4d73-4213-f672-1a9bcc9444d0"
      },
      "outputs": [
        {
          "output_type": "display_data",
          "data": {
            "text/plain": [
              "<Figure size 640x480 with 1 Axes>"
            ],
            "image/png": "[encoded data removed]"
          },
          "metadata": {}
        }
      ],
      "source": [
        "# Run this cell without changes\n",
        "\n",
        "import matplotlib.pyplot as plt\n",
        "fig, ax = plt.subplots()\n",
        "\n",
        "ax.barh(names[::-1], values[::-1]) # Values inverted so highest is at top\n",
        "ax.set_title('Adult Asthma Rates by State in 2016')\n",
        "ax.set_xlabel('Percent 18+ with Asthma')\n",
        "ax.tick_params(axis='x', labelrotation=45)\n",
        "plt.tight_layout();"
      ]
    },
    {
      "cell_type": "markdown",
      "metadata": {
        "id": "GzNESVZyrlZl"
      },
      "source": [
        "## Summary\n",
        "\n",
        "In this lab you got some extended practice exploring the structure of JSON files and visualizing data."
      ]
    }
  ],
  "metadata": {
    "kernelspec": {
      "display_name": "Python (learn-env)",
      "language": "python",
      "name": "learn-env"
    },
    "language_info": {
      "codemirror_mode": {
        "name": "ipython",
        "version": 3
      },
      "file_extension": ".py",
      "mimetype": "text/x-python",
      "name": "python",
      "nbconvert_exporter": "python",
      "pygments_lexer": "ipython3",
      "version": "3.8.5"
    },
    "toc": {
      "base_numbering": 1,
      "nav_menu": {},
      "number_sections": true,
      "sideBar": true,
      "skip_h1_title": false,
      "title_cell": "Table of Contents",
      "title_sidebar": "Contents",
      "toc_cell": false,
      "toc_position": {},
      "toc_section_display": true,
      "toc_window_display": false
    },
    "colab": {
      "provenance": [],
      "include_colab_link": true
    }
  },
  "nbformat": 4,
  "nbformat_minor": 0
}