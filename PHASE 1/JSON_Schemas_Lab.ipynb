{
  "cells": [
    {
      "cell_type": "markdown",
      "metadata": {
        "id": "view-in-github",
        "colab_type": "text"
      },
      "source": [
        "<a href=\"https://colab.research.google.com/github/C-3DevO/MORINGA_DS/blob/main/PHASE%201/JSON_Schemas_Lab.ipynb\" target=\"_parent\"><img src=\"https://colab.research.google.com/assets/colab-badge.svg\" alt=\"Open In Colab\"/></a>"
      ]
    },
    {
      "cell_type": "markdown",
      "metadata": {
        "id": "OYduDvFsTKdw"
      },
      "source": [
        "# Working with Known JSON Schemas - Lab"
      ]
    },
    {
      "cell_type": "markdown",
      "metadata": {
        "id": "yZCazKRVTKdy"
      },
      "source": [
        "## Introduction\n",
        "In this lab, you'll practice working with JSON files whose schema you know beforehand."
      ]
    },
    {
      "cell_type": "markdown",
      "metadata": {
        "id": "INKhb4X7TKdz"
      },
      "source": [
        "## Objectives\n",
        "\n",
        "You will be able to:\n",
        "\n",
        "* Use the `json` module to load and parse JSON documents\n",
        "* Extract data using predefined JSON schemas\n",
        "* Convert JSON to a pandas dataframe"
      ]
    },
    {
      "cell_type": "markdown",
      "metadata": {
        "id": "HfpGl9rlTKd0"
      },
      "source": [
        "## Reading a JSON Schema\n",
        "\n",
        "Here's the JSON schema provided for a section of the NY Times API:\n",
        "<img src=\"images/nytimes_movie_schema.png\" width=500>\n",
        "\n",
        "or a fully expanded view:\n",
        "\n",
        "<img src=\"images/nytimes_movie_schema_detailed.png\" width=500>\n",
        "\n",
        "You can more about the documentation [here](https://developer.nytimes.com/docs/movie-reviews-api/1/routes/reviews/%7Btype%7D.json/get).\n",
        "\n"
      ]
    },
    {
      "cell_type": "markdown",
      "metadata": {
        "id": "yeg6rT18TKd1"
      },
      "source": [
        "## Loading the JSON Data\n",
        "\n",
        "Open the JSON file located at `ny_times_movies.json`, and use the `json` module to load the data into a variable called `data`."
      ]
    },
    {
      "cell_type": "code",
      "execution_count": null,
      "metadata": {
        "id": "98L33eZ_TKd1"
      },
      "outputs": [],
      "source": [
        "# Your code here\n",
        "import json\n",
        "with open(\"/content/ny_times_movies.json\", \"r\") as f:\n",
        "  data = json.load(f)\n"
      ]
    },
    {
      "cell_type": "markdown",
      "metadata": {
        "id": "VCe2pGHLTKd3"
      },
      "source": [
        "Run the code below to investigate its contents:"
      ]
    },
    {
      "cell_type": "code",
      "execution_count": 2,
      "metadata": {
        "colab": {
          "base_uri": "https://localhost:8080/"
        },
        "id": "s_5do63RTKd3",
        "outputId": "18805df1-e1fe-4ccc-d7fa-7cb836d147f1"
      },
      "outputs": [
        {
          "output_type": "stream",
          "name": "stdout",
          "text": [
            "`data` has type <class 'dict'>\n",
            "The keys are ['status', 'copyright', 'has_more', 'num_results', 'results']\n"
          ]
        }
      ],
      "source": [
        "# Run this cell without changes\n",
        "print(\"`data` has type\", type(data))\n",
        "print(\"The keys are\", list(data.keys()))"
      ]
    },
    {
      "cell_type": "markdown",
      "metadata": {
        "id": "n9jyjp1vTKd3"
      },
      "source": [
        "## Loading Results\n",
        "\n",
        "Create a variable `results` that contains the value associated with the `'results'` key."
      ]
    },
    {
      "cell_type": "code",
      "execution_count": 4,
      "metadata": {
        "colab": {
          "base_uri": "https://localhost:8080/"
        },
        "id": "cOvvi8uqTKd4",
        "outputId": "a6e4ef5f-5bd6-4b32-e7ec-de74a15f5378"
      },
      "outputs": [
        {
          "output_type": "stream",
          "name": "stdout",
          "text": [
            "<class 'list'>\n"
          ]
        }
      ],
      "source": [
        "# Your code here\n",
        "results = data['results']\n",
        "print(type(results))"
      ]
    },
    {
      "cell_type": "markdown",
      "metadata": {
        "id": "2C-G2112TKd4"
      },
      "source": [
        "Below we display this variable as a table using pandas:"
      ]
    },
    {
      "cell_type": "code",
      "execution_count": 7,
      "metadata": {
        "colab": {
          "base_uri": "https://localhost:8080/"
        },
        "id": "8-DNRF4cTKd4",
        "outputId": "0e9fe087-b42f-4517-a7ab-02ff462ddab1"
      },
      "outputs": [
        {
          "output_type": "execute_result",
          "data": {
            "text/plain": [
              "(20, 11)"
            ]
          },
          "metadata": {},
          "execution_count": 7
        }
      ],
      "source": [
        "# Run this cell without changes\n",
        "import pandas as pd\n",
        "df = pd.DataFrame(results)\n",
        "df.shape"
      ]
    },
    {
      "cell_type": "markdown",
      "metadata": {
        "id": "VhirBfxpTKd5"
      },
      "source": [
        "## Data Analysis\n",
        "\n",
        "Now that you have a general sense of the data, answer some questions about it.\n",
        "\n",
        "### How many results are in the file?\n",
        "\n",
        "The metadata says this:"
      ]
    },
    {
      "cell_type": "code",
      "execution_count": 8,
      "metadata": {
        "colab": {
          "base_uri": "https://localhost:8080/"
        },
        "id": "Va8jqX8DTKd5",
        "outputId": "da715718-e66c-4192-fc33-40aee45da6d7"
      },
      "outputs": [
        {
          "output_type": "execute_result",
          "data": {
            "text/plain": [
              "20"
            ]
          },
          "metadata": {},
          "execution_count": 8
        }
      ],
      "source": [
        "# Run this cell without changes\n",
        "data['num_results']"
      ]
    },
    {
      "cell_type": "markdown",
      "metadata": {
        "id": "0xaMOAZOTKd5"
      },
      "source": [
        "Double-check that by looking at `results`. Does it line up?"
      ]
    },
    {
      "cell_type": "code",
      "execution_count": 10,
      "metadata": {
        "colab": {
          "base_uri": "https://localhost:8080/"
        },
        "id": "gEjMU7HdTKd5",
        "outputId": "92d8ce14-08cb-4b65-8bdd-d1912c0c29e4"
      },
      "outputs": [
        {
          "output_type": "execute_result",
          "data": {
            "text/plain": [
              "(20, 11)"
            ]
          },
          "metadata": {},
          "execution_count": 10
        }
      ],
      "source": [
        "# Your code here\n",
        "df.shape"
      ]
    },
    {
      "cell_type": "code",
      "execution_count": null,
      "metadata": {
        "id": "BDPE7BfqTKd5"
      },
      "outputs": [],
      "source": [
        "\"\"\"\n",
        "Yes, the results has 20 rows which is same as the result of num_results\n",
        "\"\"\""
      ]
    },
    {
      "cell_type": "code",
      "source": [
        "df.head(5)\n"
      ],
      "metadata": {
        "colab": {
          "base_uri": "https://localhost:8080/",
          "height": 625
        },
        "id": "vfe-X7JjWPz4",
        "outputId": "66505ad3-6b1f-4a27-9645-c899fcbc67a8"
      },
      "execution_count": 20,
      "outputs": [
        {
          "output_type": "execute_result",
          "data": {
            "text/plain": [
              "                                     display_title mpaa_rating  critics_pick  \\\n",
              "0                          Can You Ever Forgive Me           R             1   \n",
              "1                                       Charm City                         1   \n",
              "2  Horn from the Heart: The Paul Butterfield Story                         1   \n",
              "3                          The Price of Everything                         0   \n",
              "4                                          Impulso                         0   \n",
              "\n",
              "           byline                                           headline  \\\n",
              "0      A.O. SCOTT  Review: Melissa McCarthy Is Criminally Good in...   \n",
              "1  BEN KENIGSBERG  Review: ‘Charm City’ Vividly Captures the Stre...   \n",
              "2     GLENN KENNY  Review: Paul Butterfield’s Story Is Told in ‘H...   \n",
              "3      A.O. SCOTT  Review: ‘The Price of Everything’ Asks $56 Bil...   \n",
              "4  BEN KENIGSBERG  Review: ‘Impulso’ Goes Backstage With a Flamen...   \n",
              "\n",
              "                                       summary_short publication_date  \\\n",
              "0  Marielle Heller directs a true story of litera...       2018-10-16   \n",
              "1  Marilyn Ness’s documentary is dedicated to the...       2018-10-16   \n",
              "2  A documentary explores the life of the blues m...       2018-10-16   \n",
              "3  This documentary examines the global art marke...       2018-10-16   \n",
              "4  This documentary follows Rocío Molina, a cutti...       2018-10-16   \n",
              "\n",
              "  opening_date         date_updated  \\\n",
              "0   2018-10-19  2018-10-17 02:44:23   \n",
              "1   2018-04-22  2018-10-16 11:04:03   \n",
              "2   2018-10-19  2018-10-16 11:04:04   \n",
              "3   2018-10-19  2018-10-16 16:08:03   \n",
              "4         None  2018-10-16 11:04:03   \n",
              "\n",
              "                                                link  \\\n",
              "0  {'type': 'article', 'url': 'http://www.nytimes...   \n",
              "1  {'type': 'article', 'url': 'http://www.nytimes...   \n",
              "2  {'type': 'article', 'url': 'http://www.nytimes...   \n",
              "3  {'type': 'article', 'url': 'http://www.nytimes...   \n",
              "4  {'type': 'article', 'url': 'http://www.nytimes...   \n",
              "\n",
              "                                          multimedia  \n",
              "0  {'type': 'mediumThreeByTwo210', 'src': 'https:...  \n",
              "1  {'type': 'mediumThreeByTwo210', 'src': 'https:...  \n",
              "2  {'type': 'mediumThreeByTwo210', 'src': 'https:...  \n",
              "3  {'type': 'mediumThreeByTwo210', 'src': 'https:...  \n",
              "4  {'type': 'mediumThreeByTwo210', 'src': 'https:...  "
            ],
            "text/html": [
              "\n",
              "  <div id=\"df-c592abb5-6baf-4977-aac3-754094159cff\" class=\"colab-df-container\">\n",
              "    <div>\n",
              "<style scoped>\n",
              "    .dataframe tbody tr th:only-of-type {\n",
              "        vertical-align: middle;\n",
              "    }\n",
              "\n",
              "    .dataframe tbody tr th {\n",
              "        vertical-align: top;\n",
              "    }\n",
              "\n",
              "    .dataframe thead th {\n",
              "        text-align: right;\n",
              "    }\n",
              "</style>\n",
              "<table border=\"1\" class=\"dataframe\">\n",
              "  <thead>\n",
              "    <tr style=\"text-align: right;\">\n",
              "      <th></th>\n",
              "      <th>display_title</th>\n",
              "      <th>mpaa_rating</th>\n",
              "      <th>critics_pick</th>\n",
              "      <th>byline</th>\n",
              "      <th>headline</th>\n",
              "      <th>summary_short</th>\n",
              "      <th>publication_date</th>\n",
              "      <th>opening_date</th>\n",
              "      <th>date_updated</th>\n",
              "      <th>link</th>\n",
              "      <th>multimedia</th>\n",
              "    </tr>\n",
              "  </thead>\n",
              "  <tbody>\n",
              "    <tr>\n",
              "      <th>0</th>\n",
              "      <td>Can You Ever Forgive Me</td>\n",
              "      <td>R</td>\n",
              "      <td>1</td>\n",
              "      <td>A.O. SCOTT</td>\n",
              "      <td>Review: Melissa McCarthy Is Criminally Good in...</td>\n",
              "      <td>Marielle Heller directs a true story of litera...</td>\n",
              "      <td>2018-10-16</td>\n",
              "      <td>2018-10-19</td>\n",
              "      <td>2018-10-17 02:44:23</td>\n",
              "      <td>{'type': 'article', 'url': 'http://www.nytimes...</td>\n",
              "      <td>{'type': 'mediumThreeByTwo210', 'src': 'https:...</td>\n",
              "    </tr>\n",
              "    <tr>\n",
              "      <th>1</th>\n",
              "      <td>Charm City</td>\n",
              "      <td></td>\n",
              "      <td>1</td>\n",
              "      <td>BEN KENIGSBERG</td>\n",
              "      <td>Review: ‘Charm City’ Vividly Captures the Stre...</td>\n",
              "      <td>Marilyn Ness’s documentary is dedicated to the...</td>\n",
              "      <td>2018-10-16</td>\n",
              "      <td>2018-04-22</td>\n",
              "      <td>2018-10-16 11:04:03</td>\n",
              "      <td>{'type': 'article', 'url': 'http://www.nytimes...</td>\n",
              "      <td>{'type': 'mediumThreeByTwo210', 'src': 'https:...</td>\n",
              "    </tr>\n",
              "    <tr>\n",
              "      <th>2</th>\n",
              "      <td>Horn from the Heart: The Paul Butterfield Story</td>\n",
              "      <td></td>\n",
              "      <td>1</td>\n",
              "      <td>GLENN KENNY</td>\n",
              "      <td>Review: Paul Butterfield’s Story Is Told in ‘H...</td>\n",
              "      <td>A documentary explores the life of the blues m...</td>\n",
              "      <td>2018-10-16</td>\n",
              "      <td>2018-10-19</td>\n",
              "      <td>2018-10-16 11:04:04</td>\n",
              "      <td>{'type': 'article', 'url': 'http://www.nytimes...</td>\n",
              "      <td>{'type': 'mediumThreeByTwo210', 'src': 'https:...</td>\n",
              "    </tr>\n",
              "    <tr>\n",
              "      <th>3</th>\n",
              "      <td>The Price of Everything</td>\n",
              "      <td></td>\n",
              "      <td>0</td>\n",
              "      <td>A.O. SCOTT</td>\n",
              "      <td>Review: ‘The Price of Everything’ Asks $56 Bil...</td>\n",
              "      <td>This documentary examines the global art marke...</td>\n",
              "      <td>2018-10-16</td>\n",
              "      <td>2018-10-19</td>\n",
              "      <td>2018-10-16 16:08:03</td>\n",
              "      <td>{'type': 'article', 'url': 'http://www.nytimes...</td>\n",
              "      <td>{'type': 'mediumThreeByTwo210', 'src': 'https:...</td>\n",
              "    </tr>\n",
              "    <tr>\n",
              "      <th>4</th>\n",
              "      <td>Impulso</td>\n",
              "      <td></td>\n",
              "      <td>0</td>\n",
              "      <td>BEN KENIGSBERG</td>\n",
              "      <td>Review: ‘Impulso’ Goes Backstage With a Flamen...</td>\n",
              "      <td>This documentary follows Rocío Molina, a cutti...</td>\n",
              "      <td>2018-10-16</td>\n",
              "      <td>None</td>\n",
              "      <td>2018-10-16 11:04:03</td>\n",
              "      <td>{'type': 'article', 'url': 'http://www.nytimes...</td>\n",
              "      <td>{'type': 'mediumThreeByTwo210', 'src': 'https:...</td>\n",
              "    </tr>\n",
              "  </tbody>\n",
              "</table>\n",
              "</div>\n",
              "    <div class=\"colab-df-buttons\">\n",
              "\n",
              "  <div class=\"colab-df-container\">\n",
              "    <button class=\"colab-df-convert\" onclick=\"convertToInteractive('df-c592abb5-6baf-4977-aac3-754094159cff')\"\n",
              "            title=\"Convert this dataframe to an interactive table.\"\n",
              "            style=\"display:none;\">\n",
              "\n",
              "  <svg xmlns=\"http://www.w3.org/2000/svg\" height=\"24px\" viewBox=\"0 -960 960 960\">\n",
              "    <path d=\"M120-120v-720h720v720H120Zm60-500h600v-160H180v160Zm220 220h160v-160H400v160Zm0 220h160v-160H400v160ZM180-400h160v-160H180v160Zm440 0h160v-160H620v160ZM180-180h160v-160H180v160Zm440 0h160v-160H620v160Z\"/>\n",
              "  </svg>\n",
              "    </button>\n",
              "\n",
              "  <style>\n",
              "    .colab-df-container {\n",
              "      display:flex;\n",
              "      gap: 12px;\n",
              "    }\n",
              "\n",
              "    .colab-df-convert {\n",
              "      background-color: #E8F0FE;\n",
              "      border: none;\n",
              "      border-radius: 50%;\n",
              "      cursor: pointer;\n",
              "      display: none;\n",
              "      fill: #1967D2;\n",
              "      height: 32px;\n",
              "      padding: 0 0 0 0;\n",
              "      width: 32px;\n",
              "    }\n",
              "\n",
              "    .colab-df-convert:hover {\n",
              "      background-color: #E2EBFA;\n",
              "      box-shadow: 0px 1px 2px rgba(60, 64, 67, 0.3), 0px 1px 3px 1px rgba(60, 64, 67, 0.15);\n",
              "      fill: #174EA6;\n",
              "    }\n",
              "\n",
              "    .colab-df-buttons div {\n",
              "      margin-bottom: 4px;\n",
              "    }\n",
              "\n",
              "    [theme=dark] .colab-df-convert {\n",
              "      background-color: #3B4455;\n",
              "      fill: #D2E3FC;\n",
              "    }\n",
              "\n",
              "    [theme=dark] .colab-df-convert:hover {\n",
              "      background-color: #434B5C;\n",
              "      box-shadow: 0px 1px 3px 1px rgba(0, 0, 0, 0.15);\n",
              "      filter: drop-shadow(0px 1px 2px rgba(0, 0, 0, 0.3));\n",
              "      fill: #FFFFFF;\n",
              "    }\n",
              "  </style>\n",
              "\n",
              "    <script>\n",
              "      const buttonEl =\n",
              "        document.querySelector('#df-c592abb5-6baf-4977-aac3-754094159cff button.colab-df-convert');\n",
              "      buttonEl.style.display =\n",
              "        google.colab.kernel.accessAllowed ? 'block' : 'none';\n",
              "\n",
              "      async function convertToInteractive(key) {\n",
              "        const element = document.querySelector('#df-c592abb5-6baf-4977-aac3-754094159cff');\n",
              "        const dataTable =\n",
              "          await google.colab.kernel.invokeFunction('convertToInteractive',\n",
              "                                                    [key], {});\n",
              "        if (!dataTable) return;\n",
              "\n",
              "        const docLinkHtml = 'Like what you see? Visit the ' +\n",
              "          '<a target=\"_blank\" href=https://colab.research.google.com/notebooks/data_table.ipynb>data table notebook</a>'\n",
              "          + ' to learn more about interactive tables.';\n",
              "        element.innerHTML = '';\n",
              "        dataTable['output_type'] = 'display_data';\n",
              "        await google.colab.output.renderOutput(dataTable, element);\n",
              "        const docLink = document.createElement('div');\n",
              "        docLink.innerHTML = docLinkHtml;\n",
              "        element.appendChild(docLink);\n",
              "      }\n",
              "    </script>\n",
              "  </div>\n",
              "\n",
              "\n",
              "    <div id=\"df-eb765d67-6425-4d7b-8695-d76612686b42\">\n",
              "      <button class=\"colab-df-quickchart\" onclick=\"quickchart('df-eb765d67-6425-4d7b-8695-d76612686b42')\"\n",
              "                title=\"Suggest charts\"\n",
              "                style=\"display:none;\">\n",
              "\n",
              "<svg xmlns=\"http://www.w3.org/2000/svg\" height=\"24px\"viewBox=\"0 0 24 24\"\n",
              "     width=\"24px\">\n",
              "    <g>\n",
              "        <path d=\"M19 3H5c-1.1 0-2 .9-2 2v14c0 1.1.9 2 2 2h14c1.1 0 2-.9 2-2V5c0-1.1-.9-2-2-2zM9 17H7v-7h2v7zm4 0h-2V7h2v10zm4 0h-2v-4h2v4z\"/>\n",
              "    </g>\n",
              "</svg>\n",
              "      </button>\n",
              "\n",
              "<style>\n",
              "  .colab-df-quickchart {\n",
              "      --bg-color: #E8F0FE;\n",
              "      --fill-color: #1967D2;\n",
              "      --hover-bg-color: #E2EBFA;\n",
              "      --hover-fill-color: #174EA6;\n",
              "      --disabled-fill-color: #AAA;\n",
              "      --disabled-bg-color: #DDD;\n",
              "  }\n",
              "\n",
              "  [theme=dark] .colab-df-quickchart {\n",
              "      --bg-color: #3B4455;\n",
              "      --fill-color: #D2E3FC;\n",
              "      --hover-bg-color: #434B5C;\n",
              "      --hover-fill-color: #FFFFFF;\n",
              "      --disabled-bg-color: #3B4455;\n",
              "      --disabled-fill-color: #666;\n",
              "  }\n",
              "\n",
              "  .colab-df-quickchart {\n",
              "    background-color: var(--bg-color);\n",
              "    border: none;\n",
              "    border-radius: 50%;\n",
              "    cursor: pointer;\n",
              "    display: none;\n",
              "    fill: var(--fill-color);\n",
              "    height: 32px;\n",
              "    padding: 0;\n",
              "    width: 32px;\n",
              "  }\n",
              "\n",
              "  .colab-df-quickchart:hover {\n",
              "    background-color: var(--hover-bg-color);\n",
              "    box-shadow: 0 1px 2px rgba(60, 64, 67, 0.3), 0 1px 3px 1px rgba(60, 64, 67, 0.15);\n",
              "    fill: var(--button-hover-fill-color);\n",
              "  }\n",
              "\n",
              "  .colab-df-quickchart-complete:disabled,\n",
              "  .colab-df-quickchart-complete:disabled:hover {\n",
              "    background-color: var(--disabled-bg-color);\n",
              "    fill: var(--disabled-fill-color);\n",
              "    box-shadow: none;\n",
              "  }\n",
              "\n",
              "  .colab-df-spinner {\n",
              "    border: 2px solid var(--fill-color);\n",
              "    border-color: transparent;\n",
              "    border-bottom-color: var(--fill-color);\n",
              "    animation:\n",
              "      spin 1s steps(1) infinite;\n",
              "  }\n",
              "\n",
              "  @keyframes spin {\n",
              "    0% {\n",
              "      border-color: transparent;\n",
              "      border-bottom-color: var(--fill-color);\n",
              "      border-left-color: var(--fill-color);\n",
              "    }\n",
              "    20% {\n",
              "      border-color: transparent;\n",
              "      border-left-color: var(--fill-color);\n",
              "      border-top-color: var(--fill-color);\n",
              "    }\n",
              "    30% {\n",
              "      border-color: transparent;\n",
              "      border-left-color: var(--fill-color);\n",
              "      border-top-color: var(--fill-color);\n",
              "      border-right-color: var(--fill-color);\n",
              "    }\n",
              "    40% {\n",
              "      border-color: transparent;\n",
              "      border-right-color: var(--fill-color);\n",
              "      border-top-color: var(--fill-color);\n",
              "    }\n",
              "    60% {\n",
              "      border-color: transparent;\n",
              "      border-right-color: var(--fill-color);\n",
              "    }\n",
              "    80% {\n",
              "      border-color: transparent;\n",
              "      border-right-color: var(--fill-color);\n",
              "      border-bottom-color: var(--fill-color);\n",
              "    }\n",
              "    90% {\n",
              "      border-color: transparent;\n",
              "      border-bottom-color: var(--fill-color);\n",
              "    }\n",
              "  }\n",
              "</style>\n",
              "\n",
              "      <script>\n",
              "        async function quickchart(key) {\n",
              "          const quickchartButtonEl =\n",
              "            document.querySelector('#' + key + ' button');\n",
              "          quickchartButtonEl.disabled = true;  // To prevent multiple clicks.\n",
              "          quickchartButtonEl.classList.add('colab-df-spinner');\n",
              "          try {\n",
              "            const charts = await google.colab.kernel.invokeFunction(\n",
              "                'suggestCharts', [key], {});\n",
              "          } catch (error) {\n",
              "            console.error('Error during call to suggestCharts:', error);\n",
              "          }\n",
              "          quickchartButtonEl.classList.remove('colab-df-spinner');\n",
              "          quickchartButtonEl.classList.add('colab-df-quickchart-complete');\n",
              "        }\n",
              "        (() => {\n",
              "          let quickchartButtonEl =\n",
              "            document.querySelector('#df-eb765d67-6425-4d7b-8695-d76612686b42 button');\n",
              "          quickchartButtonEl.style.display =\n",
              "            google.colab.kernel.accessAllowed ? 'block' : 'none';\n",
              "        })();\n",
              "      </script>\n",
              "    </div>\n",
              "\n",
              "    </div>\n",
              "  </div>\n"
            ],
            "application/vnd.google.colaboratory.intrinsic+json": {
              "type": "dataframe",
              "variable_name": "df",
              "summary": "{\n  \"name\": \"df\",\n  \"rows\": 20,\n  \"fields\": [\n    {\n      \"column\": \"display_title\",\n      \"properties\": {\n        \"dtype\": \"string\",\n        \"num_unique_values\": 20,\n        \"samples\": [\n          \"Can You Ever Forgive Me\",\n          \"Sadie\",\n          \"The Sentence\"\n        ],\n        \"semantic_type\": \"\",\n        \"description\": \"\"\n      }\n    },\n    {\n      \"column\": \"mpaa_rating\",\n      \"properties\": {\n        \"dtype\": \"category\",\n        \"num_unique_values\": 4,\n        \"samples\": [\n          \"\",\n          \"PG-13\",\n          \"R\"\n        ],\n        \"semantic_type\": \"\",\n        \"description\": \"\"\n      }\n    },\n    {\n      \"column\": \"critics_pick\",\n      \"properties\": {\n        \"dtype\": \"number\",\n        \"std\": 0,\n        \"min\": 0,\n        \"max\": 1,\n        \"num_unique_values\": 2,\n        \"samples\": [\n          0,\n          1\n        ],\n        \"semantic_type\": \"\",\n        \"description\": \"\"\n      }\n    },\n    {\n      \"column\": \"byline\",\n      \"properties\": {\n        \"dtype\": \"category\",\n        \"num_unique_values\": 7,\n        \"samples\": [\n          \"A.O. SCOTT\",\n          \"BEN KENIGSBERG\"\n        ],\n        \"semantic_type\": \"\",\n        \"description\": \"\"\n      }\n    },\n    {\n      \"column\": \"headline\",\n      \"properties\": {\n        \"dtype\": \"string\",\n        \"num_unique_values\": 20,\n        \"samples\": [\n          \"Review: Melissa McCarthy Is Criminally Good in \\u2018Can You Ever Forgive Me?\\u2019\",\n          \"Review: The Drama \\u2018Sadie\\u2019 Finds a Teenager in a Tough Situation\"\n        ],\n        \"semantic_type\": \"\",\n        \"description\": \"\"\n      }\n    },\n    {\n      \"column\": \"summary_short\",\n      \"properties\": {\n        \"dtype\": \"string\",\n        \"num_unique_values\": 20,\n        \"samples\": [\n          \"Marielle Heller directs a true story of literary fraud, set amid the bookstores and gay bars of early \\u201990s Manhattan.\",\n          \"The film stars Sophia Mitri Schloss as the title character, a 13-year-old girl who grows angry at the men who are courting her mother.\"\n        ],\n        \"semantic_type\": \"\",\n        \"description\": \"\"\n      }\n    },\n    {\n      \"column\": \"publication_date\",\n      \"properties\": {\n        \"dtype\": \"object\",\n        \"num_unique_values\": 3,\n        \"samples\": [\n          \"2018-10-16\",\n          \"2018-10-11\"\n        ],\n        \"semantic_type\": \"\",\n        \"description\": \"\"\n      }\n    },\n    {\n      \"column\": \"opening_date\",\n      \"properties\": {\n        \"dtype\": \"object\",\n        \"num_unique_values\": 4,\n        \"samples\": [\n          \"2018-04-22\",\n          \"2018-10-05\"\n        ],\n        \"semantic_type\": \"\",\n        \"description\": \"\"\n      }\n    },\n    {\n      \"column\": \"date_updated\",\n      \"properties\": {\n        \"dtype\": \"object\",\n        \"num_unique_values\": 11,\n        \"samples\": [\n          \"2018-10-17 02:44:20\",\n          \"2018-10-17 02:44:23\"\n        ],\n        \"semantic_type\": \"\",\n        \"description\": \"\"\n      }\n    },\n    {\n      \"column\": \"link\",\n      \"properties\": {\n        \"dtype\": \"object\",\n        \"semantic_type\": \"\",\n        \"description\": \"\"\n      }\n    },\n    {\n      \"column\": \"multimedia\",\n      \"properties\": {\n        \"dtype\": \"object\",\n        \"semantic_type\": \"\",\n        \"description\": \"\"\n      }\n    }\n  ]\n}"
            }
          },
          "metadata": {},
          "execution_count": 20
        }
      ]
    },
    {
      "cell_type": "markdown",
      "metadata": {
        "id": "xKoPgK-zTKd5"
      },
      "source": [
        "### How many unique critics are there?\n",
        "\n",
        "A critic's name can be identified using the `'byline'` key. Assign your answer to the variable `unique_critics`."
      ]
    },
    {
      "cell_type": "code",
      "execution_count": 17,
      "metadata": {
        "id": "UNrE38qXTKd6"
      },
      "outputs": [],
      "source": [
        "# Your code here\n",
        "unique_critics = len(set(df['byline']))"
      ]
    },
    {
      "cell_type": "markdown",
      "metadata": {
        "id": "tPGrFSZbTKd6"
      },
      "source": [
        "This code checks your answer."
      ]
    },
    {
      "cell_type": "code",
      "execution_count": 18,
      "metadata": {
        "id": "bfHKMsxoTKd6"
      },
      "outputs": [],
      "source": [
        "# Run this cell without changes\n",
        "assert unique_critics == 7"
      ]
    },
    {
      "cell_type": "markdown",
      "metadata": {
        "id": "XBOw0bkhTKd6"
      },
      "source": [
        "## Flattening Data\n",
        "\n",
        "Create a list `review_urls` that contains the URL for each review. This can be found using the `'url'` key nested under `'link'`."
      ]
    },
    {
      "cell_type": "code",
      "execution_count": 24,
      "metadata": {
        "colab": {
          "base_uri": "https://localhost:8080/"
        },
        "id": "Di4zy6DtTKd6",
        "outputId": "871b67f9-7b07-41f2-d9d4-646204d6b69a"
      },
      "outputs": [
        {
          "output_type": "execute_result",
          "data": {
            "text/plain": [
              "True"
            ]
          },
          "metadata": {},
          "execution_count": 24
        }
      ],
      "source": [
        "# Your code here (create more cells as needed)\n",
        "review_urls = [link['url'] for link in df['link']]\n",
        "#this is the as using a for loop\n",
        "review_urls_2 = []\n",
        "for link in df['link']:\n",
        "  review_urls_2.append(link['url'])\n",
        "\n",
        "review_urls_2 == review_urls\n"
      ]
    },
    {
      "cell_type": "markdown",
      "metadata": {
        "id": "xU3fWi9bTKd7"
      },
      "source": [
        "The following code will check your answer:"
      ]
    },
    {
      "cell_type": "code",
      "execution_count": 25,
      "metadata": {
        "id": "-RLN430sTKd7"
      },
      "outputs": [],
      "source": [
        "# Run this cell without changes\n",
        "\n",
        "# review_urls should be a list\n",
        "assert type(review_urls) == list\n",
        "\n",
        "# The length should be 20, same as the length of reviews\n",
        "assert len(review_urls) == 20\n",
        "\n",
        "# The data type contained should be string\n",
        "assert type(review_urls[0]) == str and type(review_urls[-1]) == str\n",
        "\n",
        "# Spot checking a specific value\n",
        "assert review_urls[6] == 'http://www.nytimes.com/2018/10/11/movies/barbara-review.html'"
      ]
    },
    {
      "cell_type": "markdown",
      "metadata": {
        "id": "2m2a8z4dTKd7"
      },
      "source": [
        "## Summary\n",
        "In this lab you practiced extracting and transforming data from JSON files with known schemas."
      ]
    }
  ],
  "metadata": {
    "kernelspec": {
      "display_name": "Python (learn-env)",
      "language": "python",
      "name": "learn-env"
    },
    "language_info": {
      "codemirror_mode": {
        "name": "ipython",
        "version": 3
      },
      "file_extension": ".py",
      "mimetype": "text/x-python",
      "name": "python",
      "nbconvert_exporter": "python",
      "pygments_lexer": "ipython3",
      "version": "3.8.5"
    },
    "toc": {
      "base_numbering": 1,
      "nav_menu": {},
      "number_sections": true,
      "sideBar": true,
      "skip_h1_title": false,
      "title_cell": "Table of Contents",
      "title_sidebar": "Contents",
      "toc_cell": false,
      "toc_position": {},
      "toc_section_display": true,
      "toc_window_display": false
    },
    "colab": {
      "provenance": [],
      "include_colab_link": true
    }
  },
  "nbformat": 4,
  "nbformat_minor": 0
}