{
  "cells": [
    {
      "cell_type": "markdown",
      "metadata": {
        "id": "view-in-github",
        "colab_type": "text"
      },
      "source": [
        "<a href=\"https://colab.research.google.com/github/Binarybug-debug/Dynamics-/blob/main/Seaborn%20Lab.ipynb\" target=\"_parent\"><img src=\"https://colab.research.google.com/assets/colab-badge.svg\" alt=\"Open In Colab\"/></a>"
      ]
    },
    {
      "cell_type": "markdown",
      "metadata": {
        "id": "sElf-EMznPHT"
      },
      "source": [
        "# Seaborn - Lab\n",
        "\n",
        "## Introduction\n",
        "\n",
        "In this lab, we'll get some practice working with a second, more advanced visualization library, **_Seaborn_**!\n",
        "\n",
        "## Objectives\n",
        "\n",
        "You will be able to:\n",
        "\n",
        "* Construct plots with Seaborn using its pre-built functionality\n",
        "\n",
        "## Getting Started\n",
        "\n",
        "In this lab, we'll explore several different kinds of visualizations we can create with Seaborn. Seaborn is built on top of Matplotlib, so you'll find that it will feel quite familiar.\n",
        "\n",
        "Let's get started by importing some things and creating a toy dataset to work with for our first visualization.\n",
        "\n",
        "\n",
        "In the cell below:\n",
        "\n",
        "* Import `numpy` and set the standard alias of `np`\n",
        "* Import `seaborn` and set the standard alias of `sns`\n",
        "* Set `%matplotlib inline` so that our visualizations appear in the notebook, and not as separate files"
      ]
    },
    {
      "cell_type": "code",
      "execution_count": null,
      "metadata": {
        "id": "PEZ6m8BSnPHV"
      },
      "outputs": [],
      "source": [
        "# Your code here"
      ]
    },
    {
      "cell_type": "markdown",
      "metadata": {
        "id": "jYiUcEbEnPHW"
      },
      "source": [
        "Great! Now, run the cell below to create a sample dataset."
      ]
    },
    {
      "cell_type": "code",
      "execution_count": null,
      "metadata": {
        "id": "SeSKYrDMnPHW"
      },
      "outputs": [],
      "source": [
        "data = np.random.normal(size=(20, 10)) + np.arange(10) / 2"
      ]
    },
    {
      "cell_type": "markdown",
      "metadata": {
        "id": "Oc5AszvRnPHW"
      },
      "source": [
        "### Basic Visualizations with Seaborn\n",
        "\n",
        "We'll start off by creating a boxplot with the dataset we just created so that we can get a feel for the common workflow of Seaborn.\n",
        "\n",
        "In the cell below:\n",
        "\n",
        "* Create a `boxplot` and pass in the parameter `data=data`. Store the object returned in the variable `boxplot`"
      ]
    },
    {
      "cell_type": "code",
      "execution_count": null,
      "metadata": {
        "id": "R3lGcBvZnPHW"
      },
      "outputs": [],
      "source": [
        "boxplot = None"
      ]
    },
    {
      "cell_type": "markdown",
      "metadata": {
        "id": "7ofgnnzOnPHX"
      },
      "source": [
        "That's a nice looking visualization, for only a single line of code! However, it's missing axis labels and a title. Let's fix that.\n",
        "\n",
        "In the cell below:\n",
        "\n",
        "* Copy and paste the code from the cell above to recreate our boxplot\n",
        "* Call the `boxplot` object's `set()` method and pass in the following parameters:\n",
        "    * `xlabel= 'X Label'`\n",
        "    * `ylabel= 'Y Label'`\n",
        "    * `title = 'Example Boxplot'`    "
      ]
    },
    {
      "cell_type": "code",
      "execution_count": null,
      "metadata": {
        "id": "SjShg3LWnPHX"
      },
      "outputs": [],
      "source": [
        "boxplot = None\n"
      ]
    },
    {
      "cell_type": "markdown",
      "metadata": {
        "id": "LB_icRm6nPHX"
      },
      "source": [
        "That wasn't too bad! Note that we can also use **_Method Chaining_** to set all the label and title information by combining the two lines in the cell above!\n",
        "\n",
        "In the cell below:\n",
        "\n",
        "* Recreate the labeled boxplot by calling `.set()` and passing in the appropriate parameter values immediately after calling `sns.boxplot(data=data)` to create the visualization.\n",
        "\n",
        "**_NOTE_**: For this visualization, you do not need to store the object in a variable. Just call the methods."
      ]
    },
    {
      "cell_type": "code",
      "execution_count": null,
      "metadata": {
        "id": "B9j5cGztnPHX"
      },
      "outputs": [],
      "source": []
    },
    {
      "cell_type": "markdown",
      "metadata": {
        "id": "raUYD6z7nPHX"
      },
      "source": [
        "Great! As you can see, Seaborn is a pretty easy library to work with. It also has very detailed and easy-to-follow documentation, complete with a ton of examples and tutorials. If you're ever unsure of how to build something, don't be afraid to look at the [Seaborn Documentation](https://seaborn.pydata.org/), or Google!\n",
        "\n",
        "### Changing Style and Context\n",
        "\n",
        "One of the main reasons Data Scientists love Seaborn is because the visualizations it creates are just plain prettier than those made by matplotlib. Seaborn makes it very simple to style our visualizations--all we need to do is use the `set_style()` method!\n",
        "\n",
        "In the cell below:\n",
        "\n",
        "* Call Seaborn's `set_style()` method and pass in the string `'darkgrid'`.\n",
        "* Recreate the labeled boxplot that we made in the cell above."
      ]
    },
    {
      "cell_type": "code",
      "execution_count": null,
      "metadata": {
        "scrolled": true,
        "id": "z8pKnAcFnPHX"
      },
      "outputs": [],
      "source": [
        "# Your code here"
      ]
    },
    {
      "cell_type": "markdown",
      "metadata": {
        "id": "5-0mCyvLnPHX"
      },
      "source": [
        "That's much easier to read! There are several different styles that we can choose from. To see examples of the different styles we can use, check out the [documentation](https://seaborn.pydata.org/tutorial/aesthetics.html) for controlling figure aesthetics.\n",
        "\n",
        "Before we move on, let's make one more change. While the plot looks much better now, the size of the text for ticks and axis labels so small that it would be hard for people to read it unless they're right in front of the monitor--that's a problem, if the visualizations are going to be used in something like a tech talk or presentation!\n",
        "\n",
        "For this reason, we can also set the context, using the--you guessed it--`set_context()` method!\n",
        "\n",
        "In the cell below:\n",
        "\n",
        "* Call Seaborn's `set_context()` method and pass in the string `'poster'`.\n",
        "* Recreate the labeled boxplot that we made in the cell above."
      ]
    },
    {
      "cell_type": "code",
      "execution_count": null,
      "metadata": {
        "id": "0UO48inbnPHX"
      },
      "outputs": [],
      "source": [
        "# Your code here"
      ]
    },
    {
      "cell_type": "markdown",
      "metadata": {
        "id": "Z7SGYIj3nPHX"
      },
      "source": [
        "Much better! That's much more readable. From smallest to largest, the different context settings we can use are `'paper'`, `'notebook'`, `'talk'`, and `'poster'`.\n",
        "\n",
        "### A  Quick Note on Contexts and Styles\n",
        "\n",
        "When you call `set_context` or `set_style`, you're setting a global parameter that will apply to all future plots you create during this session. Any visualizations you have already created will not change--however, they will change if you rerun the cell that created them!\n",
        "\n",
        "Let's change our context back to `'notebook'` so that the next visualizations we create don't look too big.\n",
        "\n",
        "In the cell below, change the context back to `'notebook'`."
      ]
    },
    {
      "cell_type": "code",
      "execution_count": null,
      "metadata": {
        "id": "Ijdx67x-nPHY"
      },
      "outputs": [],
      "source": [
        "# Your code here"
      ]
    },
    {
      "cell_type": "markdown",
      "metadata": {
        "id": "h5AT1st3nPHY"
      },
      "source": [
        "## More Advanced Visualizations\n",
        "\n",
        "One awesome feature of Seaborn is the ability to quickly and easily create advanced visualizations such as **_Regression Plots_**. To end this lab, we'll see a few examples, and explore how they are created.\n",
        "\n",
        "### Regression Lines with Confidence Intervals\n",
        "\n",
        "There are also several different types of regression plots Seaborn makes available for this purpose. For this example, we're going to create an advanced regression plot that also visualizes the confidence interval for our regression line. We'll even have the visualization **_condition on_** a 3rd variable, to show how the regression lines differ for each group, depending on the value of the 3rd variable.\n",
        "\n",
        "For this visualization, we'll need a more advanced dataset than the example we created and used above. Luckily, Seaborn comes with some preloaded datasets. We can see the names of all the datasets by calling Seaborn's `get_dataset_names()` method.\n",
        "\n",
        "Do this now in the cell below."
      ]
    },
    {
      "cell_type": "code",
      "execution_count": null,
      "metadata": {
        "id": "NjRH1A3ZnPHY"
      },
      "outputs": [],
      "source": [
        "# Your code here"
      ]
    },
    {
      "cell_type": "markdown",
      "metadata": {
        "id": "NeWeY4XfnPHY"
      },
      "source": [
        "Great! For the reamainder of this notebook, we'll use the `'tips'` dataset. We can get this dataset by calling Seaborn's `load_dataset()` method and passing in the string `'tips'`. Seaborn is even considerate enough to return the dataset as a pandas DataFrame!\n",
        "\n",
        "In the cell below, get the tips dataset and store it in the variable `tips`. Then, display the head of the DataFrame so we can see what we're working with."
      ]
    },
    {
      "cell_type": "code",
      "execution_count": null,
      "metadata": {
        "id": "fb1gLbnsnPHY"
      },
      "outputs": [],
      "source": [
        "tips = None\n"
      ]
    },
    {
      "cell_type": "markdown",
      "metadata": {
        "id": "p-Li47OknPHY"
      },
      "source": [
        "Now that we have our dataset, we can create our regression plot. There are several kinds of regression plots we can use. For this example, we'll use the `lmplot` function.\n",
        "\n",
        "In the cell below:\n",
        "\n",
        "* Call Seaborn's `lmplot` function and pass in the following arguments:\n",
        "    * `x='total_bill'`\n",
        "    * `y='tip'`\n",
        "    * `hue='smoker'`\n",
        "    * `data= tips`"
      ]
    },
    {
      "cell_type": "code",
      "execution_count": null,
      "metadata": {
        "id": "db59bemMnPHY"
      },
      "outputs": [],
      "source": [
        "# Your code here"
      ]
    },
    {
      "cell_type": "markdown",
      "metadata": {
        "id": "hB0zcSLvnPHY"
      },
      "source": [
        "Very cool! That visualization contains _a lot_ of information, and it does it in a way that is easy to interpret and understand. Best of all, it didn't take much work on our part--all we had to do was tell the function the name of the column to use for the x axis, the name of the column to use for the y axis, and the name of the variable to condition on, as denoted by the two different colors.\n",
        "\n",
        "If we want to get even more ambitious, we can create mutiple subplots by using the `row=` and `column=` parameters, as well!\n",
        "\n",
        "Run the cell below to see an example, and see if you can figure out how the code works."
      ]
    },
    {
      "cell_type": "code",
      "execution_count": null,
      "metadata": {
        "id": "6D7zSHVBnPHY"
      },
      "outputs": [],
      "source": [
        "sns.lmplot(x=\"total_bill\", y=\"tip\", hue=\"smoker\",\n",
        "           col=\"time\", row=\"sex\", data=tips)"
      ]
    },
    {
      "cell_type": "markdown",
      "metadata": {
        "id": "HDJZg9ZAnPHY"
      },
      "source": [
        "## Summary\n",
        "\n",
        "In this lab, we explored the **_Seaborn_** library, and explored the sorts of data visualizations we can create with it!"
      ]
    }
  ],
  "metadata": {
    "kernelspec": {
      "display_name": "Python 3",
      "language": "python",
      "name": "python3"
    },
    "language_info": {
      "codemirror_mode": {
        "name": "ipython",
        "version": 3
      },
      "file_extension": ".py",
      "mimetype": "text/x-python",
      "name": "python",
      "nbconvert_exporter": "python",
      "pygments_lexer": "ipython3",
      "version": "3.6.6"
    },
    "colab": {
      "provenance": [],
      "include_colab_link": true
    }
  },
  "nbformat": 4,
  "nbformat_minor": 0
}