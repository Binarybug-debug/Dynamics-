{
  "cells": [
    {
      "cell_type": "markdown",
      "metadata": {
        "id": "view-in-github",
        "colab_type": "text"
      },
      "source": [
        "<a href=\"https://colab.research.google.com/github/Binarybug-debug/Dynamics-/blob/main/Numpy_Tutorial_Lab.ipynb\" target=\"_parent\"><img src=\"https://colab.research.google.com/assets/colab-badge.svg\" alt=\"Open In Colab\"/></a>"
      ]
    },
    {
      "cell_type": "markdown",
      "metadata": {
        "id": "vMwy5GH3ckdH"
      },
      "source": [
        "# Getting Started with NumPy - Lab"
      ]
    },
    {
      "cell_type": "markdown",
      "metadata": {
        "id": "S4WAekwLckdJ"
      },
      "source": [
        "## Introduction"
      ]
    },
    {
      "cell_type": "markdown",
      "metadata": {
        "id": "a-s6Yjy0ckdJ"
      },
      "source": [
        "Now that we have introduced NumPy, let's put it to practice. In this lab, you are going to be creating arrays, performing operations on them, and returning new arrays all using the NumPy library. Let's get started!"
      ]
    },
    {
      "cell_type": "markdown",
      "metadata": {
        "id": "oDxQ7C2VckdJ"
      },
      "source": [
        "## Objectives\n",
        "\n",
        "You will be able to:\n",
        "\n",
        "- Instantiate a numpy array with specified values\n",
        "- Use broadcasting to perform a math operation on an entire numpy array\n"
      ]
    },
    {
      "cell_type": "markdown",
      "metadata": {
        "id": "WA3Jt_OdckdK"
      },
      "source": [
        "## Import `NumPy` under the standard alias"
      ]
    },
    {
      "cell_type": "code",
      "execution_count": 20,
      "metadata": {
        "id": "j5U_nit6ckdK"
      },
      "outputs": [],
      "source": [
        "# Import numpy using the standard alias\n",
        "import numpy as np\n",
        "import pandas as pd"
      ]
    },
    {
      "cell_type": "markdown",
      "metadata": {
        "id": "jO6AuYMlckdK"
      },
      "source": [
        "## Generate some mock data"
      ]
    },
    {
      "cell_type": "markdown",
      "metadata": {
        "id": "V4JljC29ckdK"
      },
      "source": [
        "Create a NumPy array for each of the following:\n",
        "    1. Using a range\n",
        "    2. Using a Python list\n",
        "    \n",
        "Below, create a list in Python that has 5 elements (i.e. [0,1,2,3,4]) and assign it to the variable `py_list`.\n",
        "\n",
        "Next, do the same, but instead of a list, create a range with 5 elements and assign it to the variable, `py_range`.\n",
        "\n",
        "Finally, use the list and range to create NumPy arrays and assign the array from list to the variable `array_from_list`, and the array from the range to the variable `array_from_range`."
      ]
    },
    {
      "cell_type": "code",
      "execution_count": 9,
      "metadata": {
        "id": "DsgHuW-WckdL",
        "outputId": "f876b827-ea2a-4bf9-bcc8-9ad35b0bb6a7",
        "colab": {
          "base_uri": "https://localhost:8080/"
        }
      },
      "outputs": [
        {
          "output_type": "stream",
          "name": "stdout",
          "text": [
            "[10, 11, 12, 13, 14]\n",
            "<class 'numpy.ndarray'>\n",
            "<class 'numpy.ndarray'>\n"
          ]
        }
      ],
      "source": [
        "# Your code here\n",
        "py_list = [10,11,12,13,14]\n",
        "py_range = list(range(10,15))\n",
        "print(py_range)\n",
        "array_from_list = np.array(py_list)\n",
        "array_from_range = np.array(py_range)\n",
        "print(type(array_from_range))\n",
        "print(type(array_from_range))"
      ]
    },
    {
      "cell_type": "markdown",
      "metadata": {
        "id": "Ow0ZjkpmckdL"
      },
      "source": [
        "Next, we have a list of heights and weights and we'd like to use them to create a collection of BMIs. However, they are both in inches and pounds (imperial system), respectively.\n",
        "\n",
        "Let's use what we know to create NumPy arrays with the metric equivalent values (height in meters & weight in kg).\n",
        "\n",
        "> **Remember:** *NumPy can make these calculations a lot easier and with less code than a list!*"
      ]
    },
    {
      "cell_type": "markdown",
      "metadata": {
        "id": "JPW4eoDxckdL"
      },
      "source": [
        "> 1.0 inch = 0.0254 meters\n",
        "\n",
        "> 2.2046 lbs = 1 kilogram"
      ]
    },
    {
      "cell_type": "code",
      "execution_count": 10,
      "metadata": {
        "id": "EXpDxvhrckdL",
        "outputId": "1360f74b-45cc-4564-b611-605fd60c1dfd",
        "colab": {
          "base_uri": "https://localhost:8080/"
        }
      },
      "outputs": [
        {
          "output_type": "execute_result",
          "data": {
            "text/plain": [
              "array([1.651 , 1.7272, 1.8542, 1.905 , 1.9812])"
            ]
          },
          "metadata": {},
          "execution_count": 10
        }
      ],
      "source": [
        "# Use the conversion rate for turning height in inches to meters\n",
        "list_height_inches = [65, 68, 73, 75, 78]\n",
        "\n",
        "# Your code here\n",
        "array_height_inches =np.array(list_height_inches)\n",
        "array_height_meters = array_height_inches * 0.0254\n",
        "array_height_meters"
      ]
    },
    {
      "cell_type": "code",
      "execution_count": 11,
      "metadata": {
        "id": "PUjXcmPdckdL",
        "outputId": "1929abd4-188c-4003-8794-b909fa1bc236",
        "colab": {
          "base_uri": "https://localhost:8080/"
        }
      },
      "outputs": [
        {
          "output_type": "execute_result",
          "data": {
            "text/plain": [
              "array([ 68.03955366,  63.50358342,  99.79134537,  92.98739   ,\n",
              "       120.20321147])"
            ]
          },
          "metadata": {},
          "execution_count": 11
        }
      ],
      "source": [
        "# Use the conversion rate for turning weight in pounds to kilograms\n",
        "list_weight_pounds = [150, 140, 220, 205, 265]\n",
        "\n",
        "# Your code here\n",
        "array_weight_pounds = np.array(list_weight_pounds)\n",
        "array_weight_kg = array_weight_pounds/2.2046\n",
        "array_weight_kg"
      ]
    },
    {
      "cell_type": "markdown",
      "metadata": {
        "id": "LGcN2P-YckdL"
      },
      "source": [
        "The metric formula for calculating BMI is as follows:\n",
        "\n",
        "> BMI = weight (kg) ÷ height^2 (m^2)\n",
        "\n",
        "So, to get BMI we divide weight by the squared value of height. For example, if I weighed 130kg and was 1.9 meters tall, the calculation would look like:\n",
        "\n",
        "> BMI = 130 / (1.9*1.9)\n",
        "\n",
        "Use the BMI calculation to create a NumPy array of BMIs"
      ]
    },
    {
      "cell_type": "code",
      "execution_count": 13,
      "metadata": {
        "id": "C6fSTnzYckdV",
        "outputId": "540e4ce0-7407-4351-cf67-7b249257f1eb",
        "colab": {
          "base_uri": "https://localhost:8080/"
        }
      },
      "outputs": [
        {
          "output_type": "execute_result",
          "data": {
            "text/plain": [
              "array([24.9613063 , 21.28692715, 29.02550097, 25.62324316, 30.62382485])"
            ]
          },
          "metadata": {},
          "execution_count": 13
        }
      ],
      "source": [
        "# Your code here\n",
        "BMI_array = array_weight_kg/(array_height_meters)**2\n",
        "BMI_array"
      ]
    },
    {
      "cell_type": "markdown",
      "metadata": {
        "id": "zJvfByPHckdV"
      },
      "source": [
        "## Create a vector of ones the same size as your BMI vector using `np.ones()`"
      ]
    },
    {
      "cell_type": "code",
      "source": [
        "BMI_array.shape"
      ],
      "metadata": {
        "id": "1qf_6bAyJYkV",
        "outputId": "63554968-8c3d-42af-e701-bde675842542",
        "colab": {
          "base_uri": "https://localhost:8080/"
        }
      },
      "execution_count": 14,
      "outputs": [
        {
          "output_type": "execute_result",
          "data": {
            "text/plain": [
              "(5,)"
            ]
          },
          "metadata": {},
          "execution_count": 14
        }
      ]
    },
    {
      "cell_type": "code",
      "execution_count": 15,
      "metadata": {
        "id": "q028YkuzckdV",
        "outputId": "6f145b1d-4b6d-40f2-adea-280c519f151b",
        "colab": {
          "base_uri": "https://localhost:8080/"
        }
      },
      "outputs": [
        {
          "output_type": "execute_result",
          "data": {
            "text/plain": [
              "array([1., 1., 1., 1., 1.])"
            ]
          },
          "metadata": {},
          "execution_count": 15
        }
      ],
      "source": [
        "# Your code here\n",
        "identity = np.ones(5,)\n",
        "identity"
      ]
    },
    {
      "cell_type": "markdown",
      "metadata": {
        "id": "TtcrGJK8ckdV"
      },
      "source": [
        "## Multiply the BMI_array by your vector of ones\n",
        "The resulting product should have the same values as your original BMI numpy array."
      ]
    },
    {
      "cell_type": "code",
      "execution_count": 16,
      "metadata": {
        "id": "yqcr3kA3ckdV",
        "outputId": "1cf91c14-6bcc-4396-fbce-2b807b1216d0",
        "colab": {
          "base_uri": "https://localhost:8080/"
        }
      },
      "outputs": [
        {
          "output_type": "execute_result",
          "data": {
            "text/plain": [
              "array([24.9613063 , 21.28692715, 29.02550097, 25.62324316, 30.62382485])"
            ]
          },
          "metadata": {},
          "execution_count": 16
        }
      ],
      "source": [
        "# Your code here\n",
        "\n",
        "BMI_array_2 = BMI_array*identity\n",
        "BMI_array_2"
      ]
    },
    {
      "cell_type": "markdown",
      "metadata": {
        "id": "AO1Ce0NhckdW"
      },
      "source": [
        "## Level Up: Using NumPy to Parse a File\n",
        "The Pandas library that we've been using is built on top of NumPy; all columns/series in a Pandas DataFrame are built using NumPy arrays. To get a better idea of a how a built-in method like `pd.read_csv()` works, we'll try and recreate that here!"
      ]
    },
    {
      "cell_type": "code",
      "source": [
        "with open('bp.txt') as f:\n",
        "    lines = f.readlines()\n",
        "    n_rows = len(lines)\n",
        "    n_cols = len(lines[0].strip().split('\\t')) if lines else 0\n",
        "\n",
        "print('The file has {} lines.'.format(n_rows))\n",
        "print('The file has {} columns.'.format(n_cols))"
      ],
      "metadata": {
        "id": "6RJEvaIpMspq",
        "outputId": "8b5413eb-8a9c-4b98-aa23-2f670332f1cc",
        "colab": {
          "base_uri": "https://localhost:8080/"
        }
      },
      "execution_count": 25,
      "outputs": [
        {
          "output_type": "stream",
          "name": "stdout",
          "text": [
            "The file has 21 lines.\n",
            "The file has 8 columns.\n"
          ]
        }
      ]
    },
    {
      "cell_type": "markdown",
      "source": [
        "1) Create a matrix of zeros that is the same size of the file"
      ],
      "metadata": {
        "id": "VoBA3SDaM5j3"
      }
    },
    {
      "cell_type": "code",
      "source": [
        "zero_matrix = np.zeros((n_rows-1,n_cols))\n",
        "zero_matrix"
      ],
      "metadata": {
        "id": "rId3W3cUNAKV",
        "outputId": "835f9d1f-6527-41a6-f116-4381be6f8a80",
        "colab": {
          "base_uri": "https://localhost:8080/"
        }
      },
      "execution_count": 31,
      "outputs": [
        {
          "output_type": "execute_result",
          "data": {
            "text/plain": [
              "array([[0., 0., 0., 0., 0., 0., 0., 0.],\n",
              "       [0., 0., 0., 0., 0., 0., 0., 0.],\n",
              "       [0., 0., 0., 0., 0., 0., 0., 0.],\n",
              "       [0., 0., 0., 0., 0., 0., 0., 0.],\n",
              "       [0., 0., 0., 0., 0., 0., 0., 0.],\n",
              "       [0., 0., 0., 0., 0., 0., 0., 0.],\n",
              "       [0., 0., 0., 0., 0., 0., 0., 0.],\n",
              "       [0., 0., 0., 0., 0., 0., 0., 0.],\n",
              "       [0., 0., 0., 0., 0., 0., 0., 0.],\n",
              "       [0., 0., 0., 0., 0., 0., 0., 0.],\n",
              "       [0., 0., 0., 0., 0., 0., 0., 0.],\n",
              "       [0., 0., 0., 0., 0., 0., 0., 0.],\n",
              "       [0., 0., 0., 0., 0., 0., 0., 0.],\n",
              "       [0., 0., 0., 0., 0., 0., 0., 0.],\n",
              "       [0., 0., 0., 0., 0., 0., 0., 0.],\n",
              "       [0., 0., 0., 0., 0., 0., 0., 0.],\n",
              "       [0., 0., 0., 0., 0., 0., 0., 0.],\n",
              "       [0., 0., 0., 0., 0., 0., 0., 0.],\n",
              "       [0., 0., 0., 0., 0., 0., 0., 0.],\n",
              "       [0., 0., 0., 0., 0., 0., 0., 0.]])"
            ]
          },
          "metadata": {},
          "execution_count": 31
        }
      ]
    },
    {
      "cell_type": "code",
      "source": [
        "#3) Update each row of the matrix with the new stream of data\n",
        "matrix_df = pd.read_csv('/content/bp.txt',sep = '\\t')\n",
        "matrix_df.columns =  [0,1,2,3,4,5,6,7]\n",
        "\n",
        "for i in range(n_rows-1):\n",
        "  for j in range(n_cols):\n",
        "    zero_matrix[i, j] = matrix_df.iloc[i, j]\n",
        "zero_matrix\n",
        "\n",
        "\n"
      ],
      "metadata": {
        "id": "BAwcArccNdmy",
        "outputId": "efebb5a6-ce1e-4c41-f924-45125ee35f2f",
        "colab": {
          "base_uri": "https://localhost:8080/"
        }
      },
      "execution_count": 35,
      "outputs": [
        {
          "output_type": "execute_result",
          "data": {
            "text/plain": [
              "array([[  1.  , 105.  ,  47.  ,  85.4 ,   1.75,   5.1 ,  63.  ,  33.  ],\n",
              "       [  2.  , 115.  ,  49.  ,  94.2 ,   2.1 ,   3.8 ,  70.  ,  14.  ],\n",
              "       [  3.  , 116.  ,  49.  ,  95.3 ,   1.98,   8.2 ,  72.  ,  10.  ],\n",
              "       [  4.  , 117.  ,  50.  ,  94.7 ,   2.01,   5.8 ,  73.  ,  99.  ],\n",
              "       [  5.  , 112.  ,  51.  ,  89.4 ,   1.89,   7.  ,  72.  ,  95.  ],\n",
              "       [  6.  , 121.  ,  48.  ,  99.5 ,   2.25,   9.3 ,  71.  ,  10.  ],\n",
              "       [  7.  , 121.  ,  49.  ,  99.8 ,   2.25,   2.5 ,  69.  ,  42.  ],\n",
              "       [  8.  , 110.  ,  47.  ,  90.9 ,   1.9 ,   6.2 ,  66.  ,   8.  ],\n",
              "       [  9.  , 110.  ,  49.  ,  89.2 ,   1.83,   7.1 ,  69.  ,  62.  ],\n",
              "       [ 10.  , 114.  ,  48.  ,  92.7 ,   2.07,   5.6 ,  64.  ,  35.  ],\n",
              "       [ 11.  , 114.  ,  47.  ,  94.4 ,   2.07,   5.3 ,  74.  ,  90.  ],\n",
              "       [ 12.  , 115.  ,  49.  ,  94.1 ,   1.98,   5.6 ,  71.  ,  21.  ],\n",
              "       [ 13.  , 114.  ,  50.  ,  91.6 ,   2.05,  10.2 ,  68.  ,  47.  ],\n",
              "       [ 14.  , 106.  ,  45.  ,  87.1 ,   1.92,   5.6 ,  67.  ,  80.  ],\n",
              "       [ 15.  , 125.  ,  52.  , 101.3 ,   2.19,  10.  ,  76.  ,  98.  ],\n",
              "       [ 16.  , 114.  ,  46.  ,  94.5 ,   1.98,   7.4 ,  69.  ,  95.  ],\n",
              "       [ 17.  , 106.  ,  46.  ,  87.  ,   1.87,   3.6 ,  62.  ,  18.  ],\n",
              "       [ 18.  , 113.  ,  46.  ,  94.5 ,   1.9 ,   4.3 ,  70.  ,  12.  ],\n",
              "       [ 19.  , 110.  ,  48.  ,  90.5 ,   1.88,   9.  ,  71.  ,  99.  ],\n",
              "       [ 20.  , 122.  ,  56.  ,  95.7 ,   2.09,   7.  ,  75.  ,  99.  ]])"
            ]
          },
          "metadata": {},
          "execution_count": 35
        }
      ]
    },
    {
      "cell_type": "code",
      "execution_count": 33,
      "metadata": {
        "id": "xG3xEz7DckdW",
        "outputId": "b23caaf0-ca5a-49bf-861e-b5571d8515e0",
        "colab": {
          "base_uri": "https://localhost:8080/"
        }
      },
      "outputs": [
        {
          "output_type": "stream",
          "name": "stdout",
          "text": [
            "The file has 21 lines.\n"
          ]
        }
      ],
      "source": [
        "# Open a text file (csv files are just plaintext separated by commas)\n",
        "f = open('bp.txt')\n",
        "n_rows = len(f.readlines())\n",
        "# Print number of lines in the file\n",
        "print('The file has {} lines.'.format(n_rows))\n",
        "# After using readlines, we must reopen the file\n",
        "f = open('bp.txt')\n",
        "# The file has values separated by tabs; we read the first line and check it's length\n",
        "n_cols = (len(f.readline().split('\\t')))\n",
        "\n",
        "f = open('bp.txt')\n",
        "# Your code here\n",
        "# Pseudocode outline below\n",
        "#1) Create a matrix of zeros that is the same size of the file\n",
        "#2) Iterate through the file: \"for line in f:\" Hint: using enumerate will also be required\n",
        "    #3) Update each row of the matrix with the new stream of data\n",
        "    #Hint: skip the first row (it's just column names, not the data.)\n",
        "#4) Preview your results; you should now have a NumPy matrix with the data from the file\n",
        "\n",
        "\n",
        "\n",
        "\n"
      ]
    },
    {
      "cell_type": "markdown",
      "metadata": {
        "id": "296KziJRckdW"
      },
      "source": [
        "## Summary"
      ]
    },
    {
      "cell_type": "markdown",
      "metadata": {
        "id": "aScWnSyRckdW"
      },
      "source": [
        "In this lab, we practiced creating NumPy arrays from both lists and ranges. We then practiced performing math operations like converting imperial measurements to metric measurements on each element of a NumPy array to create new arrays with new values. Finally, we used both of our new NumPy arrays to operate on each other and create new arrays containing the BMIs from our arrays containing heights and weights."
      ]
    }
  ],
  "metadata": {
    "kernelspec": {
      "display_name": "Python 3",
      "language": "python",
      "name": "python3"
    },
    "language_info": {
      "codemirror_mode": {
        "name": "ipython",
        "version": 3
      },
      "file_extension": ".py",
      "mimetype": "text/x-python",
      "name": "python",
      "nbconvert_exporter": "python",
      "pygments_lexer": "ipython3",
      "version": "3.7.3"
    },
    "colab": {
      "provenance": [],
      "include_colab_link": true
    }
  },
  "nbformat": 4,
  "nbformat_minor": 0
}