{
  "nbformat": 4,
  "nbformat_minor": 0,
  "metadata": {
    "colab": {
      "provenance": [],
      "authorship_tag": "ABX9TyPieO1BW0acMsJ2UfzuF9rU",
      "include_colab_link": true
    },
    "kernelspec": {
      "name": "python3",
      "display_name": "Python 3"
    },
    "language_info": {
      "name": "python"
    }
  },
  "cells": [
    {
      "cell_type": "markdown",
      "metadata": {
        "id": "view-in-github",
        "colab_type": "text"
      },
      "source": [
        "<a href=\"https://colab.research.google.com/github/C-3DevO/MORINGA_DS/blob/main/PHASE%200/PHASE_0_PROJECT.ipynb\" target=\"_parent\"><img src=\"https://colab.research.google.com/assets/colab-badge.svg\" alt=\"Open In Colab\"/></a>"
      ]
    },
    {
      "cell_type": "markdown",
      "source": [
        "#Project Summary:Premier League Player Stats Analysis (Opta Data)\n",
        "This project explores Premier League player performance using Opta statistics and applies core Python, pandas, NumPy, Seaborn, and matplotlib skills learned in Moringa School Phase 0.\n",
        "\n",
        "#Objective:\n",
        "To extract meaningful insights from Premier League player data and  reinforce foundational skills in Python programming, data manipulation, and data visualization.\n",
        "\n",
        "#Key Goals:\n",
        "- Understand player and team performance trends  \n",
        "- Explore relationships between stats like goals, assists, xG, and passes  \n",
        "- Create per-90 and efficiency metrics for deeper evaluation  \n",
        "- Visualize insights using professional data plots  \n",
        "- Compare players and teams across key performance indicators (KPIs)\n",
        "\n",
        "Tools & Libraries:\n",
        "- Python 3\n",
        "- Pandas and NumPy ---> Data manipulation and computation  \n",
        "- matplotlib and Seaborn ---> Data visualization  \n",
        "- EDA techniques ---> Statistical summaries and exploration\n"
      ],
      "metadata": {
        "id": "L7MbtaFvQJZ6"
      }
    },
    {
      "cell_type": "code",
      "source": [
        "#importing important Libraries\n",
        "import numpy as np\n",
        "import pandas as pd\n",
        "import matplotlib.pyplot as plt\n",
        "import seaborn as sns\n",
        "%matplotlib inline"
      ],
      "metadata": {
        "id": "hRpSazADRK-A"
      },
      "execution_count": null,
      "outputs": []
    }
  ]
}