{
  "cells": [
    {
      "cell_type": "markdown",
      "metadata": {
        "id": "view-in-github",
        "colab_type": "text"
      },
      "source": [
        "<a href=\"https://colab.research.google.com/github/Binarybug-debug/Dynamics-/blob/main/Python%20Loops%20and%20Functions%20-%20Cumulative%20Lab.ipynb\" target=\"_parent\"><img src=\"https://colab.research.google.com/assets/colab-badge.svg\" alt=\"Open In Colab\"/></a>"
      ]
    },
    {
      "cell_type": "markdown",
      "metadata": {
        "id": "L4XcGDbsbL3y"
      },
      "source": [
        "# Python Loops and Functions - Cumulative Lab\n",
        "\n",
        "## Introduction\n",
        "\n",
        "You made it through another section — excellent work! This cumulative lab will return to the Amazon product review dataset and allow you to flex your new skills.\n",
        "\n",
        "## Objectives\n",
        "\n",
        "You will be able to:\n",
        "\n",
        " - Recall what you learned in the previous section\n",
        " - Practice writing loops to pull multiple pieces of data from a dataset\n",
        " - Practice writing functions for organization and avoiding repetition\n",
        "\n",
        "## Your Task: Dynamically Query Amazon Review Data\n",
        "\n",
        "Once again, we are going to be working with data collected by Computer Science researchers at the University of California, San Diego. Their full paper citation is here:\n",
        "> **Justifying recommendations using distantly-labeled reviews and fined-grained aspects**\n",
        "Jianmo Ni, Jiacheng Li, Julian McAuley\n",
        "Empirical Methods in Natural Language Processing (EMNLP), 2019\n",
        "[pdf](http://cseweb.ucsd.edu/~jmcauley/pdfs/emnlp19a.pdf)\n",
        "\n",
        "We are still using a cleaned-up, coffee-specific, sample version of their [full dataset](https://nijianmo.github.io/amazon/index.html).\n",
        "\n",
        "![pouring coffee](https://curriculum-content.s3.amazonaws.com/data-science/images/coffee.jpg)\n",
        "<span>Photo by <a href=\"https://unsplash.com/@dumdidu?utm_source=unsplash&amp;utm_medium=referral&amp;utm_content=creditCopyText\">Philipp Cordts</a> on <a href=\"https://unsplash.com/s/photos/coffee-pot?utm_source=unsplash&amp;utm_medium=referral&amp;utm_content=creditCopyText\">Unsplash</a></span>\n",
        "\n",
        "In some cases, we will write the function signature for you, e.g.\n",
        "\n",
        "```python\n",
        "def review_sentiment(review):\n",
        "    # Replace None with appropriate code\n",
        "    None\n",
        "```\n",
        "\n",
        "Then you just need to fill in the relevant logic.\n",
        "\n",
        "In other cases, you will need to write the function signature yourself, e.g.\n",
        "\n",
        "```python\n",
        "# Your code here\n",
        "```\n",
        "\n",
        "### Requirements\n",
        "\n",
        "#### 1. Data Summary\n",
        "While reusing some code from the previous cumulative lab, write code to loop over all of the records in the dataset to summarize its contents, specifically in terms of overall review sentiment and the years when the reviews were written.\n",
        "\n",
        "#### 2. Subset Sample\n",
        "Provide a sample of records that meet particular criteria.\n",
        "\n",
        "#### 3. Individual Review Summary\n",
        "Refactor the code from the previous cumulative lab so that it is contained in a function and prompts the user to select which review to summarize.\n",
        "\n",
        "## Data Summary\n",
        "\n",
        "Once again, we've opened up the dataset and loaded it into a list of dictionaries called `reviews`."
      ]
    },
    {
      "cell_type": "code",
      "execution_count": 1,
      "metadata": {
        "id": "2sq-SjQmbL30",
        "outputId": "855d7219-efdb-45bc-bc1d-835e79e873a4",
        "colab": {
          "base_uri": "https://localhost:8080/"
        }
      },
      "outputs": [
        {
          "output_type": "execute_result",
          "data": {
            "text/plain": [
              "list"
            ]
          },
          "metadata": {},
          "execution_count": 1
        }
      ],
      "source": [
        "# Run this cell without changes\n",
        "import json\n",
        "with open(\"coffee_product_reviews.json\") as f:\n",
        "    reviews = json.load(f)\n",
        "type(reviews)"
      ]
    },
    {
      "cell_type": "markdown",
      "metadata": {
        "id": "QGSDw9RibL31"
      },
      "source": [
        "Previously, we found the length of the collection, and looked into the data types of each record's keys and values"
      ]
    },
    {
      "cell_type": "code",
      "execution_count": 3,
      "metadata": {
        "id": "RLNVkwPjbL31",
        "outputId": "43194672-1a6e-4cef-9378-9a03bac64d17",
        "colab": {
          "base_uri": "https://localhost:8080/"
        }
      },
      "outputs": [
        {
          "output_type": "stream",
          "name": "stdout",
          "text": [
            "The coffee product review dataset contains 86 reviews\n"
          ]
        },
        {
          "output_type": "execute_result",
          "data": {
            "text/plain": [
              "{'rating': 5.0,\n",
              " 'reviewer_name': 'Sns073194',\n",
              " 'product_id': 'B00004RFRV',\n",
              " 'review_title': 'Perfect cafsito every time',\n",
              " 'review_time': '03 11, 2018',\n",
              " 'images': ['https://images-na.ssl-images-amazon.com/images/I/71d2cQEgJsL._SY88.jpg'],\n",
              " 'styles': {'Size:': ' 6-Cup', 'Color:': ' Silver'}}"
            ]
          },
          "metadata": {},
          "execution_count": 3
        }
      ],
      "source": [
        "# Run this cell without changes\n",
        "num_reviews = len(reviews)\n",
        "print(\"The coffee product review dataset contains {} reviews\".format(num_reviews))\n",
        "#print(f\"The coffee product review dataset contains {num_reviews} reviews\")\n",
        "first_review = reviews[0]\n",
        "first_review"
      ]
    },
    {
      "cell_type": "code",
      "execution_count": 4,
      "metadata": {
        "id": "bvDSfjOobL31",
        "outputId": "94162cba-69e7-4234-90d0-05938412ff68",
        "colab": {
          "base_uri": "https://localhost:8080/"
        }
      },
      "outputs": [
        {
          "output_type": "execute_result",
          "data": {
            "text/plain": [
              "dict_keys(['rating', 'reviewer_name', 'product_id', 'review_title', 'review_time', 'images', 'styles'])"
            ]
          },
          "metadata": {},
          "execution_count": 4
        }
      ],
      "source": [
        "# Run this cell without changes\n",
        "first_review.keys()"
      ]
    },
    {
      "cell_type": "code",
      "execution_count": 5,
      "metadata": {
        "id": "3DZ6rQ2rbL31",
        "outputId": "bfb37567-de1d-40bb-ae17-5c603ee2d9fb",
        "colab": {
          "base_uri": "https://localhost:8080/"
        }
      },
      "outputs": [
        {
          "output_type": "execute_result",
          "data": {
            "text/plain": [
              "dict_values([5.0, 'Sns073194', 'B00004RFRV', 'Perfect cafsito every time', '03 11, 2018', ['https://images-na.ssl-images-amazon.com/images/I/71d2cQEgJsL._SY88.jpg'], {'Size:': ' 6-Cup', 'Color:': ' Silver'}])"
            ]
          },
          "metadata": {},
          "execution_count": 5
        }
      ],
      "source": [
        "# Run this cell without changes\n",
        "first_review.values()"
      ]
    },
    {
      "cell_type": "markdown",
      "metadata": {
        "id": "GWjE6KdmbL31"
      },
      "source": [
        "This time, let's do something a bit more sophisticated. Specifically:\n",
        "\n",
        "1. Count of positive, negative, and neutral reviews\n",
        "2. List of years contained in the dataset\n",
        "\n",
        "### Count of Positive, Negative, and Neutral Reviews\n",
        "\n",
        "Previously, we wrote something like this code to determine whether a specific review was positive, negative, or neutral:"
      ]
    },
    {
      "cell_type": "code",
      "execution_count": 6,
      "metadata": {
        "id": "KQIRppCAbL32",
        "outputId": "3509e5c2-6587-49ab-f98e-1686f24e58e0",
        "colab": {
          "base_uri": "https://localhost:8080/"
        }
      },
      "outputs": [
        {
          "output_type": "stream",
          "name": "stdout",
          "text": [
            "This is a positive review\n"
          ]
        }
      ],
      "source": [
        "# Run this cell without changes\n",
        "selected_review = reviews[2]\n",
        "selected_rating = selected_review[\"rating\"]\n",
        "\n",
        "if selected_rating >= 4:\n",
        "    print(\"This is a positive review\")\n",
        "elif selected_rating <= 2:\n",
        "    print(\"This is a negative review\")\n",
        "else:\n",
        "    print(\"This is a neutral review\")"
      ]
    },
    {
      "cell_type": "markdown",
      "metadata": {
        "id": "0nQ7_hbYbL32"
      },
      "source": [
        "Now, rewrite that code as a function `review_sentiment`, which takes in a review dictionary as an argument, and returns the string `\"positive\"`, `\"negative\"`, or `\"neutral\"`"
      ]
    },
    {
      "cell_type": "code",
      "execution_count": 7,
      "metadata": {
        "id": "iUtDqec1bL32"
      },
      "outputs": [],
      "source": [
        "def review_sentiment(review):\n",
        "    # Replace None with appropriate code\n",
        "    selected_rating = review[\"rating\"]\n",
        "    if selected_rating >= 4:\n",
        "     print(\"This is a positive review\")\n",
        "    elif selected_rating <= 2:\n",
        "     print(\"This is a negative review\")\n",
        "    else:\n",
        "     print(\"This is a neutral review\")"
      ]
    },
    {
      "cell_type": "code",
      "execution_count": 8,
      "metadata": {
        "id": "thlWnSnCbL32",
        "outputId": "92a053c1-0c19-4189-f21f-4f10f4d28127",
        "colab": {
          "base_uri": "https://localhost:8080/"
        }
      },
      "outputs": [
        {
          "output_type": "stream",
          "name": "stdout",
          "text": [
            "This is a positive review\n"
          ]
        }
      ],
      "source": [
        "# Run this cell without changes\n",
        "review_sentiment(reviews[2]) # 'positive'"
      ]
    },
    {
      "cell_type": "code",
      "execution_count": 9,
      "metadata": {
        "id": "SuIIPQUubL32",
        "outputId": "066a9b10-df7b-4182-a668-574fa6bc89c5",
        "colab": {
          "base_uri": "https://localhost:8080/"
        }
      },
      "outputs": [
        {
          "output_type": "stream",
          "name": "stdout",
          "text": [
            "This is a negative review\n"
          ]
        }
      ],
      "source": [
        "# Run this cell without changes\n",
        "review_sentiment(reviews[4]) # 'negative'"
      ]
    },
    {
      "cell_type": "code",
      "execution_count": 10,
      "metadata": {
        "id": "AkkqAzABbL32",
        "outputId": "482acd5d-817a-4004-ec55-00af8a0ce833",
        "colab": {
          "base_uri": "https://localhost:8080/"
        }
      },
      "outputs": [
        {
          "output_type": "stream",
          "name": "stdout",
          "text": [
            "This is a neutral review\n"
          ]
        }
      ],
      "source": [
        "# Run this cell without changes\n",
        "review_sentiment(reviews[47]) # 'neutral'"
      ]
    },
    {
      "cell_type": "markdown",
      "metadata": {
        "id": "nB3X1SpnbL32"
      },
      "source": [
        "Ok, this is already much cleaner than copying and pasting that `if`/`elif`/`else` sequence like we did before!\n",
        "\n",
        "Now, write a function to loop over all of the reviews in the list, and count how many are positive, negative, and neutral.\n",
        "\n",
        "The function should be called `get_sentiment_counts`, take one argument (the list of reviews), and return a dictionary containing the counts. A counter dictionary has been initialized for you with `\"positive\"`, `\"negative\"`, and `\"neutral\"` as the keys and values starting at 0."
      ]
    },
    {
      "cell_type": "code",
      "execution_count": 12,
      "metadata": {
        "id": "XJp_MxBRbL32",
        "outputId": "3eafd51a-0253-42a5-de15-ba595d7cb19a",
        "colab": {
          "base_uri": "https://localhost:8080/"
        }
      },
      "outputs": [
        {
          "output_type": "execute_result",
          "data": {
            "text/plain": [
              "{'positive': 67, 'negative': 15, 'neutral': 4}"
            ]
          },
          "metadata": {},
          "execution_count": 12
        }
      ],
      "source": [
        "def get_sentiment_counts(review_list):\n",
        "\n",
        "    sentiment_counts = {\n",
        "        \"positive\": 0,\n",
        "        \"negative\": 0,\n",
        "        \"neutral\": 0\n",
        "    }\n",
        "\n",
        "    # Your code here\n",
        "    for rev in review_list:\n",
        "      if rev[\"rating\"] >= 4:\n",
        "       sentiment_counts[\"positive\"] +=1\n",
        "      elif rev[\"rating\"] <=2:\n",
        "        sentiment_counts[\"negative\"] +=1\n",
        "      else:\n",
        "        sentiment_counts[\"neutral\"] +=1\n",
        "\n",
        "    return sentiment_counts\n",
        "\n",
        "get_sentiment_counts(reviews) # {'positive': 67, 'negative': 15, 'neutral': 4}"
      ]
    },
    {
      "cell_type": "markdown",
      "source": [
        "Let us define a dictionary of the sentiment_counts and do a bar plot"
      ],
      "metadata": {
        "id": "98ex4xx9zvh9"
      }
    },
    {
      "cell_type": "code",
      "source": [
        "sentiment_counts = get_sentiment_counts(reviews)\n",
        "x = sentiment_counts.keys()\n",
        "x\n",
        "y = sentiment_counts.values()\n",
        "y\n",
        "import numpy as np\n",
        "import pandas as pd\n",
        "import matplotlib.pyplot as plt\n",
        "import matplotlib_inline\n",
        "\n",
        "plt.figure(figsize=(10,6))\n",
        "plt.bar(x,y, label = \"Sentiment Counts\")\n",
        "plt.xlabel(\"Sentiment\")\n",
        "plt.ylabel(\"Count\")\n",
        "plt.title(\"Bar Plot of Sentiment Counts\")\n",
        "plt.legend()\n",
        "plt.show()\n"
      ],
      "metadata": {
        "id": "kX8IdjPxz4du",
        "outputId": "b8ddaca4-2dd9-4c1b-e6ed-9193bced270b",
        "colab": {
          "base_uri": "https://localhost:8080/",
          "height": 564
        }
      },
      "execution_count": 19,
      "outputs": [
        {
          "output_type": "display_data",
          "data": {
            "text/plain": [
              "<Figure size 1000x600 with 1 Axes>"
            ],
            "image/png": "[encoded data removed]"
          },
          "metadata": {}
        }
      ]
    },
    {
      "cell_type": "markdown",
      "metadata": {
        "id": "hj1fYPZAbL33"
      },
      "source": [
        "This spread of sentiments seems reasonable. There is a well-known [skew towards positive reviews in general](https://dspace.mit.edu/handle/1721.1/111093), similar to \"grade inflation\", and people with neutral opinions are less likely to write reviews in the first place.\n",
        "\n",
        "### List of Years Contained in the Dataset\n",
        "\n",
        "Previously, we wrote something like this code to extract the year of a review from the review dictionary:"
      ]
    },
    {
      "cell_type": "code",
      "execution_count": 20,
      "metadata": {
        "id": "pIsf5UMLbL33",
        "outputId": "18b78d94-818c-4f6a-de4b-684a0055101f",
        "colab": {
          "base_uri": "https://localhost:8080/"
        }
      },
      "outputs": [
        {
          "output_type": "execute_result",
          "data": {
            "text/plain": [
              "2017"
            ]
          },
          "metadata": {},
          "execution_count": 20
        }
      ],
      "source": [
        "# Run this cell without changes\n",
        "selected_review = reviews[2]\n",
        "selected_review_time = selected_review[\"review_time\"]\n",
        "selected_review_year = int(selected_review_time[-4:])\n",
        "selected_review_year"
      ]
    },
    {
      "cell_type": "markdown",
      "metadata": {
        "id": "nnCM97ScbL33"
      },
      "source": [
        "Now, rewrite that code as a function `review_year`, which takes in a review dictionary as an argument, and returns the year as an integer:"
      ]
    },
    {
      "cell_type": "code",
      "execution_count": 21,
      "metadata": {
        "id": "NnYcTI33bL33"
      },
      "outputs": [],
      "source": [
        "def review_year(review):\n",
        "    # Replace None with appropriate code\n",
        "    return int(review[\"review_time\"][-4:])"
      ]
    },
    {
      "cell_type": "code",
      "execution_count": 22,
      "metadata": {
        "id": "eIWPofxqbL33",
        "outputId": "2496df15-73dc-4f24-eee3-ec329e1b8020",
        "colab": {
          "base_uri": "https://localhost:8080/"
        }
      },
      "outputs": [
        {
          "output_type": "execute_result",
          "data": {
            "text/plain": [
              "2017"
            ]
          },
          "metadata": {},
          "execution_count": 22
        }
      ],
      "source": [
        "# Run this cell without changes\n",
        "review_year(reviews[2]) # 2017"
      ]
    },
    {
      "cell_type": "code",
      "execution_count": 23,
      "metadata": {
        "id": "6OqsFvMcbL33",
        "outputId": "3602a056-3249-4f90-d048-f6910ad93264",
        "colab": {
          "base_uri": "https://localhost:8080/"
        }
      },
      "outputs": [
        {
          "output_type": "execute_result",
          "data": {
            "text/plain": [
              "2017"
            ]
          },
          "metadata": {},
          "execution_count": 23
        }
      ],
      "source": [
        "# Run this cell without changes\n",
        "review_year(reviews[4]) # 2017"
      ]
    },
    {
      "cell_type": "code",
      "execution_count": 24,
      "metadata": {
        "id": "zTHFXLvsbL33",
        "outputId": "e9c4885f-48eb-49c8-9e02-d5c434effd75",
        "colab": {
          "base_uri": "https://localhost:8080/"
        }
      },
      "outputs": [
        {
          "output_type": "execute_result",
          "data": {
            "text/plain": [
              "2015"
            ]
          },
          "metadata": {},
          "execution_count": 24
        }
      ],
      "source": [
        "# Run this cell without changes\n",
        "review_year(reviews[47]) # 2015"
      ]
    },
    {
      "cell_type": "markdown",
      "metadata": {
        "id": "Wb9I3iVfbL33"
      },
      "source": [
        "Now, write a function called `get_years` to loop over all of the reviews in the review list and create a list of the years you find. Each year should only appear once, in ascending order. The function should accept one argument (`review_list`) and should return a list of integers representing the years.\n",
        "\n",
        "Hints:\n",
        "\n",
        " - Remember that you can use the `set()` function to keep only the unique elements in a list. Just make sure you use `list()` afterwards to convert it back to a list data type. This is not the only solution, however!\n",
        " - There is a list method named `.sort()` ([look it up in the python list documentation here](https://docs.python.org/3/tutorial/datastructures.html#more-on-lists)) that will automatically order the years; you don't need to write sorting logic \"by hand\""
      ]
    },
    {
      "cell_type": "code",
      "execution_count": 29,
      "metadata": {
        "id": "9MHKax1JbL33",
        "outputId": "f97d1311-8faf-4746-c595-8e7a9aba100c",
        "colab": {
          "base_uri": "https://localhost:8080/"
        }
      },
      "outputs": [
        {
          "output_type": "stream",
          "name": "stdout",
          "text": [
            "[2007, 2008, 2009, 2011, 2012, 2013, 2014, 2015, 2016, 2017, 2018]\n",
            "<class 'list'>\n"
          ]
        }
      ],
      "source": [
        "# Your code here\n",
        "def get_years(review_list):\n",
        "  review_years = set()\n",
        "  for review in review_list:\n",
        "    review_years.add(int(review[\"review_time\"][-4:]))\n",
        "  review_years_lst = list(review_years)\n",
        "\n",
        "  return sorted(review_years_lst)\n",
        "\n",
        "print(get_years(reviews)) # [2007, 2008, 2009, 2011, 2012, 2013, 2014, 2015, 2016, 2017, 2018]\n",
        "print(type(get_years(reviews))) # <class 'list'>"
      ]
    },
    {
      "cell_type": "markdown",
      "metadata": {
        "id": "TmXmYKrwbL33"
      },
      "source": [
        "Now we know that we have data spanning 2007-2018, with no data from 2010. In some contexts that absence might be worth investigating — is it a random artifact of our sample, or are we missing 2010 data for a reason that matters? For now we'll just keep moving on to the next section, now that we have a clearer sense of the kinds of reviews in our dataset and the years they were written.\n",
        "\n",
        "## Subset Sampling\n",
        "\n",
        "Once you have an overall sense of a dataset, it's a good idea to ask *what are some examples of records in each category?* For example, what are some examples of a negative review?\n",
        "\n",
        "Although 86 records are few enough that you could technically read through all of them and just mentally note what we see, let's use an approach that will scale better to larger datasets with more categories: **filtering** to a subset of records then **sampling** to achieve a digestible amount of information.\n",
        "\n",
        "### Filtering\n",
        "\n",
        "Here we are going to make use of another built-in Python function: `filter()` ([docs here](https://docs.python.org/3/library/functions.html#filter)). To use this function, we first need to write a helper function that returns `True` or `False` based on the value passed in.\n",
        "\n",
        "So, create a function `is_negative` that takes in a review dictionary as an argument and returns `True` if the review is negative, `False` otherwise:"
      ]
    },
    {
      "cell_type": "code",
      "execution_count": 30,
      "metadata": {
        "id": "h5azgUvWbL33",
        "outputId": "902a298e-60f8-439a-c2d7-63057336b3c9",
        "colab": {
          "base_uri": "https://localhost:8080/"
        }
      },
      "outputs": [
        {
          "output_type": "stream",
          "name": "stdout",
          "text": [
            "False\n",
            "True\n",
            "False\n"
          ]
        }
      ],
      "source": [
        "def is_negative(review):\n",
        "    # Replace None with appropriate code\n",
        "    if review[\"rating\"] <=2:\n",
        "      return True\n",
        "    else:\n",
        "      return False\n",
        "\n",
        "print(is_negative(reviews[2]))  # False (postive review)\n",
        "print(is_negative(reviews[4]))  # True\n",
        "print(is_negative(reviews[47])) # False (neutral review)"
      ]
    },
    {
      "cell_type": "markdown",
      "metadata": {
        "id": "gMynvDF-bL33"
      },
      "source": [
        "Now we can use the `filter()` function to create a list of negative reviews:"
      ]
    },
    {
      "cell_type": "code",
      "execution_count": 31,
      "metadata": {
        "id": "Z7yTQaeCbL34",
        "outputId": "46eed8a5-c94b-46d1-c7d3-86569df33932",
        "colab": {
          "base_uri": "https://localhost:8080/"
        }
      },
      "outputs": [
        {
          "output_type": "execute_result",
          "data": {
            "text/plain": [
              "[{'rating': 1.0,\n",
              "  'reviewer_name': 'EJ',\n",
              "  'product_id': 'B00004RFRV',\n",
              "  'review_title': 'Rusted spots everywhere fresh out the box...nasty',\n",
              "  'review_time': '06 4, 2017',\n",
              "  'images': ['https://images-na.ssl-images-amazon.com/images/I/71Dbr6X0bYL._SY88.jpg'],\n",
              "  'styles': {'Size:': ' 9-Cup', 'Color:': ' Silver'}},\n",
              " {'rating': 1.0,\n",
              "  'reviewer_name': 'mathman54',\n",
              "  'product_id': 'B00004RFRV',\n",
              "  'review_title': \"The bottom looks like it has rusted and I don't know how to ...\",\n",
              "  'review_time': '02 15, 2016',\n",
              "  'images': ['https://images-na.ssl-images-amazon.com/images/I/71qt4Hnra8L._SY88.jpg',\n",
              "   'https://images-na.ssl-images-amazon.com/images/I/71Wkg8MesdL._SY88.jpg'],\n",
              "  'styles': {'Size:': ' 12-Cup', 'Color:': ' Silver'}},\n",
              " {'rating': 1.0,\n",
              "  'reviewer_name': 'Maria Fernandez',\n",
              "  'product_id': 'B00004RFRV',\n",
              "  'review_title': 'Is it a Bialetti? Came dirty with coffee grounds.',\n",
              "  'review_time': '03 22, 2015',\n",
              "  'images': ['https://images-na.ssl-images-amazon.com/images/I/71aPg3ZuCzL._SY88.jpg',\n",
              "   'https://images-na.ssl-images-amazon.com/images/I/71-2keZacOL._SY88.jpg',\n",
              "   'https://images-na.ssl-images-amazon.com/images/I/71Z4C4G-0dL._SY88.jpg'],\n",
              "  'styles': {'Size:': ' 6-Cup', 'Color:': ' Silver'}},\n",
              " {'rating': 1.0,\n",
              "  'reviewer_name': 'Toni Bautista',\n",
              "  'product_id': 'B00005IBX9',\n",
              "  'review_title': 'Great but NOT PERFECT -missing Side water panel',\n",
              "  'review_time': '02 24, 2017',\n",
              "  'images': ['https://images-na.ssl-images-amazon.com/images/I/71X5NEjZG5L._SY88.jpg'],\n",
              "  'styles': {'Color:': ' Brushed Chrome'}},\n",
              " {'rating': 1.0,\n",
              "  'reviewer_name': 'SAinVA',\n",
              "  'product_id': 'B00005LM0T',\n",
              "  'review_title': 'Too much waste',\n",
              "  'review_time': '09 7, 2017',\n",
              "  'images': ['https://images-na.ssl-images-amazon.com/images/I/71shZggLRHL._SY88.jpg'],\n",
              "  'styles': {'Size:': ' 34 oz.', 'Package Type:': ' Standard Packaging'}},\n",
              " {'rating': 1.0,\n",
              "  'reviewer_name': 'Silicon Valley',\n",
              "  'product_id': 'B00005LM0T',\n",
              "  'review_title': 'FRAME RUSTS WITHIN A FEW WEEKS',\n",
              "  'review_time': '03 10, 2016',\n",
              "  'images': ['https://images-na.ssl-images-amazon.com/images/I/71FREAeBLIL._SY88.jpg',\n",
              "   'https://images-na.ssl-images-amazon.com/images/I/71qkhDjseuL._SY88.jpg',\n",
              "   'https://images-na.ssl-images-amazon.com/images/I/7143mVMMoCL._SY88.jpg'],\n",
              "  'styles': {'Size:': ' 34 oz.', 'Package Type:': ' Standard Packaging'}},\n",
              " {'rating': 1.0,\n",
              "  'reviewer_name': 'Andrew Furlong',\n",
              "  'product_id': 'B00005MF9C',\n",
              "  'review_title': 'but instead ran along the underside of the part of the maker that holds the grounds and finally dropping at an angle at which a',\n",
              "  'review_time': '02 22, 2017',\n",
              "  'images': ['https://images-na.ssl-images-amazon.com/images/I/71kh1XatynL._SY88.jpg'],\n",
              "  'styles': {'Color:': ' Black/Stainless Steel'}},\n",
              " {'rating': 2.0,\n",
              "  'reviewer_name': 'fred o.',\n",
              "  'product_id': 'B00005MF9C',\n",
              "  'review_title': 'Good purchase',\n",
              "  'review_time': '09 4, 2016',\n",
              "  'images': ['https://images-na.ssl-images-amazon.com/images/I/71tRehtvN+L._SY88.jpg',\n",
              "   'https://images-na.ssl-images-amazon.com/images/I/719K20U+MaL._SY88.jpg',\n",
              "   'https://images-na.ssl-images-amazon.com/images/I/71jd6yc1GdL._SY88.jpg'],\n",
              "  'styles': {'Color:': ' Black/White'}},\n",
              " {'rating': 1.0,\n",
              "  'reviewer_name': 'fifrox',\n",
              "  'product_id': 'B00005MF9C',\n",
              "  'review_title': 'Works great for a week then fails!',\n",
              "  'review_time': '03 10, 2016',\n",
              "  'images': ['https://images-na.ssl-images-amazon.com/images/I/81QVkUT4hdL._SY88.jpg'],\n",
              "  'styles': {'Color:': ' Black/Stainless Steel'}},\n",
              " {'rating': 1.0,\n",
              "  'reviewer_name': 'cas',\n",
              "  'product_id': 'B00005NCWQ',\n",
              "  'review_title': 'Garbage!!!',\n",
              "  'review_time': '03 26, 2018',\n",
              "  'images': ['https://images-na.ssl-images-amazon.com/images/I/71Bxydi3DQL._SY88.jpg'],\n",
              "  'styles': {'Size:': ' 8-Cup'}},\n",
              " {'rating': 1.0,\n",
              "  'reviewer_name': 'GoClick',\n",
              "  'product_id': 'B00005OTXM',\n",
              "  'review_title': 'Returned - produced revolting burnt plastic flavored coffee, and seemed flawed.',\n",
              "  'review_time': '04 16, 2015',\n",
              "  'images': ['https://images-na.ssl-images-amazon.com/images/I/71o+7Zru+iL._SY88.jpg',\n",
              "   'https://images-na.ssl-images-amazon.com/images/I/81sbfP4tc8L._SY88.jpg',\n",
              "   'https://images-na.ssl-images-amazon.com/images/I/71vhOebyGaL._SY88.jpg'],\n",
              "  'styles': {'Style Name:': ' COFFEE MAKER ONLY'}},\n",
              " {'rating': 2.0,\n",
              "  'reviewer_name': 'Picks n Pans',\n",
              "  'product_id': 'B00006F2LW',\n",
              "  'review_title': 'Cracked lid out of the box',\n",
              "  'review_time': '02 27, 2008',\n",
              "  'images': ['https://images-na.ssl-images-amazon.com/images/I/317fvUiuNDL._SY88.jpg'],\n",
              "  'styles': {'Color:': ' Black'}},\n",
              " {'rating': 2.0,\n",
              "  'reviewer_name': 'LMM',\n",
              "  'product_id': 'B00008ELEA',\n",
              "  'review_title': 'smelled like the cord was burning',\n",
              "  'review_time': '06 6, 2016',\n",
              "  'images': ['https://images-na.ssl-images-amazon.com/images/I/51xXENQhIGL._SY88.jpg'],\n",
              "  'styles': {'Size:': ' 4-Cup'}},\n",
              " {'rating': 1.0,\n",
              "  'reviewer_name': 'Marcia S.',\n",
              "  'product_id': 'B0000A1ZMS',\n",
              "  'review_title': 'Look what happened to this once great Cuisinart coffeemaker.',\n",
              "  'review_time': '11 12, 2016',\n",
              "  'images': ['https://images-na.ssl-images-amazon.com/images/I/51B8eue4nHL._SY88.jpg',\n",
              "   'https://images-na.ssl-images-amazon.com/images/I/519NziREFIL._SY88.jpg',\n",
              "   'https://images-na.ssl-images-amazon.com/images/I/51v+A1zWqTL._SY88.jpg'],\n",
              "  'styles': {'Color:': ' Black', 'Style Name:': ' Coffeemaker'}},\n",
              " {'rating': 2.0,\n",
              "  'reviewer_name': 'Jimmie',\n",
              "  'product_id': 'B0000A1ZMS',\n",
              "  'review_title': 'Leaks and more',\n",
              "  'review_time': '01 13, 2011',\n",
              "  'images': ['https://images-na.ssl-images-amazon.com/images/I/51U4K+PzETL._SY88.jpg'],\n",
              "  'styles': {'Color:': ' Black', 'Style Name:': ' Coffeemaker'}}]"
            ]
          },
          "metadata": {},
          "execution_count": 31
        }
      ],
      "source": [
        "# Run this cell without changes\n",
        "list(filter(is_negative, reviews))"
      ]
    },
    {
      "cell_type": "markdown",
      "metadata": {
        "id": "QH4FGPzsbL34"
      },
      "source": [
        "Write a function called `get_negative_reviews` that returns a list of these reviews. It should take the list of all reviews as an argument.\n",
        "\n",
        "(This can be a one-line function.)"
      ]
    },
    {
      "cell_type": "code",
      "execution_count": 32,
      "metadata": {
        "id": "IyTZktBWbL34",
        "outputId": "3ba61611-9640-4af5-ecdd-d4f3b6512332",
        "colab": {
          "base_uri": "https://localhost:8080/"
        }
      },
      "outputs": [
        {
          "output_type": "execute_result",
          "data": {
            "text/plain": [
              "15"
            ]
          },
          "metadata": {},
          "execution_count": 32
        }
      ],
      "source": [
        "# Your code here\n",
        "def get_negative_reviews(reviews):\n",
        "  negative_revs = []\n",
        "  for rev in reviews:\n",
        "    if rev[\"rating\"] <=2:\n",
        "      negative_revs.append(rev)\n",
        "  return negative_revs\n",
        "\n",
        "\n",
        "len(get_negative_reviews(reviews)) # 15"
      ]
    },
    {
      "cell_type": "markdown",
      "metadata": {
        "id": "0_xuuOYNbL34"
      },
      "source": [
        "### Sampling\n",
        "\n",
        "Again, since we have a relatively small dataset, we could just look at all 15 reviews. But let's take a more scalable approach instead, and take a random sample of negative reviews.\n",
        "\n",
        "Recall the `random` module, which must be imported:"
      ]
    },
    {
      "cell_type": "code",
      "execution_count": 33,
      "metadata": {
        "id": "_VOMToLpbL34"
      },
      "outputs": [],
      "source": [
        "# Run this cell without changes\n",
        "import random"
      ]
    },
    {
      "cell_type": "markdown",
      "metadata": {
        "id": "QH_83cVVbL34"
      },
      "source": [
        "We'll use the `random.sample()` function, which takes in a collection and a number, and returns that number of elements from the collection.\n",
        "\n",
        "So, for example, if we want 3 negative reviews:"
      ]
    },
    {
      "cell_type": "code",
      "execution_count": 34,
      "metadata": {
        "id": "qKRuFQtubL34",
        "outputId": "b4361e00-34f6-41e4-ec13-5c223d84da78",
        "colab": {
          "base_uri": "https://localhost:8080/"
        }
      },
      "outputs": [
        {
          "output_type": "execute_result",
          "data": {
            "text/plain": [
              "[{'rating': 1.0,\n",
              "  'reviewer_name': 'GoClick',\n",
              "  'product_id': 'B00005OTXM',\n",
              "  'review_title': 'Returned - produced revolting burnt plastic flavored coffee, and seemed flawed.',\n",
              "  'review_time': '04 16, 2015',\n",
              "  'images': ['https://images-na.ssl-images-amazon.com/images/I/71o+7Zru+iL._SY88.jpg',\n",
              "   'https://images-na.ssl-images-amazon.com/images/I/81sbfP4tc8L._SY88.jpg',\n",
              "   'https://images-na.ssl-images-amazon.com/images/I/71vhOebyGaL._SY88.jpg'],\n",
              "  'styles': {'Style Name:': ' COFFEE MAKER ONLY'}},\n",
              " {'rating': 2.0,\n",
              "  'reviewer_name': 'Jimmie',\n",
              "  'product_id': 'B0000A1ZMS',\n",
              "  'review_title': 'Leaks and more',\n",
              "  'review_time': '01 13, 2011',\n",
              "  'images': ['https://images-na.ssl-images-amazon.com/images/I/51U4K+PzETL._SY88.jpg'],\n",
              "  'styles': {'Color:': ' Black', 'Style Name:': ' Coffeemaker'}},\n",
              " {'rating': 2.0,\n",
              "  'reviewer_name': 'Picks n Pans',\n",
              "  'product_id': 'B00006F2LW',\n",
              "  'review_title': 'Cracked lid out of the box',\n",
              "  'review_time': '02 27, 2008',\n",
              "  'images': ['https://images-na.ssl-images-amazon.com/images/I/317fvUiuNDL._SY88.jpg'],\n",
              "  'styles': {'Color:': ' Black'}}]"
            ]
          },
          "metadata": {},
          "execution_count": 34
        }
      ],
      "source": [
        "# Run this cell without changes\n",
        "# You can run as many times as you want, to see different sample examples\n",
        "random.sample(get_negative_reviews(reviews), 3)"
      ]
    },
    {
      "cell_type": "markdown",
      "metadata": {
        "id": "9nZ0giAHbL34"
      },
      "source": [
        "Now, put that code into a function `get_negative_review_sample`. This function should take a list of reviews and the number of samples to select, and should return a sample of negative reviews.\n",
        "\n",
        "(You can assume that `num_samples` is a valid number. The number of samples must be less than or equal to the number of elements in the collection.)"
      ]
    },
    {
      "cell_type": "code",
      "execution_count": 60,
      "metadata": {
        "id": "-m4mgwe4bL34",
        "outputId": "87b9c41c-a060-45d6-97fc-69faed494907",
        "colab": {
          "base_uri": "https://localhost:8080/"
        }
      },
      "outputs": [
        {
          "output_type": "execute_result",
          "data": {
            "text/plain": [
              "[{'rating': 1.0,\n",
              "  'reviewer_name': 'fifrox',\n",
              "  'product_id': 'B00005MF9C',\n",
              "  'review_title': 'Works great for a week then fails!',\n",
              "  'review_time': '03 10, 2016',\n",
              "  'images': ['https://images-na.ssl-images-amazon.com/images/I/81QVkUT4hdL._SY88.jpg'],\n",
              "  'styles': {'Color:': ' Black/Stainless Steel'}},\n",
              " {'rating': 1.0,\n",
              "  'reviewer_name': 'Andrew Furlong',\n",
              "  'product_id': 'B00005MF9C',\n",
              "  'review_title': 'but instead ran along the underside of the part of the maker that holds the grounds and finally dropping at an angle at which a',\n",
              "  'review_time': '02 22, 2017',\n",
              "  'images': ['https://images-na.ssl-images-amazon.com/images/I/71kh1XatynL._SY88.jpg'],\n",
              "  'styles': {'Color:': ' Black/Stainless Steel'}},\n",
              " {'rating': 1.0,\n",
              "  'reviewer_name': 'Marcia S.',\n",
              "  'product_id': 'B0000A1ZMS',\n",
              "  'review_title': 'Look what happened to this once great Cuisinart coffeemaker.',\n",
              "  'review_time': '11 12, 2016',\n",
              "  'images': ['https://images-na.ssl-images-amazon.com/images/I/51B8eue4nHL._SY88.jpg',\n",
              "   'https://images-na.ssl-images-amazon.com/images/I/519NziREFIL._SY88.jpg',\n",
              "   'https://images-na.ssl-images-amazon.com/images/I/51v+A1zWqTL._SY88.jpg'],\n",
              "  'styles': {'Color:': ' Black', 'Style Name:': ' Coffeemaker'}},\n",
              " {'rating': 1.0,\n",
              "  'reviewer_name': 'Maria Fernandez',\n",
              "  'product_id': 'B00004RFRV',\n",
              "  'review_title': 'Is it a Bialetti? Came dirty with coffee grounds.',\n",
              "  'review_time': '03 22, 2015',\n",
              "  'images': ['https://images-na.ssl-images-amazon.com/images/I/71aPg3ZuCzL._SY88.jpg',\n",
              "   'https://images-na.ssl-images-amazon.com/images/I/71-2keZacOL._SY88.jpg',\n",
              "   'https://images-na.ssl-images-amazon.com/images/I/71Z4C4G-0dL._SY88.jpg'],\n",
              "  'styles': {'Size:': ' 6-Cup', 'Color:': ' Silver'}}]"
            ]
          },
          "metadata": {},
          "execution_count": 60
        }
      ],
      "source": [
        "def get_negative_review_sample(review_list, num_samples):\n",
        "    # Replace None with appropriate code\n",
        "    return random.sample(get_negative_reviews(review_list),num_samples)\n",
        "\n",
        "get_negative_review_sample(reviews, 4)"
      ]
    },
    {
      "cell_type": "markdown",
      "metadata": {
        "id": "jY-1XO6ZbL34"
      },
      "source": [
        "Repeat the same process for positive reviews. That means we need:\n",
        "\n",
        "1. A helper function `is_positive` (this can't just be `not is_negative` since neutral reviews are neither)\n",
        "2. A function `get_positive_reviews` which returns a list of all positive reviews\n",
        "3. A function `get_positive_review_sample` which returns a sample of positive reviews with the specified length"
      ]
    },
    {
      "cell_type": "code",
      "execution_count": 40,
      "metadata": {
        "id": "vr7SJaTNbL34",
        "outputId": "92d26663-8caf-4de7-dfcb-fa438e2bb8d7",
        "colab": {
          "base_uri": "https://localhost:8080/"
        }
      },
      "outputs": [
        {
          "output_type": "execute_result",
          "data": {
            "text/plain": [
              "[{'rating': 5.0,\n",
              "  'reviewer_name': 'mamacarla',\n",
              "  'product_id': 'B0000A1ZMS',\n",
              "  'review_title': 'Cute, functional',\n",
              "  'review_time': '01 3, 2014',\n",
              "  'images': ['https://images-na.ssl-images-amazon.com/images/I/71hUhHKHgQL._SY88.jpg'],\n",
              "  'styles': {'Color:': ' Pink', 'Style Name:': ' Coffeemaker'}},\n",
              " {'rating': 4.0,\n",
              "  'reviewer_name': 'Honest Rating',\n",
              "  'product_id': 'B00005LM0V',\n",
              "  'review_title': 'absolutely gorgeous!',\n",
              "  'review_time': '04 3, 2012',\n",
              "  'images': ['https://images-na.ssl-images-amazon.com/images/I/716bNNBjFSL._SY88.png'],\n",
              "  'styles': {'Size:': ' 34 oz.', 'Color:': ' Gold'}},\n",
              " {'rating': 4.0,\n",
              "  'reviewer_name': 'Kort',\n",
              "  'product_id': 'B00006IZY5',\n",
              "  'review_title': 'Good Gift For A Coffee Connoisseur On Your List',\n",
              "  'review_time': '10 5, 2017',\n",
              "  'images': ['https://images-na.ssl-images-amazon.com/images/I/71gkR6uADvL._SY88.jpg',\n",
              "   'https://images-na.ssl-images-amazon.com/images/I/61EFi0ZC8AL._SY88.jpg',\n",
              "   'https://images-na.ssl-images-amazon.com/images/I/71R4QHP3XKL._SY88.jpg'],\n",
              "  'styles': {'Style Name:': ' Travel Mug'}},\n",
              " {'rating': 5.0,\n",
              "  'reviewer_name': 'Bill',\n",
              "  'product_id': 'B0000A1ZMS',\n",
              "  'review_title': \"Nothin' Wrong This!\",\n",
              "  'review_time': '03 26, 2017',\n",
              "  'images': ['https://images-na.ssl-images-amazon.com/images/I/71SeAR4TQpL._SY88.jpg',\n",
              "   'https://images-na.ssl-images-amazon.com/images/I/713OdFQilbL._SY88.jpg'],\n",
              "  'styles': {'Color:': ' Black', 'Style Name:': ' Coffeemaker'}}]"
            ]
          },
          "metadata": {},
          "execution_count": 40
        }
      ],
      "source": [
        "# Your code here\n",
        "# Your code here\n",
        "def get_positive_reviews(reviews):\n",
        "  positive_revs = []\n",
        "  for rev in reviews:\n",
        "    if rev[\"rating\"] >=4:\n",
        "      positive_revs.append(rev)\n",
        "  return positive_revs\n",
        "\n",
        "def get_positive_review_sample(review_list, num_samples):\n",
        "    # Replace None with appropriate code\n",
        "    return random.sample(get_positive_reviews(review_list),num_samples)\n",
        "\n",
        "\n",
        "len(get_positive_reviews(reviews)) # 15\n",
        "get_positive_review_sample(reviews, 4)"
      ]
    },
    {
      "cell_type": "markdown",
      "metadata": {
        "id": "JJWDoWkYbL34"
      },
      "source": [
        "## Individual Review Summary\n",
        "\n",
        "In addition to summarizing the dataset overall and sampling based on criteria, we want the user to be able to query any given record in order to view a summary. Before, we created a variable called `review_index` that the user could modify. Now, let's write some reusable code that doesn't require the user to write any Python at all!\n",
        "\n",
        "Recall that before, our final code looked something like this:"
      ]
    },
    {
      "cell_type": "code",
      "execution_count": 41,
      "metadata": {
        "id": "ugcH0MG3bL34",
        "outputId": "d11977b3-6e86-4056-a577-66e7137f7666",
        "colab": {
          "base_uri": "https://localhost:8080/"
        }
      },
      "outputs": [
        {
          "output_type": "stream",
          "name": "stdout",
          "text": [
            "\"Bialetti is the Best!\": This was a positive review written by Karen in 2017.\n"
          ]
        }
      ],
      "source": [
        "# Run this cell without changes\n",
        "\n",
        "review_index = 2\n",
        "\n",
        "# Extract review from list of reviews\n",
        "selected_review = reviews[review_index]\n",
        "\n",
        "# Extract title\n",
        "selected_review_title = selected_review[\"review_title\"]\n",
        "\n",
        "# Extract rating and format as positive, negative, or neutral\n",
        "selected_rating = selected_review[\"rating\"]\n",
        "if selected_rating >= 4:\n",
        "    selected_sentiment = \"positive\"\n",
        "elif selected_rating <= 2:\n",
        "    selected_sentiment = \"negative\"\n",
        "else:\n",
        "    selected_sentiment = \"neutral\"\n",
        "\n",
        "# Extract author\n",
        "selected_author = selected_review[\"reviewer_name\"]\n",
        "\n",
        "# Extract year (doesn't need to be int for this use case)\n",
        "selected_year = selected_review[\"review_time\"][-4:]\n",
        "\n",
        "print(f'\"{selected_review_title}\": This was a {selected_sentiment} review written by {selected_author} in {selected_year}.')"
      ]
    },
    {
      "cell_type": "markdown",
      "metadata": {
        "id": "--PcWE6UbL35"
      },
      "source": [
        "Rewrite that code as a function called `get_review_summary`, which takes a review dictionary as an argument, and returns a string that resembles the previous summary string, e.g.\n",
        "\n",
        "```\n",
        "\"Bialetti is the Best!\": This was a positive review written by Karen in 2017.\n",
        "```\n",
        "\n",
        "*Hint: look back at the functions you have previously written to see which ones might be useful to call within this function!*"
      ]
    },
    {
      "cell_type": "code",
      "execution_count": 57,
      "metadata": {
        "id": "s_rvySJ4bL35",
        "outputId": "3643b4d4-47dd-4475-c9eb-e36aef9cb713",
        "colab": {
          "base_uri": "https://localhost:8080/",
          "height": 36
        }
      },
      "outputs": [
        {
          "output_type": "execute_result",
          "data": {
            "text/plain": [
              "'\"Bialetti is the Best!\": This was a positive review written by Karen in 2017.'"
            ],
            "application/vnd.google.colaboratory.intrinsic+json": {
              "type": "string"
            }
          },
          "metadata": {},
          "execution_count": 57
        }
      ],
      "source": [
        "# Your code here\n",
        "def get_review_summary(selected_review):\n",
        " selected_review_title = selected_review[\"review_title\"]\n",
        "\n",
        " # Extract rating and format as positive, negative, or neutral\n",
        " selected_rating = selected_review[\"rating\"]\n",
        " if selected_rating >= 4:\n",
        "    selected_sentiment = \"positive\"\n",
        " elif selected_rating <= 2:\n",
        "    selected_sentiment = \"negative\"\n",
        " else:\n",
        "    selected_sentiment = \"neutral\"\n",
        "\n",
        " # Extract author\n",
        " selected_author = selected_review[\"reviewer_name\"]\n",
        "\n",
        " # Extract year (doesn't need to be int for this use case)\n",
        " selected_year = selected_review[\"review_time\"][-4:]\n",
        "\n",
        " return f'\"{selected_review_title}\": This was a {selected_sentiment} review written by {selected_author} in {selected_year}.'\n",
        "\n",
        "get_review_summary(reviews[2]) # \"Bialetti is the Best!\": This was a positive review written by Karen in 2017."
      ]
    },
    {
      "cell_type": "markdown",
      "metadata": {
        "id": "qGKA2Fo8bL35"
      },
      "source": [
        "Now, instead of copying and pasting that every time, we can just call it repeatedly!\n",
        "\n",
        "Write a function that prompts the user to enter a review index, then prints the relevant review summary. The function should be called `review_summary_prompt`, it should take a list of reviews as an argument, and should print information but not return anything.\n",
        "\n",
        "Display the message `\"Please enter a review index: \"` when prompting for input. You can assume that the user will enter a valid index between 0 and 85.\n",
        "\n",
        "Hints:\n",
        "\n",
        " - Use the built-in `input()` function ([check the documentation here to see how to use it!](https://docs.python.org/3/library/functions.html#input))\n",
        " - Remember that this function always returns a string, so you will have to convert the user-supplied index into an integer, otherwise you'll get the error `TypeError: list indices must be integers or slices, not str`\n",
        " - If you're wondering about the type of a given variable, you can use the built-in `type()` function"
      ]
    },
    {
      "cell_type": "code",
      "execution_count": 48,
      "metadata": {
        "id": "pddvarNSbL35"
      },
      "outputs": [],
      "source": [
        "def review_summary_prompt(list_of_reviews):\n",
        "   # Replace None with appropriate code\n",
        "   index = int(input(\"Please enter a review Index Between 0 and 85\\t \"))\n",
        "   # Extract rating and format as positive, negative, or neutral\n",
        "   selected_review = list_of_reviews[index]\n",
        "   selected_review_title = selected_review[\"review_title\"]\n",
        "   selected_rating = selected_review[\"rating\"]\n",
        "   if selected_rating >= 4:\n",
        "    selected_sentiment = \"positive\"\n",
        "   elif selected_rating <= 2:\n",
        "    selected_sentiment = \"negative\"\n",
        "   else:\n",
        "    selected_sentiment = \"neutral\"\n",
        "\n",
        "   # Extract author\n",
        "   selected_author = selected_review[\"reviewer_name\"]\n",
        "\n",
        "   # Extract year (doesn't need to be int for this use case)\n",
        "   selected_year = selected_review[\"review_time\"][-4:]\n",
        "\n",
        "   print(f'\"{selected_review_title}\": This was a {selected_sentiment} review written by {selected_author} in {selected_year}.')\n",
        "\n"
      ]
    },
    {
      "cell_type": "markdown",
      "metadata": {
        "id": "QHooffLObL35"
      },
      "source": [
        "Run this cell, and try entering 2, 4, 52 (examples of positive, negative, neutral reviews)\n",
        "\n",
        "You can also try any index you want, between 0 and 85!"
      ]
    },
    {
      "cell_type": "code",
      "execution_count": 49,
      "metadata": {
        "id": "9g74CafpbL35",
        "outputId": "ba4574d7-5fac-4bf1-801f-d9b30664230d",
        "colab": {
          "base_uri": "https://localhost:8080/"
        }
      },
      "outputs": [
        {
          "output_type": "stream",
          "name": "stdout",
          "text": [
            "Please enter a review Index Between 0 and 85\t 2\n",
            "\"Bialetti is the Best!\": This was a positive review written by Karen in 2017.\n"
          ]
        }
      ],
      "source": [
        "# Run this cell without changes\n",
        "review_summary_prompt(reviews)"
      ]
    },
    {
      "cell_type": "code",
      "source": [
        "# Run this cell without changes\n",
        "review_summary_prompt(reviews)"
      ],
      "metadata": {
        "id": "ML6j4f9Y8aoy",
        "outputId": "2dc01cc6-5ef9-46b6-9568-78636d7c7e6e",
        "colab": {
          "base_uri": "https://localhost:8080/"
        }
      },
      "execution_count": 50,
      "outputs": [
        {
          "output_type": "stream",
          "name": "stdout",
          "text": [
            "Please enter a review Index Between 0 and 85\t 4\n",
            "\"Rusted spots everywhere fresh out the box...nasty\": This was a negative review written by EJ in 2017.\n"
          ]
        }
      ]
    },
    {
      "cell_type": "code",
      "source": [
        "# Run this cell without changes\n",
        "review_summary_prompt(reviews)"
      ],
      "metadata": {
        "id": "AH1kjLjO8g7s",
        "outputId": "a0dc582e-8bc0-4d72-f41d-d0f20a8df550",
        "colab": {
          "base_uri": "https://localhost:8080/"
        }
      },
      "execution_count": 51,
      "outputs": [
        {
          "output_type": "stream",
          "name": "stdout",
          "text": [
            "Please enter a review Index Between 0 and 85\t 52\n",
            "\"Simple, 4 cup coffee maker, looks nice, difficult basket hinge\": This was a neutral review written by Donald E. Fulton in 2012.\n"
          ]
        }
      ]
    },
    {
      "cell_type": "markdown",
      "metadata": {
        "id": "erTDbYq9bL35"
      },
      "source": [
        "## Putting It All Together\n",
        "\n",
        "In this section, we are just calling several of the previously-created functions to double-check that they are working as expected. You do not need to write any more code, although if you notice something wrong with one of your functions you can go back and fix it!  Just make sure that you re-run the cell declaring the function if you want the behavior of calling the function to change.\n",
        "\n",
        "### Data Summary"
      ]
    },
    {
      "cell_type": "code",
      "execution_count": 52,
      "metadata": {
        "id": "89rFCcjzbL35",
        "outputId": "74b82a0b-cad1-4720-b2af-de04ab3d018c",
        "colab": {
          "base_uri": "https://localhost:8080/"
        }
      },
      "outputs": [
        {
          "output_type": "stream",
          "name": "stdout",
          "text": [
            "The coffee product review dataset contains 86 reviews\n",
            "\n",
            "Review sentiment:\n",
            "67 positive reviews\n",
            "15 negative reviews\n",
            "4 neutral reviews\n",
            "\n",
            "Review years:\n",
            "[2007, 2008, 2009, 2011, 2012, 2013, 2014, 2015, 2016, 2017, 2018]\n"
          ]
        }
      ],
      "source": [
        "# Run this cell without changes\n",
        "\n",
        "print(f\"The coffee product review dataset contains {len(reviews)} reviews\")\n",
        "print()\n",
        "print(\"Review sentiment:\")\n",
        "for key, value in get_sentiment_counts(reviews).items():\n",
        "    print(f\"{value} {key} reviews\")\n",
        "print()\n",
        "print(\"Review years:\")\n",
        "print(get_years(reviews))"
      ]
    },
    {
      "cell_type": "markdown",
      "metadata": {
        "id": "r46jQVITbL35"
      },
      "source": [
        "### Subset Samples"
      ]
    },
    {
      "cell_type": "code",
      "execution_count": 61,
      "metadata": {
        "id": "3ftWIfaObL35",
        "outputId": "eeaa1493-0a5a-46b7-baf6-27dbaf99ed1b",
        "colab": {
          "base_uri": "https://localhost:8080/"
        }
      },
      "outputs": [
        {
          "output_type": "stream",
          "name": "stdout",
          "text": [
            "Examples of positive reviews:\n",
            "\"Clean look.\": This was a positive review written by Amazon Customer in 2017.\n",
            "\"Delicious results from a wonderfully simple Bialetti Moka Express!\": This was a positive review written by Maverick in 2017.\n",
            "\"Awesome product...great price!\": This was a positive review written by Julie Freeman in 2016.\n",
            "\"Smooo---ooo----oooo--th!!\": This was a positive review written by Jonathan Sabin in 2007.\n",
            "\"... yet but bought what I think will be a better mug because it's stainless inside & out unlike the ...\": This was a positive review written by Jan in 2017.\n",
            "\n",
            "Examples of negative reviews:\n",
            "\"Too much waste\": This was a negative review written by SAinVA in 2017.\n",
            "\"Look what happened to this once great Cuisinart coffeemaker.\": This was a negative review written by Marcia S. in 2016.\n",
            "\"Leaks and more\": This was a negative review written by Jimmie in 2011.\n",
            "\"Cracked lid out of the box\": This was a negative review written by Picks n Pans in 2008.\n",
            "\"smelled like the cord was burning\": This was a negative review written by LMM in 2016.\n"
          ]
        }
      ],
      "source": [
        "# Run this cell without changes\n",
        "\n",
        "print(\"Examples of positive reviews:\")\n",
        "positive_samples = get_positive_review_sample(reviews, 5)\n",
        "for review in positive_samples:\n",
        "    print(get_review_summary(review))\n",
        "print()\n",
        "print(\"Examples of negative reviews:\")\n",
        "negative_samples = get_negative_review_sample(reviews, 5)\n",
        "for review in negative_samples:\n",
        "    print(get_review_summary(review))"
      ]
    },
    {
      "cell_type": "markdown",
      "metadata": {
        "id": "6fmRqbKObL35"
      },
      "source": [
        "### Summary Prompt"
      ]
    },
    {
      "cell_type": "code",
      "execution_count": 54,
      "metadata": {
        "id": "43YzZYvhbL35",
        "outputId": "db27db6a-04c9-438d-c897-cc7c155ee3c4",
        "colab": {
          "base_uri": "https://localhost:8080/"
        }
      },
      "outputs": [
        {
          "output_type": "stream",
          "name": "stdout",
          "text": [
            "Please enter a review Index Between 0 and 85\t 6\n",
            "\"LUV IT!!!\": This was a positive review written by ArmiWyf in 2016.\n"
          ]
        }
      ],
      "source": [
        "# Run this cell without changes\n",
        "review_summary_prompt(reviews)"
      ]
    },
    {
      "cell_type": "markdown",
      "metadata": {
        "id": "RpABRC-4bL36"
      },
      "source": [
        "## Conclusion\n",
        "\n",
        "Congratulations, you made it to the end of another cumulative lab! In this lab you practiced refactoring previously-written code to use functions, and using loops to avoid repetition and perform analyses of the whole dataset as well as certain subsets."
      ]
    }
  ],
  "metadata": {
    "kernelspec": {
      "display_name": "Python (learn-env)",
      "language": "python",
      "name": "learn-env"
    },
    "language_info": {
      "codemirror_mode": {
        "name": "ipython",
        "version": 3
      },
      "file_extension": ".py",
      "mimetype": "text/x-python",
      "name": "python",
      "nbconvert_exporter": "python",
      "pygments_lexer": "ipython3",
      "version": "3.8.5"
    },
    "colab": {
      "provenance": [],
      "include_colab_link": true
    }
  },
  "nbformat": 4,
  "nbformat_minor": 0
}